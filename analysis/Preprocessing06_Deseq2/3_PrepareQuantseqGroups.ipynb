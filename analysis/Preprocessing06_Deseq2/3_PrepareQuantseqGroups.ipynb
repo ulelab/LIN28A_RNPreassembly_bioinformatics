{
 "cells": [
  {
   "cell_type": "code",
   "execution_count": 1,
   "metadata": {},
   "outputs": [],
   "source": [
    "import pandas as pd\n",
    "import numpy as np\n",
    "import seaborn as sns\n",
    "import os\n",
    "import matplotlib.pyplot as plt\n",
    "from matplotlib_venn import venn2\n",
    "import pyranges as pr\n",
    "from scipy.stats import ks_2samp, epps_singleton_2samp\n",
    "from statannotations.Annotator import Annotator"
   ]
  },
  {
   "cell_type": "code",
   "execution_count": 2,
   "metadata": {},
   "outputs": [],
   "source": [
    "# Annotation\n",
    "gtf = pr.read_gtf('../../data/genomes/GRCm38/gencode.vM22.primary_assembly.annotation.gtf', as_df=True)"
   ]
  },
  {
   "cell_type": "code",
   "execution_count": 3,
   "metadata": {},
   "outputs": [
    {
     "data": {
      "text/html": [
       "<div>\n",
       "<style scoped>\n",
       "    .dataframe tbody tr th:only-of-type {\n",
       "        vertical-align: middle;\n",
       "    }\n",
       "\n",
       "    .dataframe tbody tr th {\n",
       "        vertical-align: top;\n",
       "    }\n",
       "\n",
       "    .dataframe thead th {\n",
       "        text-align: right;\n",
       "    }\n",
       "</style>\n",
       "<table border=\"1\" class=\"dataframe\">\n",
       "  <thead>\n",
       "    <tr style=\"text-align: right;\">\n",
       "      <th></th>\n",
       "      <th>Chromosome</th>\n",
       "      <th>Source</th>\n",
       "      <th>Feature</th>\n",
       "      <th>Start</th>\n",
       "      <th>End</th>\n",
       "      <th>Score</th>\n",
       "      <th>Strand</th>\n",
       "      <th>Frame</th>\n",
       "      <th>gene_id</th>\n",
       "      <th>gene_type</th>\n",
       "      <th>...</th>\n",
       "      <th>transcript_type</th>\n",
       "      <th>transcript_name</th>\n",
       "      <th>transcript_support_level</th>\n",
       "      <th>tag</th>\n",
       "      <th>havana_transcript</th>\n",
       "      <th>exon_number</th>\n",
       "      <th>exon_id</th>\n",
       "      <th>protein_id</th>\n",
       "      <th>ccdsid</th>\n",
       "      <th>ont</th>\n",
       "    </tr>\n",
       "  </thead>\n",
       "  <tbody>\n",
       "    <tr>\n",
       "      <th>0</th>\n",
       "      <td>chr1</td>\n",
       "      <td>HAVANA</td>\n",
       "      <td>gene</td>\n",
       "      <td>3073252</td>\n",
       "      <td>3074322</td>\n",
       "      <td>.</td>\n",
       "      <td>+</td>\n",
       "      <td>.</td>\n",
       "      <td>ENSMUSG00000102693.1</td>\n",
       "      <td>TEC</td>\n",
       "      <td>...</td>\n",
       "      <td>NaN</td>\n",
       "      <td>NaN</td>\n",
       "      <td>NaN</td>\n",
       "      <td>NaN</td>\n",
       "      <td>NaN</td>\n",
       "      <td>NaN</td>\n",
       "      <td>NaN</td>\n",
       "      <td>NaN</td>\n",
       "      <td>NaN</td>\n",
       "      <td>NaN</td>\n",
       "    </tr>\n",
       "    <tr>\n",
       "      <th>1</th>\n",
       "      <td>chr1</td>\n",
       "      <td>HAVANA</td>\n",
       "      <td>transcript</td>\n",
       "      <td>3073252</td>\n",
       "      <td>3074322</td>\n",
       "      <td>.</td>\n",
       "      <td>+</td>\n",
       "      <td>.</td>\n",
       "      <td>ENSMUSG00000102693.1</td>\n",
       "      <td>TEC</td>\n",
       "      <td>...</td>\n",
       "      <td>TEC</td>\n",
       "      <td>4933401J01Rik-201</td>\n",
       "      <td>NA</td>\n",
       "      <td>basic</td>\n",
       "      <td>OTTMUST00000127109.1</td>\n",
       "      <td>NaN</td>\n",
       "      <td>NaN</td>\n",
       "      <td>NaN</td>\n",
       "      <td>NaN</td>\n",
       "      <td>NaN</td>\n",
       "    </tr>\n",
       "    <tr>\n",
       "      <th>2</th>\n",
       "      <td>chr1</td>\n",
       "      <td>HAVANA</td>\n",
       "      <td>exon</td>\n",
       "      <td>3073252</td>\n",
       "      <td>3074322</td>\n",
       "      <td>.</td>\n",
       "      <td>+</td>\n",
       "      <td>.</td>\n",
       "      <td>ENSMUSG00000102693.1</td>\n",
       "      <td>TEC</td>\n",
       "      <td>...</td>\n",
       "      <td>TEC</td>\n",
       "      <td>4933401J01Rik-201</td>\n",
       "      <td>NA</td>\n",
       "      <td>basic</td>\n",
       "      <td>OTTMUST00000127109.1</td>\n",
       "      <td>1</td>\n",
       "      <td>ENSMUSE00001343744.1</td>\n",
       "      <td>NaN</td>\n",
       "      <td>NaN</td>\n",
       "      <td>NaN</td>\n",
       "    </tr>\n",
       "    <tr>\n",
       "      <th>3</th>\n",
       "      <td>chr1</td>\n",
       "      <td>ENSEMBL</td>\n",
       "      <td>gene</td>\n",
       "      <td>3102015</td>\n",
       "      <td>3102125</td>\n",
       "      <td>.</td>\n",
       "      <td>+</td>\n",
       "      <td>.</td>\n",
       "      <td>ENSMUSG00000064842.1</td>\n",
       "      <td>snRNA</td>\n",
       "      <td>...</td>\n",
       "      <td>NaN</td>\n",
       "      <td>NaN</td>\n",
       "      <td>NaN</td>\n",
       "      <td>NaN</td>\n",
       "      <td>NaN</td>\n",
       "      <td>NaN</td>\n",
       "      <td>NaN</td>\n",
       "      <td>NaN</td>\n",
       "      <td>NaN</td>\n",
       "      <td>NaN</td>\n",
       "    </tr>\n",
       "    <tr>\n",
       "      <th>4</th>\n",
       "      <td>chr1</td>\n",
       "      <td>ENSEMBL</td>\n",
       "      <td>transcript</td>\n",
       "      <td>3102015</td>\n",
       "      <td>3102125</td>\n",
       "      <td>.</td>\n",
       "      <td>+</td>\n",
       "      <td>.</td>\n",
       "      <td>ENSMUSG00000064842.1</td>\n",
       "      <td>snRNA</td>\n",
       "      <td>...</td>\n",
       "      <td>snRNA</td>\n",
       "      <td>Gm26206-201</td>\n",
       "      <td>NA</td>\n",
       "      <td>basic</td>\n",
       "      <td>NaN</td>\n",
       "      <td>NaN</td>\n",
       "      <td>NaN</td>\n",
       "      <td>NaN</td>\n",
       "      <td>NaN</td>\n",
       "      <td>NaN</td>\n",
       "    </tr>\n",
       "  </tbody>\n",
       "</table>\n",
       "<p>5 rows × 25 columns</p>\n",
       "</div>"
      ],
      "text/plain": [
       "  Chromosome   Source     Feature    Start      End Score Strand Frame  \\\n",
       "0       chr1   HAVANA        gene  3073252  3074322     .      +     .   \n",
       "1       chr1   HAVANA  transcript  3073252  3074322     .      +     .   \n",
       "2       chr1   HAVANA        exon  3073252  3074322     .      +     .   \n",
       "3       chr1  ENSEMBL        gene  3102015  3102125     .      +     .   \n",
       "4       chr1  ENSEMBL  transcript  3102015  3102125     .      +     .   \n",
       "\n",
       "                gene_id gene_type  ... transcript_type    transcript_name  \\\n",
       "0  ENSMUSG00000102693.1       TEC  ...             NaN                NaN   \n",
       "1  ENSMUSG00000102693.1       TEC  ...             TEC  4933401J01Rik-201   \n",
       "2  ENSMUSG00000102693.1       TEC  ...             TEC  4933401J01Rik-201   \n",
       "3  ENSMUSG00000064842.1     snRNA  ...             NaN                NaN   \n",
       "4  ENSMUSG00000064842.1     snRNA  ...           snRNA        Gm26206-201   \n",
       "\n",
       "  transcript_support_level    tag     havana_transcript exon_number  \\\n",
       "0                      NaN    NaN                   NaN         NaN   \n",
       "1                       NA  basic  OTTMUST00000127109.1         NaN   \n",
       "2                       NA  basic  OTTMUST00000127109.1           1   \n",
       "3                      NaN    NaN                   NaN         NaN   \n",
       "4                       NA  basic                   NaN         NaN   \n",
       "\n",
       "                exon_id protein_id ccdsid  ont  \n",
       "0                   NaN        NaN    NaN  NaN  \n",
       "1                   NaN        NaN    NaN  NaN  \n",
       "2  ENSMUSE00001343744.1        NaN    NaN  NaN  \n",
       "3                   NaN        NaN    NaN  NaN  \n",
       "4                   NaN        NaN    NaN  NaN  \n",
       "\n",
       "[5 rows x 25 columns]"
      ]
     },
     "execution_count": 3,
     "metadata": {},
     "output_type": "execute_result"
    }
   ],
   "source": [
    "gtf.head()"
   ]
  },
  {
   "cell_type": "code",
   "execution_count": 4,
   "metadata": {},
   "outputs": [],
   "source": [
    "ProteinCodingGenes = gtf.loc[(gtf.Feature == 'gene') & (gtf.gene_type == 'protein_coding'), 'gene_id'].values.tolist()"
   ]
  },
  {
   "cell_type": "code",
   "execution_count": 5,
   "metadata": {},
   "outputs": [],
   "source": [
    "ProteinCodingGenes = [g.split('.')[0] for g in ProteinCodingGenes]"
   ]
  },
  {
   "cell_type": "code",
   "execution_count": 6,
   "metadata": {},
   "outputs": [
    {
     "data": {
      "text/plain": [
       "['ENSMUSG00000051951', 'ENSMUSG00000025900', 'ENSMUSG00000025902']"
      ]
     },
     "execution_count": 6,
     "metadata": {},
     "output_type": "execute_result"
    }
   ],
   "source": [
    "ProteinCodingGenes[:3]"
   ]
  },
  {
   "cell_type": "code",
   "execution_count": 7,
   "metadata": {},
   "outputs": [],
   "source": [
    "# Import deseq2 results\n",
    "df_KO_WT = pd.read_csv('res_S200WT_vs_KO_deseq_lfcShrink.csv', index_col=0).dropna(how='any')\n",
    "df_KO_Mut = pd.read_csv('res_S200A_vs_KO_deseq_lfcShrink.csv', index_col=0).dropna(how='any')\n",
    "\n",
    "# Import summed TPMs per gene\n",
    "dfTPMCounts = pd.read_csv('TPMSum.csv', index_col=0)\n",
    "\n",
    "# Import 3'UTRs\n",
    "utrAtlas = pr.read_bed('../../data/3UtrAtlas/ThreePrimeUtrsOfMostExpressedTxInS200WT2iL.bed', as_df=True)\n",
    "\n",
    "# Naive genes ids\n",
    "DfNaive = pd.read_csv('../../data/general/NaiveGeneIds.csv', index_col=0)\n",
    "# Extedned pluripotency gene ids\n",
    "DfExdPluri = pd.read_csv('../../data/general/ExtendedPluripotencyGenesIds.csv', index_col=0)\n",
    "\n",
    "# Import slamseq gene groups\n",
    "slamseqGenes = pd.read_csv('../../data/DifferentialGeneGroups/RelevantGroupLociSlamseq_mm39/SlamseqFilteredAnnotated_mm39.bed', sep='\\t', header=None)"
   ]
  },
  {
   "cell_type": "code",
   "execution_count": 8,
   "metadata": {},
   "outputs": [],
   "source": [
    "# Set parameters\n",
    "minUtrLen = 100\n",
    "\n",
    "# Set outpath\n",
    "outpath = '../../results/GeneGroups_Quantseq'\n",
    "outpathUtr = '../../results/GeneGroups_Quantseq/3UtrLoci/'\n",
    "os.makedirs(outpath, exist_ok=True)\n",
    "os.makedirs(outpathUtr, exist_ok=True)"
   ]
  },
  {
   "cell_type": "code",
   "execution_count": 9,
   "metadata": {},
   "outputs": [
    {
     "data": {
      "text/html": [
       "<div>\n",
       "<style scoped>\n",
       "    .dataframe tbody tr th:only-of-type {\n",
       "        vertical-align: middle;\n",
       "    }\n",
       "\n",
       "    .dataframe tbody tr th {\n",
       "        vertical-align: top;\n",
       "    }\n",
       "\n",
       "    .dataframe thead th {\n",
       "        text-align: right;\n",
       "    }\n",
       "</style>\n",
       "<table border=\"1\" class=\"dataframe\">\n",
       "  <thead>\n",
       "    <tr style=\"text-align: right;\">\n",
       "      <th></th>\n",
       "      <th>baseMean</th>\n",
       "      <th>log2FoldChange</th>\n",
       "      <th>lfcSE</th>\n",
       "      <th>pvalue</th>\n",
       "      <th>padj</th>\n",
       "    </tr>\n",
       "  </thead>\n",
       "  <tbody>\n",
       "    <tr>\n",
       "      <th>LIN28A_transgene</th>\n",
       "      <td>3627.405746</td>\n",
       "      <td>11.973142</td>\n",
       "      <td>0.766634</td>\n",
       "      <td>4.173808e-56</td>\n",
       "      <td>5.684308e-52</td>\n",
       "    </tr>\n",
       "    <tr>\n",
       "      <th>ENSMUSG00000046733</th>\n",
       "      <td>470.707254</td>\n",
       "      <td>4.880912</td>\n",
       "      <td>0.388856</td>\n",
       "      <td>1.673983e-37</td>\n",
       "      <td>1.139898e-33</td>\n",
       "    </tr>\n",
       "    <tr>\n",
       "      <th>ENSMUSG00000022037</th>\n",
       "      <td>141.343956</td>\n",
       "      <td>3.445942</td>\n",
       "      <td>0.279422</td>\n",
       "      <td>5.038324e-36</td>\n",
       "      <td>2.287231e-32</td>\n",
       "    </tr>\n",
       "    <tr>\n",
       "      <th>ENSMUSG00000024349</th>\n",
       "      <td>113.983796</td>\n",
       "      <td>4.369500</td>\n",
       "      <td>0.366371</td>\n",
       "      <td>4.300169e-34</td>\n",
       "      <td>1.464100e-30</td>\n",
       "    </tr>\n",
       "    <tr>\n",
       "      <th>ENSMUSG00000031785</th>\n",
       "      <td>258.278694</td>\n",
       "      <td>8.463244</td>\n",
       "      <td>0.717163</td>\n",
       "      <td>4.908110e-33</td>\n",
       "      <td>1.336871e-29</td>\n",
       "    </tr>\n",
       "  </tbody>\n",
       "</table>\n",
       "</div>"
      ],
      "text/plain": [
       "                       baseMean  log2FoldChange     lfcSE        pvalue  \\\n",
       "LIN28A_transgene    3627.405746       11.973142  0.766634  4.173808e-56   \n",
       "ENSMUSG00000046733   470.707254        4.880912  0.388856  1.673983e-37   \n",
       "ENSMUSG00000022037   141.343956        3.445942  0.279422  5.038324e-36   \n",
       "ENSMUSG00000024349   113.983796        4.369500  0.366371  4.300169e-34   \n",
       "ENSMUSG00000031785   258.278694        8.463244  0.717163  4.908110e-33   \n",
       "\n",
       "                            padj  \n",
       "LIN28A_transgene    5.684308e-52  \n",
       "ENSMUSG00000046733  1.139898e-33  \n",
       "ENSMUSG00000022037  2.287231e-32  \n",
       "ENSMUSG00000024349  1.464100e-30  \n",
       "ENSMUSG00000031785  1.336871e-29  "
      ]
     },
     "execution_count": 9,
     "metadata": {},
     "output_type": "execute_result"
    }
   ],
   "source": [
    "df_KO_WT.head()"
   ]
  },
  {
   "cell_type": "code",
   "execution_count": 10,
   "metadata": {},
   "outputs": [],
   "source": [
    "# Remove genes that are not protein-coding\n",
    "df_KO_WT = df_KO_WT.loc[[i for i in df_KO_WT.index if i in ProteinCodingGenes]]\n",
    "df_KO_Mut = df_KO_Mut.loc[[i for i in df_KO_Mut.index if i in ProteinCodingGenes]]"
   ]
  },
  {
   "cell_type": "code",
   "execution_count": 11,
   "metadata": {},
   "outputs": [],
   "source": [
    "def GetSignificant(df, pval=0.05, FC=1.5, Unchanged=0.5):\n",
    "    df.loc[df.padj < pval, 'significance'] = 'significant'\n",
    "    df.loc[(df.log2FoldChange > np.log2(FC)) & (df.significance == 'significant'), 'regulation'] = 'UP'\n",
    "    df.loc[(df.log2FoldChange < -np.log2(FC)) & (df.significance == 'significant'), 'regulation'] = 'DOWN'\n",
    "    df.loc[(df.log2FoldChange > -Unchanged) & (df.log2FoldChange < Unchanged) & (df.significance != 'significant'), 'regulation'] = 'CONTROL'\n",
    "    return df"
   ]
  },
  {
   "cell_type": "code",
   "execution_count": 12,
   "metadata": {},
   "outputs": [
    {
     "data": {
      "text/html": [
       "<div>\n",
       "<style scoped>\n",
       "    .dataframe tbody tr th:only-of-type {\n",
       "        vertical-align: middle;\n",
       "    }\n",
       "\n",
       "    .dataframe tbody tr th {\n",
       "        vertical-align: top;\n",
       "    }\n",
       "\n",
       "    .dataframe thead th {\n",
       "        text-align: right;\n",
       "    }\n",
       "</style>\n",
       "<table border=\"1\" class=\"dataframe\">\n",
       "  <thead>\n",
       "    <tr style=\"text-align: right;\">\n",
       "      <th></th>\n",
       "      <th>baseMean</th>\n",
       "      <th>log2FoldChange</th>\n",
       "      <th>lfcSE</th>\n",
       "      <th>pvalue</th>\n",
       "      <th>padj</th>\n",
       "      <th>significance</th>\n",
       "    </tr>\n",
       "    <tr>\n",
       "      <th>regulation</th>\n",
       "      <th></th>\n",
       "      <th></th>\n",
       "      <th></th>\n",
       "      <th></th>\n",
       "      <th></th>\n",
       "      <th></th>\n",
       "    </tr>\n",
       "  </thead>\n",
       "  <tbody>\n",
       "    <tr>\n",
       "      <th>CONTROL</th>\n",
       "      <td>11497</td>\n",
       "      <td>11497</td>\n",
       "      <td>11497</td>\n",
       "      <td>11497</td>\n",
       "      <td>11497</td>\n",
       "      <td>0</td>\n",
       "    </tr>\n",
       "    <tr>\n",
       "      <th>DOWN</th>\n",
       "      <td>66</td>\n",
       "      <td>66</td>\n",
       "      <td>66</td>\n",
       "      <td>66</td>\n",
       "      <td>66</td>\n",
       "      <td>66</td>\n",
       "    </tr>\n",
       "    <tr>\n",
       "      <th>UP</th>\n",
       "      <td>303</td>\n",
       "      <td>303</td>\n",
       "      <td>303</td>\n",
       "      <td>303</td>\n",
       "      <td>303</td>\n",
       "      <td>303</td>\n",
       "    </tr>\n",
       "  </tbody>\n",
       "</table>\n",
       "</div>"
      ],
      "text/plain": [
       "            baseMean  log2FoldChange  lfcSE  pvalue   padj  significance\n",
       "regulation                                                              \n",
       "CONTROL        11497           11497  11497   11497  11497             0\n",
       "DOWN              66              66     66      66     66            66\n",
       "UP               303             303    303     303    303           303"
      ]
     },
     "execution_count": 12,
     "metadata": {},
     "output_type": "execute_result"
    }
   ],
   "source": [
    "GetSignificant(df_KO_Mut).groupby('regulation').count()"
   ]
  },
  {
   "cell_type": "markdown",
   "metadata": {},
   "source": []
  },
  {
   "cell_type": "code",
   "execution_count": 13,
   "metadata": {},
   "outputs": [
    {
     "data": {
      "text/html": [
       "<div>\n",
       "<style scoped>\n",
       "    .dataframe tbody tr th:only-of-type {\n",
       "        vertical-align: middle;\n",
       "    }\n",
       "\n",
       "    .dataframe tbody tr th {\n",
       "        vertical-align: top;\n",
       "    }\n",
       "\n",
       "    .dataframe thead th {\n",
       "        text-align: right;\n",
       "    }\n",
       "</style>\n",
       "<table border=\"1\" class=\"dataframe\">\n",
       "  <thead>\n",
       "    <tr style=\"text-align: right;\">\n",
       "      <th></th>\n",
       "      <th>baseMean</th>\n",
       "      <th>log2FoldChange</th>\n",
       "      <th>lfcSE</th>\n",
       "      <th>pvalue</th>\n",
       "      <th>padj</th>\n",
       "      <th>significance</th>\n",
       "    </tr>\n",
       "    <tr>\n",
       "      <th>regulation</th>\n",
       "      <th></th>\n",
       "      <th></th>\n",
       "      <th></th>\n",
       "      <th></th>\n",
       "      <th></th>\n",
       "      <th></th>\n",
       "    </tr>\n",
       "  </thead>\n",
       "  <tbody>\n",
       "    <tr>\n",
       "      <th>CONTROL</th>\n",
       "      <td>5896</td>\n",
       "      <td>5896</td>\n",
       "      <td>5896</td>\n",
       "      <td>5896</td>\n",
       "      <td>5896</td>\n",
       "      <td>0</td>\n",
       "    </tr>\n",
       "    <tr>\n",
       "      <th>DOWN</th>\n",
       "      <td>1755</td>\n",
       "      <td>1755</td>\n",
       "      <td>1755</td>\n",
       "      <td>1755</td>\n",
       "      <td>1755</td>\n",
       "      <td>1755</td>\n",
       "    </tr>\n",
       "    <tr>\n",
       "      <th>UP</th>\n",
       "      <td>2077</td>\n",
       "      <td>2077</td>\n",
       "      <td>2077</td>\n",
       "      <td>2077</td>\n",
       "      <td>2077</td>\n",
       "      <td>2077</td>\n",
       "    </tr>\n",
       "  </tbody>\n",
       "</table>\n",
       "</div>"
      ],
      "text/plain": [
       "            baseMean  log2FoldChange  lfcSE  pvalue  padj  significance\n",
       "regulation                                                             \n",
       "CONTROL         5896            5896   5896    5896  5896             0\n",
       "DOWN            1755            1755   1755    1755  1755          1755\n",
       "UP              2077            2077   2077    2077  2077          2077"
      ]
     },
     "execution_count": 13,
     "metadata": {},
     "output_type": "execute_result"
    }
   ],
   "source": [
    "GetSignificant(df_KO_WT).groupby('regulation').count()"
   ]
  },
  {
   "cell_type": "code",
   "execution_count": 14,
   "metadata": {},
   "outputs": [],
   "source": [
    "# Sort genes into three groups\n",
    "df_KO_WT_grouped = GetSignificant(df_KO_WT)                                                                                                                                                                                                                                                                                           \n",
    "df_KO_WT_grouped = df_KO_WT_grouped.loc[df_KO_WT_grouped.regulation != np.nan].sort_values(by='log2FoldChange')\n",
    "df_KO_WT_grouped['significance'].fillna('not significant', inplace=True)\n",
    "\n",
    "\n",
    "df_KO_Mut_grouped = GetSignificant(df_KO_Mut)\n",
    "df_KO_Mut_grouped = df_KO_Mut_grouped.loc[df_KO_Mut_grouped.regulation != np.nan].sort_values(by='log2FoldChange')\n",
    "df_KO_Mut_grouped['significance'].fillna('not significant', inplace=True)\n",
    "\n",
    "# Add information about naive genes and extended pluripotency genes\n",
    "# extended pluripotency\n",
    "df_KO_WT_grouped.loc[[i for i in DfExdPluri.gene_id.values.tolist() if i in df_KO_WT_grouped.index], 'Naive_Genes'] = 'extended_pluripotency'\n",
    "df_KO_Mut_grouped.loc[[i for i in DfExdPluri.gene_id.values.tolist() if i in df_KO_Mut_grouped.index], 'Naive_Genes'] = 'extended_pluripotency'\n",
    "# naive\n",
    "df_KO_WT_grouped.loc[DfNaive.gene_id.values.tolist(), 'Naive_Genes'] = 'naive'\n",
    "df_KO_Mut_grouped.loc[DfNaive.gene_id.values.tolist(), 'Naive_Genes'] = 'naive'\n",
    "\n",
    "# Add UTR lengths to genes\n",
    "utrAtlas.rename(columns={'ThickStart': 'gene_name', 'ThickEnd': 'transcript_id'}, inplace=True)\n",
    "utrAtlas['length'] = utrAtlas.End - utrAtlas.Start\n",
    "UtrLengths = utrAtlas.set_index('Name')\n",
    "df_KO_WT_grouped['UtrLength'] = UtrLengths['length'].astype(int)\n",
    "df_KO_Mut_grouped['UtrLength'] = UtrLengths['length'].astype(int)\n",
    "\n",
    "# Save\n",
    "df_KO_WT_grouped.to_csv(f'{outpath}/KO_WT_GeneGroups_NoTPMRangeAdjustment.csv')\n",
    "df_KO_Mut_grouped.to_csv(f'{outpath}/KO_S200A_GeneGroups_NoTPMRangeAdjustment.csv')"
   ]
  },
  {
   "cell_type": "code",
   "execution_count": 15,
   "metadata": {},
   "outputs": [
    {
     "data": {
      "text/html": [
       "<div>\n",
       "<style scoped>\n",
       "    .dataframe tbody tr th:only-of-type {\n",
       "        vertical-align: middle;\n",
       "    }\n",
       "\n",
       "    .dataframe tbody tr th {\n",
       "        vertical-align: top;\n",
       "    }\n",
       "\n",
       "    .dataframe thead th {\n",
       "        text-align: right;\n",
       "    }\n",
       "</style>\n",
       "<table border=\"1\" class=\"dataframe\">\n",
       "  <thead>\n",
       "    <tr style=\"text-align: right;\">\n",
       "      <th></th>\n",
       "      <th>baseMean</th>\n",
       "      <th>log2FoldChange</th>\n",
       "      <th>lfcSE</th>\n",
       "      <th>pvalue</th>\n",
       "      <th>padj</th>\n",
       "      <th>significance</th>\n",
       "      <th>regulation</th>\n",
       "      <th>Naive_Genes</th>\n",
       "      <th>UtrLength</th>\n",
       "    </tr>\n",
       "  </thead>\n",
       "  <tbody>\n",
       "    <tr>\n",
       "      <th>ENSMUSG00000019989</th>\n",
       "      <td>100.502042</td>\n",
       "      <td>-6.899289</td>\n",
       "      <td>1.187185</td>\n",
       "      <td>2.130376e-12</td>\n",
       "      <td>2.844469e-10</td>\n",
       "      <td>significant</td>\n",
       "      <td>DOWN</td>\n",
       "      <td>NaN</td>\n",
       "      <td>1499.0</td>\n",
       "    </tr>\n",
       "    <tr>\n",
       "      <th>ENSMUSG00000054727</th>\n",
       "      <td>33.385117</td>\n",
       "      <td>-6.442636</td>\n",
       "      <td>2.680247</td>\n",
       "      <td>1.643360e-05</td>\n",
       "      <td>2.451360e-04</td>\n",
       "      <td>significant</td>\n",
       "      <td>DOWN</td>\n",
       "      <td>NaN</td>\n",
       "      <td>268.0</td>\n",
       "    </tr>\n",
       "    <tr>\n",
       "      <th>ENSMUSG00000067261</th>\n",
       "      <td>66.277230</td>\n",
       "      <td>-5.905145</td>\n",
       "      <td>1.336072</td>\n",
       "      <td>1.958259e-08</td>\n",
       "      <td>8.658938e-07</td>\n",
       "      <td>significant</td>\n",
       "      <td>DOWN</td>\n",
       "      <td>naive</td>\n",
       "      <td>591.0</td>\n",
       "    </tr>\n",
       "    <tr>\n",
       "      <th>ENSMUSG00000048070</th>\n",
       "      <td>19.045768</td>\n",
       "      <td>-5.806832</td>\n",
       "      <td>2.558161</td>\n",
       "      <td>5.910746e-05</td>\n",
       "      <td>6.957515e-04</td>\n",
       "      <td>significant</td>\n",
       "      <td>DOWN</td>\n",
       "      <td>NaN</td>\n",
       "      <td>3607.0</td>\n",
       "    </tr>\n",
       "    <tr>\n",
       "      <th>ENSMUSG00000025056</th>\n",
       "      <td>404.741559</td>\n",
       "      <td>-5.527831</td>\n",
       "      <td>1.179622</td>\n",
       "      <td>1.667853e-07</td>\n",
       "      <td>5.209746e-06</td>\n",
       "      <td>significant</td>\n",
       "      <td>DOWN</td>\n",
       "      <td>NaN</td>\n",
       "      <td>355.0</td>\n",
       "    </tr>\n",
       "  </tbody>\n",
       "</table>\n",
       "</div>"
      ],
      "text/plain": [
       "                      baseMean  log2FoldChange     lfcSE        pvalue  \\\n",
       "ENSMUSG00000019989  100.502042       -6.899289  1.187185  2.130376e-12   \n",
       "ENSMUSG00000054727   33.385117       -6.442636  2.680247  1.643360e-05   \n",
       "ENSMUSG00000067261   66.277230       -5.905145  1.336072  1.958259e-08   \n",
       "ENSMUSG00000048070   19.045768       -5.806832  2.558161  5.910746e-05   \n",
       "ENSMUSG00000025056  404.741559       -5.527831  1.179622  1.667853e-07   \n",
       "\n",
       "                            padj significance regulation Naive_Genes  \\\n",
       "ENSMUSG00000019989  2.844469e-10  significant       DOWN         NaN   \n",
       "ENSMUSG00000054727  2.451360e-04  significant       DOWN         NaN   \n",
       "ENSMUSG00000067261  8.658938e-07  significant       DOWN       naive   \n",
       "ENSMUSG00000048070  6.957515e-04  significant       DOWN         NaN   \n",
       "ENSMUSG00000025056  5.209746e-06  significant       DOWN         NaN   \n",
       "\n",
       "                    UtrLength  \n",
       "ENSMUSG00000019989     1499.0  \n",
       "ENSMUSG00000054727      268.0  \n",
       "ENSMUSG00000067261      591.0  \n",
       "ENSMUSG00000048070     3607.0  \n",
       "ENSMUSG00000025056      355.0  "
      ]
     },
     "execution_count": 15,
     "metadata": {},
     "output_type": "execute_result"
    }
   ],
   "source": [
    "df_KO_WT_grouped.sort_values(by='log2FoldChange').head()"
   ]
  },
  {
   "cell_type": "code",
   "execution_count": 16,
   "metadata": {},
   "outputs": [
    {
     "data": {
      "text/plain": [
       "baseMean              2467.878746\n",
       "log2FoldChange          -0.069939\n",
       "lfcSE                    0.240607\n",
       "pvalue                   0.752282\n",
       "padj                     0.832006\n",
       "significance      not significant\n",
       "regulation                CONTROL\n",
       "Naive_Genes                 naive\n",
       "UtrLength                  1089.0\n",
       "Name: ENSMUSG00000074637, dtype: object"
      ]
     },
     "execution_count": 16,
     "metadata": {},
     "output_type": "execute_result"
    }
   ],
   "source": [
    "# Sox2\n",
    "df_KO_WT_grouped.loc['ENSMUSG00000074637']"
   ]
  },
  {
   "cell_type": "code",
   "execution_count": 17,
   "metadata": {},
   "outputs": [
    {
     "data": {
      "text/plain": [
       "baseMean          2169.870209\n",
       "log2FoldChange      -0.957643\n",
       "lfcSE                 0.35902\n",
       "pvalue               0.002299\n",
       "padj                 0.011915\n",
       "significance      significant\n",
       "regulation               DOWN\n",
       "Naive_Genes             naive\n",
       "UtrLength               985.0\n",
       "Name: ENSMUSG00000003032, dtype: object"
      ]
     },
     "execution_count": 17,
     "metadata": {},
     "output_type": "execute_result"
    }
   ],
   "source": [
    "# Klf4 - first lfc cutoff of 1 was too stringent, but otherwise downregulated\n",
    "df_KO_WT_grouped.loc['ENSMUSG00000003032']"
   ]
  },
  {
   "cell_type": "code",
   "execution_count": 18,
   "metadata": {},
   "outputs": [
    {
     "data": {
      "text/plain": [
       "baseMean           735.328231\n",
       "log2FoldChange      -2.677617\n",
       "lfcSE                0.526309\n",
       "pvalue                    0.0\n",
       "padj                 0.000001\n",
       "significance      significant\n",
       "regulation               DOWN\n",
       "Naive_Genes             naive\n",
       "UtrLength              1081.0\n",
       "Name: ENSMUSG00000012396, dtype: object"
      ]
     },
     "execution_count": 18,
     "metadata": {},
     "output_type": "execute_result"
    }
   ],
   "source": [
    "# Nanog is in DOWN\n",
    "df_KO_WT_grouped.loc['ENSMUSG00000012396']"
   ]
  },
  {
   "cell_type": "code",
   "execution_count": 19,
   "metadata": {},
   "outputs": [
    {
     "data": {
      "text/plain": [
       "baseMean          1021.670024\n",
       "log2FoldChange      -0.997053\n",
       "lfcSE                0.249144\n",
       "pvalue               0.000024\n",
       "padj                  0.00033\n",
       "significance      significant\n",
       "regulation               DOWN\n",
       "Naive_Genes             naive\n",
       "UtrLength              2566.0\n",
       "Name: ENSMUSG00000021255, dtype: object"
      ]
     },
     "execution_count": 19,
     "metadata": {},
     "output_type": "execute_result"
    }
   ],
   "source": [
    "# Esrrb - first lfc cutoff of 1 was too stringent, but otherwise downregulated\n",
    "df_KO_WT_grouped.loc['ENSMUSG00000021255']"
   ]
  },
  {
   "cell_type": "markdown",
   "metadata": {},
   "source": [
    "## Crossreference with slamseq genes"
   ]
  },
  {
   "cell_type": "code",
   "execution_count": 20,
   "metadata": {},
   "outputs": [],
   "source": [
    "# Check how many genes from slamseq crossvalidate with quantseq groups\n",
    "slamseqGenes = slamseqGenes[[3, 6]]\n",
    "slamseqGenes.columns = ['regulation', 'annotation']\n",
    "slamseqGenes['gene_id'] = slamseqGenes.annotation.apply(lambda x: x.split('_')[-1])"
   ]
  },
  {
   "cell_type": "code",
   "execution_count": 21,
   "metadata": {},
   "outputs": [],
   "source": [
    "slamseqGenes.regulation = slamseqGenes.regulation.apply(lambda x: x.split('-')[0])"
   ]
  },
  {
   "cell_type": "code",
   "execution_count": 22,
   "metadata": {},
   "outputs": [
    {
     "data": {
      "image/png": "[encoded data removed]",
      "text/plain": [
       "<Figure size 640x480 with 1 Axes>"
      ]
     },
     "metadata": {},
     "output_type": "display_data"
    },
    {
     "data": {
      "image/png": "[encoded data removed]",
      "text/plain": [
       "<Figure size 640x480 with 1 Axes>"
      ]
     },
     "metadata": {},
     "output_type": "display_data"
    },
    {
     "data": {
      "image/png": "[encoded data removed]",
      "text/plain": [
       "<Figure size 640x480 with 1 Axes>"
      ]
     },
     "metadata": {},
     "output_type": "display_data"
    }
   ],
   "source": [
    "for g in slamseqGenes.regulation.unique():\n",
    "    slam = sorted(set(slamseqGenes.loc[slamseqGenes.regulation == g, 'gene_id'].values.tolist()))\n",
    "    quant = sorted(set(df_KO_WT_grouped.loc[df_KO_WT_grouped.regulation == g].index.tolist()))\n",
    "    common = [g for g in slam if g in quant]\n",
    "    slam_un = len(slam) - len(common)\n",
    "    quant_un = len(quant) - len(common)\n",
    "    venn2(subsets=(quant_un, slam_un, len(common)), set_labels=('Quantseq', 'Slamseq'))\n",
    "    plt.title(g)\n",
    "    plt.show()"
   ]
  },
  {
   "cell_type": "markdown",
   "metadata": {},
   "source": [
    "## Compare expression levels in unfiltered groups"
   ]
  },
  {
   "cell_type": "code",
   "execution_count": 23,
   "metadata": {},
   "outputs": [
    {
     "data": {
      "text/html": [
       "<div>\n",
       "<style scoped>\n",
       "    .dataframe tbody tr th:only-of-type {\n",
       "        vertical-align: middle;\n",
       "    }\n",
       "\n",
       "    .dataframe tbody tr th {\n",
       "        vertical-align: top;\n",
       "    }\n",
       "\n",
       "    .dataframe thead th {\n",
       "        text-align: right;\n",
       "    }\n",
       "</style>\n",
       "<table border=\"1\" class=\"dataframe\">\n",
       "  <thead>\n",
       "    <tr style=\"text-align: right;\">\n",
       "      <th></th>\n",
       "      <th>KO_E12_FCL_1</th>\n",
       "      <th>KO_E12_FCL_2</th>\n",
       "      <th>KO_E12_FCL_3</th>\n",
       "      <th>S200A_3_FCL_1</th>\n",
       "      <th>S200A_3_FCL_2</th>\n",
       "      <th>S200A_3_FCL_3</th>\n",
       "      <th>S200A_5_FCL_1</th>\n",
       "      <th>S200A_5_FCL_2</th>\n",
       "      <th>S200WT_1_FCL_1</th>\n",
       "      <th>S200WT_1_FCL_2</th>\n",
       "      <th>S200WT_2_FCL_3</th>\n",
       "    </tr>\n",
       "    <tr>\n",
       "      <th>stable_gene_id</th>\n",
       "      <th></th>\n",
       "      <th></th>\n",
       "      <th></th>\n",
       "      <th></th>\n",
       "      <th></th>\n",
       "      <th></th>\n",
       "      <th></th>\n",
       "      <th></th>\n",
       "      <th></th>\n",
       "      <th></th>\n",
       "      <th></th>\n",
       "    </tr>\n",
       "  </thead>\n",
       "  <tbody>\n",
       "    <tr>\n",
       "      <th>ENSMUSG00000000001</th>\n",
       "      <td>6.530924</td>\n",
       "      <td>9.363520</td>\n",
       "      <td>5.442524</td>\n",
       "      <td>2.005899</td>\n",
       "      <td>2.375329</td>\n",
       "      <td>8.920072</td>\n",
       "      <td>2.403916</td>\n",
       "      <td>9.464212</td>\n",
       "      <td>0.307615</td>\n",
       "      <td>2.139486</td>\n",
       "      <td>2.946704</td>\n",
       "    </tr>\n",
       "    <tr>\n",
       "      <th>ENSMUSG00000000003</th>\n",
       "      <td>0.000000</td>\n",
       "      <td>0.000000</td>\n",
       "      <td>0.000000</td>\n",
       "      <td>0.000000</td>\n",
       "      <td>0.000000</td>\n",
       "      <td>0.000000</td>\n",
       "      <td>0.000000</td>\n",
       "      <td>0.000000</td>\n",
       "      <td>0.000000</td>\n",
       "      <td>0.000000</td>\n",
       "      <td>0.000000</td>\n",
       "    </tr>\n",
       "    <tr>\n",
       "      <th>ENSMUSG00000000028</th>\n",
       "      <td>7.710276</td>\n",
       "      <td>9.091545</td>\n",
       "      <td>7.334555</td>\n",
       "      <td>3.027887</td>\n",
       "      <td>5.469507</td>\n",
       "      <td>9.357579</td>\n",
       "      <td>4.251148</td>\n",
       "      <td>8.563081</td>\n",
       "      <td>2.505082</td>\n",
       "      <td>3.344192</td>\n",
       "      <td>4.119250</td>\n",
       "    </tr>\n",
       "    <tr>\n",
       "      <th>ENSMUSG00000000031</th>\n",
       "      <td>0.000000</td>\n",
       "      <td>0.000000</td>\n",
       "      <td>0.000000</td>\n",
       "      <td>1.556927</td>\n",
       "      <td>0.583990</td>\n",
       "      <td>0.706341</td>\n",
       "      <td>0.000000</td>\n",
       "      <td>0.000000</td>\n",
       "      <td>0.000000</td>\n",
       "      <td>0.000000</td>\n",
       "      <td>0.000000</td>\n",
       "    </tr>\n",
       "    <tr>\n",
       "      <th>ENSMUSG00000000037</th>\n",
       "      <td>0.016093</td>\n",
       "      <td>0.057227</td>\n",
       "      <td>0.041397</td>\n",
       "      <td>0.237239</td>\n",
       "      <td>0.064356</td>\n",
       "      <td>0.163073</td>\n",
       "      <td>0.117013</td>\n",
       "      <td>0.108123</td>\n",
       "      <td>0.454818</td>\n",
       "      <td>0.096248</td>\n",
       "      <td>0.196450</td>\n",
       "    </tr>\n",
       "  </tbody>\n",
       "</table>\n",
       "</div>"
      ],
      "text/plain": [
       "                    KO_E12_FCL_1  KO_E12_FCL_2  KO_E12_FCL_3  S200A_3_FCL_1  \\\n",
       "stable_gene_id                                                                \n",
       "ENSMUSG00000000001      6.530924      9.363520      5.442524       2.005899   \n",
       "ENSMUSG00000000003      0.000000      0.000000      0.000000       0.000000   \n",
       "ENSMUSG00000000028      7.710276      9.091545      7.334555       3.027887   \n",
       "ENSMUSG00000000031      0.000000      0.000000      0.000000       1.556927   \n",
       "ENSMUSG00000000037      0.016093      0.057227      0.041397       0.237239   \n",
       "\n",
       "                    S200A_3_FCL_2  S200A_3_FCL_3  S200A_5_FCL_1  \\\n",
       "stable_gene_id                                                    \n",
       "ENSMUSG00000000001       2.375329       8.920072       2.403916   \n",
       "ENSMUSG00000000003       0.000000       0.000000       0.000000   \n",
       "ENSMUSG00000000028       5.469507       9.357579       4.251148   \n",
       "ENSMUSG00000000031       0.583990       0.706341       0.000000   \n",
       "ENSMUSG00000000037       0.064356       0.163073       0.117013   \n",
       "\n",
       "                    S200A_5_FCL_2  S200WT_1_FCL_1  S200WT_1_FCL_2  \\\n",
       "stable_gene_id                                                      \n",
       "ENSMUSG00000000001       9.464212        0.307615        2.139486   \n",
       "ENSMUSG00000000003       0.000000        0.000000        0.000000   \n",
       "ENSMUSG00000000028       8.563081        2.505082        3.344192   \n",
       "ENSMUSG00000000031       0.000000        0.000000        0.000000   \n",
       "ENSMUSG00000000037       0.108123        0.454818        0.096248   \n",
       "\n",
       "                    S200WT_2_FCL_3  \n",
       "stable_gene_id                      \n",
       "ENSMUSG00000000001        2.946704  \n",
       "ENSMUSG00000000003        0.000000  \n",
       "ENSMUSG00000000028        4.119250  \n",
       "ENSMUSG00000000031        0.000000  \n",
       "ENSMUSG00000000037        0.196450  "
      ]
     },
     "execution_count": 23,
     "metadata": {},
     "output_type": "execute_result"
    }
   ],
   "source": [
    "dfTPMCounts.head()"
   ]
  },
  {
   "cell_type": "code",
   "execution_count": 24,
   "metadata": {},
   "outputs": [],
   "source": [
    "# Compare expression levels between three groups in KO FCL condition\n",
    "df_KO_WT_grouped['Mean TPM in KO FCL'] = dfTPMCounts[[c for c in dfTPMCounts.columns if 'KO_' in c]].mean(axis='columns')\n",
    "df_KO_WT_grouped['Mean TPM in S200WT FCL'] = dfTPMCounts[[c for c in dfTPMCounts.columns if 'S200WT_' in c]].mean(axis='columns')"
   ]
  },
  {
   "cell_type": "code",
   "execution_count": 25,
   "metadata": {},
   "outputs": [
    {
     "data": {
      "text/html": [
       "<div>\n",
       "<style scoped>\n",
       "    .dataframe tbody tr th:only-of-type {\n",
       "        vertical-align: middle;\n",
       "    }\n",
       "\n",
       "    .dataframe tbody tr th {\n",
       "        vertical-align: top;\n",
       "    }\n",
       "\n",
       "    .dataframe thead th {\n",
       "        text-align: right;\n",
       "    }\n",
       "</style>\n",
       "<table border=\"1\" class=\"dataframe\">\n",
       "  <thead>\n",
       "    <tr style=\"text-align: right;\">\n",
       "      <th></th>\n",
       "      <th>baseMean</th>\n",
       "      <th>log2FoldChange</th>\n",
       "      <th>lfcSE</th>\n",
       "      <th>pvalue</th>\n",
       "      <th>padj</th>\n",
       "      <th>significance</th>\n",
       "      <th>regulation</th>\n",
       "      <th>Naive_Genes</th>\n",
       "      <th>UtrLength</th>\n",
       "      <th>Mean TPM in KO FCL</th>\n",
       "      <th>Mean TPM in S200WT FCL</th>\n",
       "    </tr>\n",
       "  </thead>\n",
       "  <tbody>\n",
       "    <tr>\n",
       "      <th>ENSMUSG00000019989</th>\n",
       "      <td>100.502042</td>\n",
       "      <td>-6.899289</td>\n",
       "      <td>1.187185</td>\n",
       "      <td>2.130376e-12</td>\n",
       "      <td>2.844469e-10</td>\n",
       "      <td>significant</td>\n",
       "      <td>DOWN</td>\n",
       "      <td>NaN</td>\n",
       "      <td>1499.0</td>\n",
       "      <td>6.805262</td>\n",
       "      <td>0.029012</td>\n",
       "    </tr>\n",
       "    <tr>\n",
       "      <th>ENSMUSG00000054727</th>\n",
       "      <td>33.385117</td>\n",
       "      <td>-6.442636</td>\n",
       "      <td>2.680247</td>\n",
       "      <td>1.643360e-05</td>\n",
       "      <td>2.451360e-04</td>\n",
       "      <td>significant</td>\n",
       "      <td>DOWN</td>\n",
       "      <td>NaN</td>\n",
       "      <td>268.0</td>\n",
       "      <td>1.449495</td>\n",
       "      <td>0.000000</td>\n",
       "    </tr>\n",
       "    <tr>\n",
       "      <th>ENSMUSG00000067261</th>\n",
       "      <td>66.277230</td>\n",
       "      <td>-5.905145</td>\n",
       "      <td>1.336072</td>\n",
       "      <td>1.958259e-08</td>\n",
       "      <td>8.658938e-07</td>\n",
       "      <td>significant</td>\n",
       "      <td>DOWN</td>\n",
       "      <td>naive</td>\n",
       "      <td>591.0</td>\n",
       "      <td>16.837129</td>\n",
       "      <td>0.368562</td>\n",
       "    </tr>\n",
       "    <tr>\n",
       "      <th>ENSMUSG00000048070</th>\n",
       "      <td>19.045768</td>\n",
       "      <td>-5.806832</td>\n",
       "      <td>2.558161</td>\n",
       "      <td>5.910746e-05</td>\n",
       "      <td>6.957515e-04</td>\n",
       "      <td>significant</td>\n",
       "      <td>DOWN</td>\n",
       "      <td>NaN</td>\n",
       "      <td>3607.0</td>\n",
       "      <td>0.345442</td>\n",
       "      <td>0.000000</td>\n",
       "    </tr>\n",
       "    <tr>\n",
       "      <th>ENSMUSG00000025056</th>\n",
       "      <td>404.741559</td>\n",
       "      <td>-5.527831</td>\n",
       "      <td>1.179622</td>\n",
       "      <td>1.667853e-07</td>\n",
       "      <td>5.209746e-06</td>\n",
       "      <td>significant</td>\n",
       "      <td>DOWN</td>\n",
       "      <td>NaN</td>\n",
       "      <td>355.0</td>\n",
       "      <td>92.916880</td>\n",
       "      <td>1.507541</td>\n",
       "    </tr>\n",
       "  </tbody>\n",
       "</table>\n",
       "</div>"
      ],
      "text/plain": [
       "                      baseMean  log2FoldChange     lfcSE        pvalue  \\\n",
       "ENSMUSG00000019989  100.502042       -6.899289  1.187185  2.130376e-12   \n",
       "ENSMUSG00000054727   33.385117       -6.442636  2.680247  1.643360e-05   \n",
       "ENSMUSG00000067261   66.277230       -5.905145  1.336072  1.958259e-08   \n",
       "ENSMUSG00000048070   19.045768       -5.806832  2.558161  5.910746e-05   \n",
       "ENSMUSG00000025056  404.741559       -5.527831  1.179622  1.667853e-07   \n",
       "\n",
       "                            padj significance regulation Naive_Genes  \\\n",
       "ENSMUSG00000019989  2.844469e-10  significant       DOWN         NaN   \n",
       "ENSMUSG00000054727  2.451360e-04  significant       DOWN         NaN   \n",
       "ENSMUSG00000067261  8.658938e-07  significant       DOWN       naive   \n",
       "ENSMUSG00000048070  6.957515e-04  significant       DOWN         NaN   \n",
       "ENSMUSG00000025056  5.209746e-06  significant       DOWN         NaN   \n",
       "\n",
       "                    UtrLength  Mean TPM in KO FCL  Mean TPM in S200WT FCL  \n",
       "ENSMUSG00000019989     1499.0            6.805262                0.029012  \n",
       "ENSMUSG00000054727      268.0            1.449495                0.000000  \n",
       "ENSMUSG00000067261      591.0           16.837129                0.368562  \n",
       "ENSMUSG00000048070     3607.0            0.345442                0.000000  \n",
       "ENSMUSG00000025056      355.0           92.916880                1.507541  "
      ]
     },
     "execution_count": 25,
     "metadata": {},
     "output_type": "execute_result"
    }
   ],
   "source": [
    "df_KO_WT_grouped.head()"
   ]
  },
  {
   "cell_type": "code",
   "execution_count": 26,
   "metadata": {},
   "outputs": [
    {
     "data": {
      "image/png": "[encoded data removed]",
      "text/plain": [
       "<Figure size 640x480 with 1 Axes>"
      ]
     },
     "metadata": {},
     "output_type": "display_data"
    }
   ],
   "source": [
    "# No TPM-based filtering - KO_FCL\n",
    "g = sns.boxplot(data=df_KO_WT_grouped, x='regulation', y='Mean TPM in KO FCL', showfliers=False,  color='#f4a261', saturation=1)\n",
    "g.figure.savefig(f'{outpath}/KO_FCL_TpmRangesForAllGroupedGenes.pdf', bbox_inches='tight')"
   ]
  },
  {
   "cell_type": "code",
   "execution_count": 27,
   "metadata": {},
   "outputs": [
    {
     "data": {
      "image/png": "[encoded data removed]",
      "text/plain": [
       "<Figure size 640x480 with 1 Axes>"
      ]
     },
     "metadata": {},
     "output_type": "display_data"
    }
   ],
   "source": [
    "# No TPM-based filtering - S200WT_FCL\n",
    "g = sns.boxplot(data=df_KO_WT_grouped, x='regulation', y='Mean TPM in S200WT FCL', showfliers=False,  color='#f4a261', saturation=1)\n",
    "g.figure.savefig(f'{outpath}/S200WT_FCL_TpmRangesForAllGroupedGenes.pdf', bbox_inches='tight')"
   ]
  },
  {
   "cell_type": "code",
   "execution_count": 28,
   "metadata": {},
   "outputs": [
    {
     "data": {
      "image/png": "[encoded data removed]",
      "text/plain": [
       "<Figure size 640x480 with 1 Axes>"
      ]
     },
     "metadata": {},
     "output_type": "display_data"
    }
   ],
   "source": [
    "# Applying a min TPM filter of 5 in KO_FCL or WT_FCL\n",
    "g = sns.boxplot(\n",
    "    data=df_KO_WT_grouped.loc[(df_KO_WT_grouped['Mean TPM in KO FCL'] >= 5) | (df_KO_WT_grouped['Mean TPM in S200WT FCL'] >= 5)], \\\n",
    "    x='regulation', y='Mean TPM in KO FCL', showfliers=True, color='#f4a261', saturation=1\n",
    "    )\n",
    "g.set_yscale('log')\n",
    "plt.show()\n",
    "g.figure.savefig(f'{outpath}/TpmRangesForGenesWithMeanTpmInKoFCLOrWtFclAbove5.pdf', bbox_inches='tight')\n"
   ]
  },
  {
   "cell_type": "code",
   "execution_count": 31,
   "metadata": {},
   "outputs": [
    {
     "data": {
      "image/png": "[encoded data removed]",
      "text/plain": [
       "<Figure size 640x480 with 1 Axes>"
      ]
     },
     "metadata": {},
     "output_type": "display_data"
    }
   ],
   "source": [
    "# Applying a min TPM filter of 5 in KO_FCL or WT_FCL\n",
    "g = sns.boxplot(\n",
    "    data=df_KO_WT_grouped.loc[(df_KO_WT_grouped['Mean TPM in KO FCL'] >= 5) | (df_KO_WT_grouped['Mean TPM in S200WT FCL'] >= 5)], \\\n",
    "    x='regulation', y='Mean TPM in KO FCL', showfliers=False, color='#f4a261', saturation=1\n",
    "    )\n",
    "g.figure.savefig(f'{outpath}/TpmRangesForGenesWithMeanTpmInKoFCLOrWtFclAbove5_nofliers.pdf', bbox_inches='tight')"
   ]
  },
  {
   "cell_type": "code",
   "execution_count": 34,
   "metadata": {},
   "outputs": [
    {
     "data": {
      "image/png": "[encoded data removed]",
      "text/plain": [
       "<Figure size 640x480 with 1 Axes>"
      ]
     },
     "metadata": {},
     "output_type": "display_data"
    }
   ],
   "source": [
    "# Applying a min TPM filter of 5 in KO_FCL or WT_FCL\n",
    "g = sns.boxplot(\n",
    "    data=df_KO_WT_grouped.loc[(df_KO_WT_grouped['Mean TPM in KO FCL'] >= 5) | (df_KO_WT_grouped['Mean TPM in S200WT FCL'] >= 5)], \\\n",
    "    x='regulation', y='Mean TPM in S200WT FCL', showfliers=False, color='#f4a261', saturation=1\n",
    "    )\n",
    "g.figure.savefig(f'{outpath}/TpmRangesForGenesWithMeanTpmInKoFCLOrWtFclAbove5_nofliers.pdf', bbox_inches='tight')"
   ]
  },
  {
   "cell_type": "code",
   "execution_count": 29,
   "metadata": {},
   "outputs": [],
   "source": [
    "# Remove lowly expressed genes (excluding naive genes)\n",
    "df_KO_WT_grouped = df_KO_WT_grouped.loc[(df_KO_WT_grouped.Naive_Genes == 'naive') | \\\n",
    "                                        (df_KO_WT_grouped['Mean TPM in KO FCL'] >= 5) | \\\n",
    "                                        (df_KO_WT_grouped['Mean TPM in S200WT FCL'] >= 5)]\n",
    "\n",
    "df_KO_WT_grouped.to_csv(f'{outpath}/KO_WT_GeneGroups_TPMGreaterThan5InEitherCondition_NaiveExemption_NoUtrLengthFilter.csv')"
   ]
  },
  {
   "cell_type": "code",
   "execution_count": 30,
   "metadata": {},
   "outputs": [
    {
     "data": {
      "text/plain": [
       "regulation\n",
       "CONTROL    2891\n",
       "DOWN       1240\n",
       "UP         1062\n",
       "Name: baseMean, dtype: int64"
      ]
     },
     "execution_count": 30,
     "metadata": {},
     "output_type": "execute_result"
    }
   ],
   "source": [
    "# How many genes remain after filtering?\n",
    "df_KO_WT_grouped.groupby('regulation').count()['baseMean']"
   ]
  },
  {
   "cell_type": "markdown",
   "metadata": {},
   "source": [
    "## Compare Utr lengths"
   ]
  },
  {
   "cell_type": "code",
   "execution_count": 68,
   "metadata": {},
   "outputs": [
    {
     "name": "stdout",
     "output_type": "stream",
     "text": [
      "DOWN vs. CONTROL: Welch's t-test independent samples, P_val:9.576e-01 t=5.313e-02\n",
      "DOWN vs. UP: Welch's t-test independent samples, P_val:5.538e-01 t=-5.922e-01\n"
     ]
    },
    {
     "data": {
      "image/png": "[encoded data removed]",
      "text/plain": [
       "<Figure size 300x400 with 1 Axes>"
      ]
     },
     "metadata": {},
     "output_type": "display_data"
    }
   ],
   "source": [
    "# Prior to filtering\n",
    "sns.set_style('white')\n",
    "dfPlot = df_KO_WT_grouped.loc[df_KO_WT_grouped.UtrLength > 0]\n",
    "\n",
    "PROPS = {\n",
    "    'boxprops':{'facecolor':'white', 'edgecolor':'black'},\n",
    "    'medianprops':{'color':'black'},\n",
    "    'whiskerprops':{'color':'black'},\n",
    "    'capprops':{'color':'black'}\n",
    "}\n",
    "\n",
    "fig, ax = plt.subplots(figsize=(3, 4))\n",
    "g = sns.boxplot(\n",
    "    data = dfPlot, x='regulation', y='UtrLength', order=[\"DOWN\", \"CONTROL\", \"UP\"],\n",
    "    showfliers=True, **PROPS, ax=ax)\n",
    "g.tick_params(left=True)\n",
    "# g.set_yscale('log')\n",
    "sns.despine(top=True, right=True)\n",
    "\n",
    "annot = Annotator(g, pairs=[(\"DOWN\", \"CONTROL\"), (\"DOWN\", \"UP\")],\\\n",
    "                data=dfPlot, x=\"regulation\", y=\"UtrLength\", order=[\"DOWN\", \"CONTROL\", \"UP\"])\n",
    "annot.configure(test='t-test_welch', text_format='full', loc='inside', verbose=2)\n",
    "annot.apply_test().annotate()\n",
    "fig.savefig('Boxplot_UtrLengts.pdf', bbox_inches='tight')\n"
   ]
  },
  {
   "cell_type": "code",
   "execution_count": 39,
   "metadata": {},
   "outputs": [
    {
     "data": {
      "text/plain": [
       "ENSMUSG00000009733      47.0\n",
       "ENSMUSG00000038773     524.0\n",
       "ENSMUSG00000051176     532.0\n",
       "ENSMUSG00000067261     591.0\n",
       "ENSMUSG00000061524     612.0\n",
       "ENSMUSG00000053470     666.0\n",
       "ENSMUSG00000055148     740.0\n",
       "ENSMUSG00000042414     806.0\n",
       "ENSMUSG00000041359     952.0\n",
       "ENSMUSG00000055799     985.0\n",
       "ENSMUSG00000003032     985.0\n",
       "ENSMUSG00000012396    1081.0\n",
       "ENSMUSG00000074637    1089.0\n",
       "ENSMUSG00000031665    1146.0\n",
       "ENSMUSG00000018604    1635.0\n",
       "ENSMUSG00000005148    1710.0\n",
       "ENSMUSG00000067860    2013.0\n",
       "ENSMUSG00000041483    2089.0\n",
       "ENSMUSG00000021255    2566.0\n",
       "ENSMUSG00000026398    2895.0\n",
       "ENSMUSG00000040943    3061.0\n",
       "ENSMUSG00000033863    3225.0\n",
       "ENSMUSG00000026380    7737.0\n",
       "Name: UtrLength, dtype: float64"
      ]
     },
     "execution_count": 39,
     "metadata": {},
     "output_type": "execute_result"
    }
   ],
   "source": [
    "# Check 3'UTR lengths in naive genes\n",
    "df_KO_WT_grouped.loc[df_KO_WT_grouped.Naive_Genes == 'naive', 'UtrLength'].sort_values()\n",
    "# One naive gene will be filtered out based on UTR length (ENSMUSG00000009733)."
   ]
  },
  {
   "cell_type": "code",
   "execution_count": 40,
   "metadata": {},
   "outputs": [
    {
     "data": {
      "image/png": "[encoded data removed]",
      "text/plain": [
       "<Figure size 640x480 with 1 Axes>"
      ]
     },
     "metadata": {},
     "output_type": "display_data"
    }
   ],
   "source": [
    "# Filter out genes with 3'UTRs shorter than 100\n",
    "df_KO_WT_grouped = df_KO_WT_grouped.loc[df_KO_WT_grouped.UtrLength >= minUtrLen]\n",
    "# Post filtering\n",
    "g = sns.boxplot(data = df_KO_WT_grouped, x='regulation', y='UtrLength', showfliers=False)"
   ]
  },
  {
   "cell_type": "code",
   "execution_count": 41,
   "metadata": {},
   "outputs": [
    {
     "data": {
      "text/plain": [
       "regulation\n",
       "CONTROL    2703\n",
       "DOWN       1183\n",
       "UP          989\n",
       "Name: baseMean, dtype: int64"
      ]
     },
     "execution_count": 41,
     "metadata": {},
     "output_type": "execute_result"
    }
   ],
   "source": [
    "# How many genes are left in each group now?\n",
    "df_KO_WT_grouped.groupby('regulation').count()['baseMean']"
   ]
  },
  {
   "cell_type": "code",
   "execution_count": 42,
   "metadata": {},
   "outputs": [],
   "source": [
    "df_KO_WT_grouped.to_csv(f'{outpath}/KO_WT_GeneGroups_TPMGreaterThan5InEitherCondition_NaiveExemption_MinUtrLen{minUtrLen}.csv')"
   ]
  }
 ],
 "metadata": {
  "kernelspec": {
   "display_name": "Python 3.10.12 64-bit",
   "language": "python",
   "name": "python3"
  },
  "language_info": {
   "codemirror_mode": {
    "name": "ipython",
    "version": 3
   },
   "file_extension": ".py",
   "mimetype": "text/x-python",
   "name": "python",
   "nbconvert_exporter": "python",
   "pygments_lexer": "ipython3",
   "version": "3.10.12"
  },
  "orig_nbformat": 4,
  "vscode": {
   "interpreter": {
    "hash": "31f2aee4e71d21fbe5cf8b01ff0e069b9275f58929596ceb00d14d90e3e16cd6"
   }
  }
 },
 "nbformat": 4,
 "nbformat_minor": 2
}
