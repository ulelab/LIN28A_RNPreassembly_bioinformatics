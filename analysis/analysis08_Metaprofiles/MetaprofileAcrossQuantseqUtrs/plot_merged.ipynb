{
 "cells": [
  {
   "cell_type": "code",
   "execution_count": null,
   "metadata": {},
   "outputs": [
    {
     "ename": "",
     "evalue": "",
     "output_type": "error",
     "traceback": [
      "\u001b[1;31mThe kernel failed to start due to the missing module 'comm'. Consider installing this module.\n",
      "\u001b[1;31mClick <a href='https://aka.ms/kernelFailuresMissingModule'>here</a> for more info."
     ]
    }
   ],
   "source": [
    "import pandas as pd\n",
    "import seaborn as sns\n",
    "from glob import glob\n",
    "import os\n",
    "import matplotlib.pyplot as plt\n",
    "sys.path.append(os.path.abspath('../'))\n",
    "import metaprofile_across_regions as mar"
   ]
  },
  {
   "cell_type": "code",
   "execution_count": null,
   "metadata": {},
   "outputs": [
    {
     "ename": "",
     "evalue": "",
     "output_type": "error",
     "traceback": [
      "\u001b[1;31mThe kernel failed to start due to the missing module 'comm'. Consider installing this module.\n",
      "\u001b[1;31mClick <a href='https://aka.ms/kernelFailuresMissingModule'>here</a> for more info."
     ]
    }
   ],
   "source": [
    "# Files\n",
    "coverage_files = glob('../../../results/Metaprofiles/UTR3_termini/merged_replicates/*DOWN_*/*_unsmoothed*.tsv') + \\\n",
    "                 glob('../../../results/Metaprofiles/UTR3_termini/merged_replicates/*UP+CONTROL_*/*_unsmoothed*.tsv')\n",
    "\n",
    "# Sample annotation\n",
    "annot = pd.read_csv('../../../data/general/SampleAnnotation.csv', index_col=0)\n",
    "\n",
    "# Save to\n",
    "outpath = '../../../results/Metaprofiles/UTR3_termini/plots'\n",
    "os.makedirs(outpath, exist_ok=True)\n",
    "\n",
    "# Parameters\n",
    "sw = 20 # Smoothin window"
   ]
  },
  {
   "cell_type": "code",
   "execution_count": null,
   "metadata": {},
   "outputs": [
    {
     "ename": "",
     "evalue": "",
     "output_type": "error",
     "traceback": [
      "\u001b[1;31mThe kernel failed to start due to the missing module 'comm'. Consider installing this module.\n",
      "\u001b[1;31mClick <a href='https://aka.ms/kernelFailuresMissingModule'>here</a> for more info."
     ]
    }
   ],
   "source": [
    "coverage_files"
   ]
  },
  {
   "cell_type": "code",
   "execution_count": null,
   "metadata": {},
   "outputs": [
    {
     "ename": "",
     "evalue": "",
     "output_type": "error",
     "traceback": [
      "\u001b[1;31mThe kernel failed to start due to the missing module 'comm'. Consider installing this module.\n",
      "\u001b[1;31mClick <a href='https://aka.ms/kernelFailuresMissingModule'>here</a> for more info."
     ]
    }
   ],
   "source": [
    "def smoothDf(df, sw):\n",
    "    cols = [c for c in df.columns.tolist() if c in ['ciMax', 'ciMin', 'mean']]\n",
    "    df[cols] = df[cols].rolling(sw, center=True,  win_type='triang', axis=0).mean()\\\n",
    "                    .fillna(axis=0, method='ffill')\\\n",
    "                    .fillna(axis=0, method='bfill')\n",
    "    return df"
   ]
  },
  {
   "cell_type": "code",
   "execution_count": null,
   "metadata": {},
   "outputs": [
    {
     "ename": "",
     "evalue": "",
     "output_type": "error",
     "traceback": [
      "\u001b[1;31mThe kernel failed to start due to the missing module 'comm'. Consider installing this module.\n",
      "\u001b[1;31mClick <a href='https://aka.ms/kernelFailuresMissingModule'>here</a> for more info."
     ]
    }
   ],
   "source": [
    "# Combine into one table\n",
    "dfList = []\n",
    "for f in coverage_files:\n",
    "    df = pd.read_csv(f, sep='\\t')\n",
    "    df['Group'] = f.split('/')[-2].split('_')[1]\n",
    "    df['Condition'] = f.split('/')[-2].split('cond-')[-1]\n",
    "    df['Norm'] = f.split('/')[-1].split('norm-')[-1].split('.')[0]\n",
    "    dfList.append(df)\n",
    "dfCombined = pd.concat(dfList)"
   ]
  },
  {
   "cell_type": "code",
   "execution_count": null,
   "metadata": {},
   "outputs": [
    {
     "ename": "",
     "evalue": "",
     "output_type": "error",
     "traceback": [
      "\u001b[1;31mThe kernel failed to start due to the missing module 'comm'. Consider installing this module.\n",
      "\u001b[1;31mClick <a href='https://aka.ms/kernelFailuresMissingModule'>here</a> for more info."
     ]
    }
   ],
   "source": [
    "# Smooth with a desired window\n",
    "dfCombined = dfCombined.groupby(['Sample', 'Condition', 'Norm', 'Group']).apply(smoothDf, sw=sw)"
   ]
  },
  {
   "cell_type": "code",
   "execution_count": null,
   "metadata": {},
   "outputs": [
    {
     "ename": "",
     "evalue": "",
     "output_type": "error",
     "traceback": [
      "\u001b[1;31mThe kernel failed to start due to the missing module 'comm'. Consider installing this module.\n",
      "\u001b[1;31mClick <a href='https://aka.ms/kernelFailuresMissingModule'>here</a> for more info."
     ]
    }
   ],
   "source": [
    "# Annotate samples\n",
    "dfCombined = dfCombined.merge(annot, on=['Sample', 'Condition'], how='left')\n",
    "dfCombined.head()"
   ]
  },
  {
   "cell_type": "code",
   "execution_count": null,
   "metadata": {},
   "outputs": [
    {
     "ename": "",
     "evalue": "",
     "output_type": "error",
     "traceback": [
      "\u001b[1;31mThe kernel failed to start due to the missing module 'comm'. Consider installing this module.\n",
      "\u001b[1;31mClick <a href='https://aka.ms/kernelFailuresMissingModule'>here</a> for more info."
     ]
    }
   ],
   "source": [
    "# Plot\n",
    "# Plot LIN28A aroud PAS in UP / DOWN / CTRL -  libnorm and expr norm side by side\n",
    "dfPlot = dfCombined.loc[(dfCombined.Protein == 'LIN28A') & (dfCombined.Group!='naive')]\n",
    "\n",
    "hue_order = ['S200WT_FCL', 'S200WT_2iL', 'S200A_FCL']\n",
    "colorMap = {sample: sns.color_palette('tab10', len(hue_order))[i] for i, sample in enumerate(hue_order)}\n",
    "\n",
    "g = sns.relplot(\n",
    "    data=dfPlot, x='Position', y='mean', hue='Condition',\n",
    "    style='Group', kind='line', col='Norm', facet_kws={'sharey': False, 'sharex': True},\n",
    "    style_order=['DOWN', 'UP+CONTROL'], hue_order=['S200WT_FCL', 'S200WT_2iL', 'S200A_FCL'],\n",
    "    col_order=['libsize', 'by_reg'], palette=colorMap\n",
    "    )\n",
    "\n",
    "for idx, ax in g.axes_dict.items():\n",
    "    df = dfPlot.loc[dfPlot['Norm'] == idx]\n",
    "    ax.axvline(0, color='black', ls='dashed')\n",
    "    for line_ids, dft in df.groupby(['Condition', 'Group']):\n",
    "        ax.fill_between(dft.Position, dft.ciMax, dft.ciMin, alpha=0.2, color=colorMap[line_ids[0]])\n",
    "        if idx[-1] == 'libsize':\n",
    "            ax.set_ylabel('mean CPM across regions of interest\\n(CI represents variation between evaluated regions)')\n",
    "        else:\n",
    "            ax.set_ylabel('mean CPM per TPM across regions of interest\\n(CI represents variation between evaluated regions)')\n",
    "g.fig.savefig(f'{outpath}/LIN28A_metaprofiles.pdf', bbox_inches='tight')"
   ]
  },
  {
   "cell_type": "code",
   "execution_count": null,
   "metadata": {},
   "outputs": [
    {
     "ename": "",
     "evalue": "",
     "output_type": "error",
     "traceback": [
      "\u001b[1;31mThe kernel failed to start due to the missing module 'comm'. Consider installing this module.\n",
      "\u001b[1;31mClick <a href='https://aka.ms/kernelFailuresMissingModule'>here</a> for more info."
     ]
    }
   ],
   "source": [
    "# # Plot PABPC1 and C4 aroud PAS in UP / DOWN / CTRL -  libnorm and expr norm side by side\n",
    "dfPlot = dfCombined.loc[(dfCombined.Protein != 'LIN28A') & (dfCombined.Group!='naive')]\n",
    "\n",
    "hue_order = ['S200WT_FCL', 'KO_FCL']\n",
    "colorMap = {sample: sns.color_palette('tab10', len(hue_order))[i] for i, sample in enumerate(hue_order)}\n",
    "\n",
    "g = sns.relplot(\n",
    "    data=dfPlot, x='Position', y='mean', hue='Condition',\n",
    "    style='Group', kind='line', col='Norm', row='Protein', facet_kws={'sharey': False, 'sharex': True},\n",
    "    style_order=['DOWN', 'UP+CONTROL'], hue_order=hue_order, col_order=['libsize', 'by_reg'], palette=colorMap,\n",
    "    )\n",
    "\n",
    "for idx, ax in g.axes_dict.items():\n",
    "    print(idx)\n",
    "    df = dfPlot.loc[(dfPlot['Norm'] == idx[1]) & (dfPlot['Protein'] == idx[0])]\n",
    "    ax.axvline(0, color='black', ls='dashed')\n",
    "    for line_ids, dft in df.groupby(['Condition', 'Group']):\n",
    "        ax.fill_between(dft.Position, dft.ciMax, dft.ciMin, alpha=0.2, color=colorMap[line_ids[0]])\n",
    "        if idx[-1] == 'libsize':\n",
    "            ax.set_ylabel('mean CPM across regions of interest\\n(CI represents variation between evaluated regions)')\n",
    "        else:\n",
    "            ax.set_ylabel('mean CPM per TPM across regions of interest\\n(CI represents variation between evaluated regions)')\n",
    "g.fig.savefig(f'{outpath}/PABP_metaprofiles.pdf', bbox_inches='tight')"
   ]
  },
  {
   "cell_type": "code",
   "execution_count": null,
   "metadata": {},
   "outputs": [],
   "source": []
  },
  {
   "cell_type": "code",
   "execution_count": null,
   "metadata": {},
   "outputs": [],
   "source": []
  },
  {
   "cell_type": "code",
   "execution_count": null,
   "metadata": {},
   "outputs": [],
   "source": []
  },
  {
   "cell_type": "code",
   "execution_count": null,
   "metadata": {},
   "outputs": [],
   "source": []
  },
  {
   "cell_type": "code",
   "execution_count": null,
   "metadata": {},
   "outputs": [],
   "source": []
  },
  {
   "cell_type": "code",
   "execution_count": null,
   "metadata": {},
   "outputs": [],
   "source": []
  },
  {
   "cell_type": "code",
   "execution_count": null,
   "metadata": {},
   "outputs": [],
   "source": []
  },
  {
   "cell_type": "code",
   "execution_count": null,
   "metadata": {},
   "outputs": [],
   "source": []
  }
 ],
 "metadata": {
  "kernelspec": {
   "display_name": "Python 3.7.12 ('JupyterAnalyses')",
   "language": "python",
   "name": "python3"
  },
  "language_info": {
   "codemirror_mode": {
    "name": "ipython",
    "version": 3
   },
   "file_extension": ".py",
   "mimetype": "text/x-python",
   "name": "python",
   "nbconvert_exporter": "python",
   "pygments_lexer": "ipython3",
   "version": "3.7.12"
  },
  "orig_nbformat": 4,
  "vscode": {
   "interpreter": {
    "hash": "3c462914f8e57552fc47cdaa98231bebd40f7b993532231b14ce4e52f57858dd"
   }
  }
 },
 "nbformat": 4,
 "nbformat_minor": 2
}
