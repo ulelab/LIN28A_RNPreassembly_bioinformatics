{
 "cells": [
  {
   "cell_type": "code",
   "execution_count": 1,
   "metadata": {},
   "outputs": [],
   "source": [
    "import pandas as pd\n",
    "import pybedtools as pbt\n",
    "import os\n",
    "import sys\n",
    "\n",
    "scriptpath = \"../../src/\"\n",
    "sys.path.append(os.path.abspath(scriptpath))\n",
    "import GtfBedLibrary as gbl"
   ]
  },
  {
   "cell_type": "code",
   "execution_count": 2,
   "metadata": {},
   "outputs": [],
   "source": [
    "#Save to\n",
    "outpath = '../../data/3PrimeStarts/Quantseq'\n",
    "os.makedirs(outpath, exist_ok=True)\n",
    "\n",
    "# Import filtered bed\n",
    "BedRegions = gbl.ReadBed('../../results/GeneGroups_Quantseq/3UtrLoci/QuantseqGroups.bed')\n",
    "\n",
    "fai = '../../data/genomes/Goodwright_m39/chromsizes.txt'\n",
    "\n",
    "fasta = '../../data/genomes/Goodwright_m39/GRCm39.primary_assembly.genome.fa'\n",
    "\n",
    "windows = [300, 500]\n",
    "FastaW = 300"
   ]
  },
  {
   "cell_type": "code",
   "execution_count": 3,
   "metadata": {},
   "outputs": [
    {
     "data": {
      "text/html": [
       "<div>\n",
       "<style scoped>\n",
       "    .dataframe tbody tr th:only-of-type {\n",
       "        vertical-align: middle;\n",
       "    }\n",
       "\n",
       "    .dataframe tbody tr th {\n",
       "        vertical-align: top;\n",
       "    }\n",
       "\n",
       "    .dataframe thead th {\n",
       "        text-align: right;\n",
       "    }\n",
       "</style>\n",
       "<table border=\"1\" class=\"dataframe\">\n",
       "  <thead>\n",
       "    <tr style=\"text-align: right;\">\n",
       "      <th></th>\n",
       "      <th>chrom</th>\n",
       "      <th>start</th>\n",
       "      <th>end</th>\n",
       "      <th>name</th>\n",
       "      <th>score</th>\n",
       "      <th>strand</th>\n",
       "      <th>6</th>\n",
       "    </tr>\n",
       "  </thead>\n",
       "  <tbody>\n",
       "    <tr>\n",
       "      <th>0</th>\n",
       "      <td>chr10</td>\n",
       "      <td>24648303</td>\n",
       "      <td>24649802</td>\n",
       "      <td>DOWN</td>\n",
       "      <td>-6.899042</td>\n",
       "      <td>-</td>\n",
       "      <td>ENSMUSG00000019989</td>\n",
       "    </tr>\n",
       "    <tr>\n",
       "      <th>1</th>\n",
       "      <td>chr4</td>\n",
       "      <td>99546268</td>\n",
       "      <td>99546859</td>\n",
       "      <td>DOWN</td>\n",
       "      <td>-5.904965</td>\n",
       "      <td>+</td>\n",
       "      <td>ENSMUSG00000067261</td>\n",
       "    </tr>\n",
       "    <tr>\n",
       "      <th>2</th>\n",
       "      <td>chrX</td>\n",
       "      <td>85239198</td>\n",
       "      <td>85239553</td>\n",
       "      <td>DOWN</td>\n",
       "      <td>-5.527307</td>\n",
       "      <td>+</td>\n",
       "      <td>ENSMUSG00000025056</td>\n",
       "    </tr>\n",
       "    <tr>\n",
       "      <th>3</th>\n",
       "      <td>chr15</td>\n",
       "      <td>85760430</td>\n",
       "      <td>85760774</td>\n",
       "      <td>DOWN</td>\n",
       "      <td>-4.238394</td>\n",
       "      <td>+</td>\n",
       "      <td>ENSMUSG00000022385</td>\n",
       "    </tr>\n",
       "    <tr>\n",
       "      <th>4</th>\n",
       "      <td>chr13</td>\n",
       "      <td>114588825</td>\n",
       "      <td>114590341</td>\n",
       "      <td>DOWN</td>\n",
       "      <td>-4.188287</td>\n",
       "      <td>-</td>\n",
       "      <td>ENSMUSG00000021765</td>\n",
       "    </tr>\n",
       "  </tbody>\n",
       "</table>\n",
       "</div>"
      ],
      "text/plain": [
       "   chrom      start        end  name     score strand                   6\n",
       "0  chr10   24648303   24649802  DOWN -6.899042      -  ENSMUSG00000019989\n",
       "1   chr4   99546268   99546859  DOWN -5.904965      +  ENSMUSG00000067261\n",
       "2   chrX   85239198   85239553  DOWN -5.527307      +  ENSMUSG00000025056\n",
       "3  chr15   85760430   85760774  DOWN -4.238394      +  ENSMUSG00000022385\n",
       "4  chr13  114588825  114590341  DOWN -4.188287      -  ENSMUSG00000021765"
      ]
     },
     "execution_count": 3,
     "metadata": {},
     "output_type": "execute_result"
    }
   ],
   "source": [
    "BedRegions.head()"
   ]
  },
  {
   "cell_type": "markdown",
   "metadata": {},
   "source": [
    "## Functions"
   ]
  },
  {
   "cell_type": "code",
   "execution_count": 4,
   "metadata": {},
   "outputs": [],
   "source": [
    "def Get3UtrStarts(df):\n",
    "    df.loc[df.strand == '+', 'end'] = df.loc[df.strand == '+', 'start'] + 1\n",
    "    df.loc[df.strand == '-', 'start'] = df.loc[df.strand == '-', 'end'] - 1\n",
    "    return df\n",
    "\n",
    "def StrandedSlop(bt, fai, UpstreamW=0, DownstreamW=300):\n",
    "    bt = bt.slop(s=True, l=UpstreamW, r=DownstreamW, g=fai)\n",
    "    return bt"
   ]
  },
  {
   "cell_type": "markdown",
   "metadata": {},
   "source": [
    "## Get intervals"
   ]
  },
  {
   "cell_type": "code",
   "execution_count": 5,
   "metadata": {},
   "outputs": [
    {
     "data": {
      "text/plain": [
       "<BedTool(../../data/3PrimeStarts/Quantseq/quantseq3PUtrStarts.bed.gz)>"
      ]
     },
     "execution_count": 5,
     "metadata": {},
     "output_type": "execute_result"
    }
   ],
   "source": [
    "# Get 3'UTR starts\n",
    "btquantseq = pbt.BedTool.from_dataframe(Get3UtrStarts(BedRegions)).sort()\n",
    "btquantseq.saveas(f'{outpath}/quantseq3PUtrStarts.bed.gz')"
   ]
  },
  {
   "cell_type": "code",
   "execution_count": 6,
   "metadata": {},
   "outputs": [
    {
     "name": "stdout",
     "output_type": "stream",
     "text": [
      "CONTROL\n",
      "DOWN\n",
      "UP\n"
     ]
    }
   ],
   "source": [
    "# Save a separate bed file for each quantseq group (3'ends)\n",
    "for group, df in gbl.ParseBedToolToDf(btquantseq).groupby(['name']):\n",
    "    print(group)\n",
    "    bt = pbt.BedTool.from_dataframe(df)\n",
    "    bt.saveas(f'{outpath}/{group}_quantseq3PUtrStarts.bed.gz')"
   ]
  },
  {
   "cell_type": "code",
   "execution_count": 7,
   "metadata": {},
   "outputs": [],
   "source": [
    "# Get interval file with x nt upstream of 3'UTR end.\n",
    "for DownstreamW in windows:\n",
    "    btquantseqSlop = StrandedSlop(btquantseq, fai=fai, UpstreamW=0, DownstreamW=DownstreamW).sort()\n",
    "    btquantseqSlop.saveas(f'{outpath}/Btquantseq3PStartsExtended{DownstreamW}Downstream.bed.gz')"
   ]
  },
  {
   "cell_type": "code",
   "execution_count": 8,
   "metadata": {},
   "outputs": [
    {
     "data": {
      "text/html": [
       "<div>\n",
       "<style scoped>\n",
       "    .dataframe tbody tr th:only-of-type {\n",
       "        vertical-align: middle;\n",
       "    }\n",
       "\n",
       "    .dataframe tbody tr th {\n",
       "        vertical-align: top;\n",
       "    }\n",
       "\n",
       "    .dataframe thead th {\n",
       "        text-align: right;\n",
       "    }\n",
       "</style>\n",
       "<table border=\"1\" class=\"dataframe\">\n",
       "  <thead>\n",
       "    <tr style=\"text-align: right;\">\n",
       "      <th></th>\n",
       "      <th>chrom</th>\n",
       "      <th>start</th>\n",
       "      <th>end</th>\n",
       "      <th>name</th>\n",
       "      <th>score</th>\n",
       "      <th>strand</th>\n",
       "      <th>6</th>\n",
       "    </tr>\n",
       "  </thead>\n",
       "  <tbody>\n",
       "    <tr>\n",
       "      <th>0</th>\n",
       "      <td>chr1</td>\n",
       "      <td>4846388</td>\n",
       "      <td>4846689</td>\n",
       "      <td>CONTROL</td>\n",
       "      <td>-0.221081</td>\n",
       "      <td>-</td>\n",
       "      <td>ENSMUSG00000033845</td>\n",
       "    </tr>\n",
       "    <tr>\n",
       "      <th>1</th>\n",
       "      <td>chr1</td>\n",
       "      <td>4966584</td>\n",
       "      <td>4966885</td>\n",
       "      <td>DOWN</td>\n",
       "      <td>-1.709470</td>\n",
       "      <td>+</td>\n",
       "      <td>ENSMUSG00000033813</td>\n",
       "    </tr>\n",
       "    <tr>\n",
       "      <th>2</th>\n",
       "      <td>chr1</td>\n",
       "      <td>9616843</td>\n",
       "      <td>9617144</td>\n",
       "      <td>DOWN</td>\n",
       "      <td>-1.120703</td>\n",
       "      <td>+</td>\n",
       "      <td>ENSMUSG00000061024</td>\n",
       "    </tr>\n",
       "    <tr>\n",
       "      <th>3</th>\n",
       "      <td>chr1</td>\n",
       "      <td>10094905</td>\n",
       "      <td>10095206</td>\n",
       "      <td>CONTROL</td>\n",
       "      <td>0.359694</td>\n",
       "      <td>-</td>\n",
       "      <td>ENSMUSG00000025917</td>\n",
       "    </tr>\n",
       "    <tr>\n",
       "      <th>4</th>\n",
       "      <td>chr1</td>\n",
       "      <td>10206367</td>\n",
       "      <td>10206668</td>\n",
       "      <td>CONTROL</td>\n",
       "      <td>-0.109736</td>\n",
       "      <td>+</td>\n",
       "      <td>ENSMUSG00000056763</td>\n",
       "    </tr>\n",
       "  </tbody>\n",
       "</table>\n",
       "</div>"
      ],
      "text/plain": [
       "  chrom     start       end     name     score strand                   6\n",
       "0  chr1   4846388   4846689  CONTROL -0.221081      -  ENSMUSG00000033845\n",
       "1  chr1   4966584   4966885     DOWN -1.709470      +  ENSMUSG00000033813\n",
       "2  chr1   9616843   9617144     DOWN -1.120703      +  ENSMUSG00000061024\n",
       "3  chr1  10094905  10095206  CONTROL  0.359694      -  ENSMUSG00000025917\n",
       "4  chr1  10206367  10206668  CONTROL -0.109736      +  ENSMUSG00000056763"
      ]
     },
     "execution_count": 8,
     "metadata": {},
     "output_type": "execute_result"
    }
   ],
   "source": [
    "dfquantseqSlop = gbl.ReadBed(f'{outpath}/Btquantseq3PStartsExtended{FastaW}Downstream.bed.gz')\n",
    "dfquantseqSlop.head()"
   ]
  },
  {
   "cell_type": "code",
   "execution_count": 9,
   "metadata": {},
   "outputs": [
    {
     "name": "stdout",
     "output_type": "stream",
     "text": [
      "CONTROL\n",
      "DOWN\n",
      "UP\n"
     ]
    }
   ],
   "source": [
    "# Get fasta files\n",
    "for group, df in dfquantseqSlop.groupby(['name']):\n",
    "    print(group)\n",
    "    bt = pbt.BedTool.from_dataframe(df)\n",
    "    bt.sequence(fi=fasta, s=True, fo=f'{outpath}/{group}_quantseqSlop_Downstream{FastaW}.fasta')"
   ]
  },
  {
   "cell_type": "code",
   "execution_count": null,
   "metadata": {},
   "outputs": [],
   "source": []
  }
 ],
 "metadata": {
  "kernelspec": {
   "display_name": "Python 3.7.12 ('JupyterAnalyses')",
   "language": "python",
   "name": "python3"
  },
  "language_info": {
   "codemirror_mode": {
    "name": "ipython",
    "version": 3
   },
   "file_extension": ".py",
   "mimetype": "text/x-python",
   "name": "python",
   "nbconvert_exporter": "python",
   "pygments_lexer": "ipython3",
   "version": "3.7.12"
  },
  "orig_nbformat": 4,
  "vscode": {
   "interpreter": {
    "hash": "e3a5e41094ab1c702a06c69f12f608a168aa4760d2953e0e9de1278519583907"
   }
  }
 },
 "nbformat": 4,
 "nbformat_minor": 2
}
