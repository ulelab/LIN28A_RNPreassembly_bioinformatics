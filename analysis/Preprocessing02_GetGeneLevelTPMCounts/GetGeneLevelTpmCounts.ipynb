{
 "cells": [
  {
   "cell_type": "code",
   "execution_count": 1,
   "metadata": {},
   "outputs": [],
   "source": [
    "import pandas as pd\n",
    "from glob import glob\n",
    "import pyranges as pr"
   ]
  },
  {
   "cell_type": "code",
   "execution_count": 2,
   "metadata": {},
   "outputs": [],
   "source": [
    "# Import annotation\n",
    "gtf = pr.read_gtf('../../data/genomes/GRCm38/gencode.vM22.primary_assembly.annotation.gtf', as_df=True)\n",
    "gtf = gtf.loc[gtf.Feature == 'transcript']"
   ]
  },
  {
   "cell_type": "code",
   "execution_count": 3,
   "metadata": {},
   "outputs": [],
   "source": [
    "# Import quantfiles\n",
    "quantfiles = sorted(glob('../../data/MihaDeseq/salmon_quantfiles/*quant.sf'))\n",
    "\n",
    "# Save to\n",
    "outpath = '../../data/MihaDeseq'"
   ]
  },
  {
   "cell_type": "code",
   "execution_count": 4,
   "metadata": {},
   "outputs": [
    {
     "name": "stderr",
     "output_type": "stream",
     "text": [
      "/home/klara/anaconda3/envs/JupyterAnalyses/lib/python3.7/site-packages/ipykernel_launcher.py:2: SettingWithCopyWarning: \n",
      "A value is trying to be set on a copy of a slice from a DataFrame.\n",
      "Try using .loc[row_indexer,col_indexer] = value instead\n",
      "\n",
      "See the caveats in the documentation: https://pandas.pydata.org/pandas-docs/stable/user_guide/indexing.html#returning-a-view-versus-a-copy\n",
      "  \n",
      "/home/klara/anaconda3/envs/JupyterAnalyses/lib/python3.7/site-packages/ipykernel_launcher.py:3: SettingWithCopyWarning: \n",
      "A value is trying to be set on a copy of a slice from a DataFrame.\n",
      "Try using .loc[row_indexer,col_indexer] = value instead\n",
      "\n",
      "See the caveats in the documentation: https://pandas.pydata.org/pandas-docs/stable/user_guide/indexing.html#returning-a-view-versus-a-copy\n",
      "  This is separate from the ipykernel package so we can avoid doing imports until\n"
     ]
    },
    {
     "data": {
      "text/html": [
       "<div>\n",
       "<style scoped>\n",
       "    .dataframe tbody tr th:only-of-type {\n",
       "        vertical-align: middle;\n",
       "    }\n",
       "\n",
       "    .dataframe tbody tr th {\n",
       "        vertical-align: top;\n",
       "    }\n",
       "\n",
       "    .dataframe thead th {\n",
       "        text-align: right;\n",
       "    }\n",
       "</style>\n",
       "<table border=\"1\" class=\"dataframe\">\n",
       "  <thead>\n",
       "    <tr style=\"text-align: right;\">\n",
       "      <th></th>\n",
       "      <th>gene_id</th>\n",
       "      <th>transcript_id</th>\n",
       "      <th>stable_gene_id</th>\n",
       "      <th>transcript_stable_id</th>\n",
       "    </tr>\n",
       "  </thead>\n",
       "  <tbody>\n",
       "    <tr>\n",
       "      <th>1</th>\n",
       "      <td>ENSMUSG00000102693.1</td>\n",
       "      <td>ENSMUST00000193812.1</td>\n",
       "      <td>ENSMUSG00000102693</td>\n",
       "      <td>ENSMUST00000193812</td>\n",
       "    </tr>\n",
       "    <tr>\n",
       "      <th>4</th>\n",
       "      <td>ENSMUSG00000064842.1</td>\n",
       "      <td>ENSMUST00000082908.1</td>\n",
       "      <td>ENSMUSG00000064842</td>\n",
       "      <td>ENSMUST00000082908</td>\n",
       "    </tr>\n",
       "    <tr>\n",
       "      <th>7</th>\n",
       "      <td>ENSMUSG00000051951.5</td>\n",
       "      <td>ENSMUST00000162897.1</td>\n",
       "      <td>ENSMUSG00000051951</td>\n",
       "      <td>ENSMUST00000162897</td>\n",
       "    </tr>\n",
       "    <tr>\n",
       "      <th>10</th>\n",
       "      <td>ENSMUSG00000051951.5</td>\n",
       "      <td>ENSMUST00000159265.1</td>\n",
       "      <td>ENSMUSG00000051951</td>\n",
       "      <td>ENSMUST00000159265</td>\n",
       "    </tr>\n",
       "    <tr>\n",
       "      <th>13</th>\n",
       "      <td>ENSMUSG00000051951.5</td>\n",
       "      <td>ENSMUST00000070533.4</td>\n",
       "      <td>ENSMUSG00000051951</td>\n",
       "      <td>ENSMUST00000070533</td>\n",
       "    </tr>\n",
       "  </tbody>\n",
       "</table>\n",
       "</div>"
      ],
      "text/plain": [
       "                 gene_id         transcript_id      stable_gene_id  \\\n",
       "1   ENSMUSG00000102693.1  ENSMUST00000193812.1  ENSMUSG00000102693   \n",
       "4   ENSMUSG00000064842.1  ENSMUST00000082908.1  ENSMUSG00000064842   \n",
       "7   ENSMUSG00000051951.5  ENSMUST00000162897.1  ENSMUSG00000051951   \n",
       "10  ENSMUSG00000051951.5  ENSMUST00000159265.1  ENSMUSG00000051951   \n",
       "13  ENSMUSG00000051951.5  ENSMUST00000070533.4  ENSMUSG00000051951   \n",
       "\n",
       "   transcript_stable_id  \n",
       "1    ENSMUST00000193812  \n",
       "4    ENSMUST00000082908  \n",
       "7    ENSMUST00000162897  \n",
       "10   ENSMUST00000159265  \n",
       "13   ENSMUST00000070533  "
      ]
     },
     "execution_count": 4,
     "metadata": {},
     "output_type": "execute_result"
    }
   ],
   "source": [
    "TranscriptIds = gtf[['gene_id', 'transcript_id']]\n",
    "TranscriptIds['stable_gene_id'] = TranscriptIds.gene_id.apply(lambda x: x.split('.')[0])\n",
    "TranscriptIds['transcript_stable_id'] = TranscriptIds.transcript_id.apply(lambda x: x.split('.')[0])\n",
    "TranscriptIds.head()"
   ]
  },
  {
   "cell_type": "code",
   "execution_count": 5,
   "metadata": {},
   "outputs": [],
   "source": [
    "TranscriptIds[['transcript_stable_id', 'stable_gene_id']].to_csv(f'{outpath}/transcript_to_gene_mapping_mm10_V22.csv', index=False)"
   ]
  },
  {
   "cell_type": "code",
   "execution_count": 6,
   "metadata": {},
   "outputs": [],
   "source": [
    "DfCountsTPM = pd.DataFrame()\n",
    "for i, f in enumerate(quantfiles):\n",
    "    s = f.split('/')[-1].split('.')[0]\n",
    "    df = pd.read_csv(f, sep='\\t', index_col=0).rename(columns={'TPM': f'{s}.TPM'})\n",
    "    df = df[f'{s}.TPM']\n",
    "    # print(df.head())\n",
    "    DfCountsTPM[f'{s}.TPM'] = df\n",
    "# Convert transcript counts to gene counts\n",
    "DfCountsTPM = DfCountsTPM.merge(TranscriptIds[['transcript_id', 'stable_gene_id']], left_on='Name', right_on='transcript_id', how='inner').set_index('transcript_id')\n",
    "# Aggregate counts for the same gene_id\n",
    "dfGeneCountsTPM = DfCountsTPM.groupby('stable_gene_id').sum().astype(float)\n",
    "dfGeneCountsTPM.to_csv(f'{outpath}/GeneLevel_TPM_counts.csv')"
   ]
  },
  {
   "cell_type": "code",
   "execution_count": null,
   "metadata": {},
   "outputs": [],
   "source": []
  }
 ],
 "metadata": {
  "kernelspec": {
   "display_name": "Python 3.7.12 ('JupyterAnalyses')",
   "language": "python",
   "name": "python3"
  },
  "language_info": {
   "codemirror_mode": {
    "name": "ipython",
    "version": 3
   },
   "file_extension": ".py",
   "mimetype": "text/x-python",
   "name": "python",
   "nbconvert_exporter": "python",
   "pygments_lexer": "ipython3",
   "version": "3.7.12"
  },
  "orig_nbformat": 4,
  "vscode": {
   "interpreter": {
    "hash": "e3a5e41094ab1c702a06c69f12f608a168aa4760d2953e0e9de1278519583907"
   }
  }
 },
 "nbformat": 4,
 "nbformat_minor": 2
}
