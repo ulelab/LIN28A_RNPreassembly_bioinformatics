{
 "cells": [
  {
   "cell_type": "code",
   "execution_count": 1,
   "metadata": {},
   "outputs": [],
   "source": [
    "import pandas as pd\n",
    "from glob import glob\n",
    "import numpy as np\n",
    "import math"
   ]
  },
  {
   "cell_type": "code",
   "execution_count": 2,
   "metadata": {},
   "outputs": [],
   "source": [
    "outpath = '../../results/20220915_GeneratePrtxnFile'\n",
    "os.makedirs(outpath, exist_ok=True)\n"
   ]
  },
  {
   "cell_type": "code",
   "execution_count": 3,
   "metadata": {},
   "outputs": [],
   "source": [
    "PekaFiles = glob('../../data/LIN28_220626_results/PEKA/*5mer_distribution_UTR3*')\n",
    "AllSamples = [v for v in PekaFiles if 'LIN28A-S200A_ESC_LIF-CHIR-FGF0220626_MM_2' not in v]"
   ]
  },
  {
   "cell_type": "code",
   "execution_count": 4,
   "metadata": {},
   "outputs": [
    {
     "name": "stdout",
     "output_type": "stream",
     "text": [
      "../../data/LIN28_220626_results/PEKA/LIN28A-S200A_ESC_LIF-CHIR-FGF0220626_MM_1_5mer_distribution_UTR3.tsv\n",
      "-15, -13, -12, -11, -10, -9, 6, 8, 9, 11, 12, 13, 14, 15, 16, 17, 18, 19\n",
      "../../data/LIN28_220626_results/PEKA/LIN28A-WT_ESCiLIF0220626_MM_1_5mer_distribution_UTR3.tsv\n",
      "-17, -16, -15, -14, -13, -12, -11, -10, -9, -8, 6, 8, 9, 10, 11, 12, 13, 14, 15, 16, 17, 18, 19\n",
      "../../data/LIN28_220626_results/PEKA/LIN28A-WT_ESC_LIF-CHIR-FGF0220626_MM_2_5mer_distribution_UTR3.tsv\n",
      "-14, -13, -12, -11, -10, -9\n",
      "../../data/LIN28_220626_results/PEKA/LIN28A-WT_ESC_LIF-CHIR-FGF0220626_MM_1_5mer_distribution_UTR3.tsv\n",
      "-17, -13, -12, -11, -10, -9, -8, 16, 18\n",
      "../../data/LIN28_220626_results/PEKA/LIN28A-WT_ESCiLIF-OLD0220626_MM_5mer_distribution_UTR3.tsv\n",
      "-17, -16, -15, -14, -13, -12, -11, -10, -9, -8, -7, 6, 8, 9, 10, 11, 12, 13, 14, 15, 16, 17, 18, 19\n",
      "../../data/LIN28_220626_results/PEKA/LIN28A-WT_ESCiLIF0220626_MM_2_5mer_distribution_UTR3.tsv\n",
      "-17, -16, -15, -14, -13, -12, -11, -10, -9, -8, -7, 6, 8, 9, 10, 11, 12, 13, 14, 15, 16, 17, 18, 19\n"
     ]
    }
   ],
   "source": [
    "PrtxnDict = {}\n",
    "for f in AllSamples:\n",
    "    print(f)\n",
    "    df = pd.read_csv(f, sep='\\t', index_col=0)\n",
    "    for kmer, row in df.iterrows():\n",
    "        if kmer == 'GAGGG':\n",
    "            print(row.prtxn)\n",
    "        if kmer not in PrtxnDict.keys():\n",
    "            PrtxnDict[kmer] = []\n",
    "        else:\n",
    "            pass\n",
    "        # print(kmer)\n",
    "        # print(row)\n",
    "        if isinstance(row.prtxn, str):\n",
    "            prtxnList = [int(i) for i in row.prtxn.split(', ')]\n",
    "        elif math.isnan(row.prtxn):\n",
    "            prtxnList = []\n",
    "        else:\n",
    "            print('prtxn not string or NaN:', row.prtxn)\n",
    "        allPos = PrtxnDict[kmer] + prtxnList\n",
    "        PrtxnDict[kmer] = sorted(set(allPos))"
   ]
  },
  {
   "cell_type": "code",
   "execution_count": 5,
   "metadata": {},
   "outputs": [],
   "source": [
    "PrtxnDict = {k: ', '.join([str(pos) for pos in v]) for k, v in PrtxnDict.items()}"
   ]
  },
  {
   "cell_type": "code",
   "execution_count": 6,
   "metadata": {},
   "outputs": [
    {
     "data": {
      "text/plain": [
       "'-17, -16, -15, -14, -13, -12, -11, -10, -9, -8, -7, 6, 8, 9, 10, 11, 12, 13, 14, 15, 16, 17, 18, 19'"
      ]
     },
     "execution_count": 6,
     "metadata": {},
     "output_type": "execute_result"
    }
   ],
   "source": [
    "PrtxnDict['GAGGG']"
   ]
  },
  {
   "cell_type": "code",
   "execution_count": 7,
   "metadata": {},
   "outputs": [
    {
     "data": {
      "text/html": [
       "<div>\n",
       "<style scoped>\n",
       "    .dataframe tbody tr th:only-of-type {\n",
       "        vertical-align: middle;\n",
       "    }\n",
       "\n",
       "    .dataframe tbody tr th {\n",
       "        vertical-align: top;\n",
       "    }\n",
       "\n",
       "    .dataframe thead th {\n",
       "        text-align: right;\n",
       "    }\n",
       "</style>\n",
       "<table border=\"1\" class=\"dataframe\">\n",
       "  <thead>\n",
       "    <tr style=\"text-align: right;\">\n",
       "      <th></th>\n",
       "      <th>prtxn</th>\n",
       "    </tr>\n",
       "  </thead>\n",
       "  <tbody>\n",
       "    <tr>\n",
       "      <th>AAAAA</th>\n",
       "      <td>11, 12, 13, 14, 15, 16, 17, 18, 19</td>\n",
       "    </tr>\n",
       "    <tr>\n",
       "      <th>AAAAC</th>\n",
       "      <td>13, 14, 15, 17</td>\n",
       "    </tr>\n",
       "    <tr>\n",
       "      <th>AAAAG</th>\n",
       "      <td>-17, 5, 14, 15, 17</td>\n",
       "    </tr>\n",
       "    <tr>\n",
       "      <th>AAAAU</th>\n",
       "      <td>-5, -4, -3, -2, -1, 12, 13, 15, 18</td>\n",
       "    </tr>\n",
       "    <tr>\n",
       "      <th>AAACA</th>\n",
       "      <td></td>\n",
       "    </tr>\n",
       "  </tbody>\n",
       "</table>\n",
       "</div>"
      ],
      "text/plain": [
       "                                    prtxn\n",
       "AAAAA  11, 12, 13, 14, 15, 16, 17, 18, 19\n",
       "AAAAC                      13, 14, 15, 17\n",
       "AAAAG                  -17, 5, 14, 15, 17\n",
       "AAAAU  -5, -4, -3, -2, -1, 12, 13, 15, 18\n",
       "AAACA                                    "
      ]
     },
     "execution_count": 7,
     "metadata": {},
     "output_type": "execute_result"
    }
   ],
   "source": [
    "DfCombined =  pd.DataFrame().from_dict(PrtxnDict, orient='index', columns=['prtxn'])\n",
    "DfCombined.head()"
   ]
  },
  {
   "cell_type": "code",
   "execution_count": 8,
   "metadata": {},
   "outputs": [],
   "source": [
    "DfCombined.to_csv(f'{outpath}/PrtxnFile.tsv', sep='\\t')"
   ]
  }
 ],
 "metadata": {
  "kernelspec": {
   "display_name": "Python 3.7.12 ('JupyterAnalyses')",
   "language": "python",
   "name": "python3"
  },
  "language_info": {
   "codemirror_mode": {
    "name": "ipython",
    "version": 3
   },
   "file_extension": ".py",
   "mimetype": "text/x-python",
   "name": "python",
   "nbconvert_exporter": "python",
   "pygments_lexer": "ipython3",
   "version": "3.7.12"
  },
  "orig_nbformat": 4,
  "vscode": {
   "interpreter": {
    "hash": "e3a5e41094ab1c702a06c69f12f608a168aa4760d2953e0e9de1278519583907"
   }
  }
 },
 "nbformat": 4,
 "nbformat_minor": 2
}
