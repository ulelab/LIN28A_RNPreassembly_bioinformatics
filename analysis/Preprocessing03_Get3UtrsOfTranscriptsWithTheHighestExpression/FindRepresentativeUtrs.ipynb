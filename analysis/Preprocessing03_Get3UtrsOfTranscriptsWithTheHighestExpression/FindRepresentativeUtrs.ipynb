{
 "cells": [
  {
   "cell_type": "code",
   "execution_count": 1,
   "metadata": {},
   "outputs": [],
   "source": [
    "import glob\n",
    "import pandas as pd\n",
    "import pyranges as pr\n",
    "import os"
   ]
  },
  {
   "cell_type": "code",
   "execution_count": 2,
   "metadata": {},
   "outputs": [],
   "source": [
    "outpath = '../../data/3UtrAtlas'\n",
    "os.makedirs(outpath, exist_ok=True)"
   ]
  },
  {
   "cell_type": "code",
   "execution_count": 3,
   "metadata": {},
   "outputs": [],
   "source": [
    "# Annotation - I'll intersect gene IDs with mm39\n",
    "gtf = pr.read_gtf('../../data/genomes/Goodwright_m39/gencode.vM28.primary_assembly.annotation.gencode_utr_fix.gtf.gz', as_df=True)"
   ]
  },
  {
   "cell_type": "code",
   "execution_count": 4,
   "metadata": {},
   "outputs": [
    {
     "data": {
      "text/plain": [
       "array(['gene', 'transcript', 'exon', 'CDS', 'start_codon', 'stop_codon',\n",
       "       'three_prime_utr', 'five_prime_utr', 'Selenocysteine'],\n",
       "      dtype=object)"
      ]
     },
     "execution_count": 4,
     "metadata": {},
     "output_type": "execute_result"
    }
   ],
   "source": [
    "gtf.Feature.unique()"
   ]
  },
  {
   "cell_type": "code",
   "execution_count": 5,
   "metadata": {},
   "outputs": [
    {
     "data": {
      "text/html": [
       "<div>\n",
       "<style scoped>\n",
       "    .dataframe tbody tr th:only-of-type {\n",
       "        vertical-align: middle;\n",
       "    }\n",
       "\n",
       "    .dataframe tbody tr th {\n",
       "        vertical-align: top;\n",
       "    }\n",
       "\n",
       "    .dataframe thead th {\n",
       "        text-align: right;\n",
       "    }\n",
       "</style>\n",
       "<table border=\"1\" class=\"dataframe\">\n",
       "  <thead>\n",
       "    <tr style=\"text-align: right;\">\n",
       "      <th></th>\n",
       "      <th>Chromosome</th>\n",
       "      <th>Source</th>\n",
       "      <th>Feature</th>\n",
       "      <th>Start</th>\n",
       "      <th>End</th>\n",
       "      <th>Score</th>\n",
       "      <th>Strand</th>\n",
       "      <th>Frame</th>\n",
       "      <th>gene_id</th>\n",
       "      <th>gene_type</th>\n",
       "      <th>...</th>\n",
       "      <th>transcript_support_level</th>\n",
       "      <th>tag</th>\n",
       "      <th>protein_id</th>\n",
       "      <th>exon_number</th>\n",
       "      <th>exon_id</th>\n",
       "      <th>mgi_id</th>\n",
       "      <th>havana_gene</th>\n",
       "      <th>havana_transcript</th>\n",
       "      <th>ont</th>\n",
       "      <th>ccdsid</th>\n",
       "    </tr>\n",
       "  </thead>\n",
       "  <tbody>\n",
       "    <tr>\n",
       "      <th>15</th>\n",
       "      <td>GL456210.1</td>\n",
       "      <td>ENSEMBL</td>\n",
       "      <td>three_prime_utr</td>\n",
       "      <td>149704</td>\n",
       "      <td>149707</td>\n",
       "      <td>.</td>\n",
       "      <td>+</td>\n",
       "      <td>.</td>\n",
       "      <td>ENSMUSG00000094799.2</td>\n",
       "      <td>protein_coding</td>\n",
       "      <td>...</td>\n",
       "      <td>5</td>\n",
       "      <td>basic</td>\n",
       "      <td>ENSMUSP00000111591.3</td>\n",
       "      <td>2</td>\n",
       "      <td>ENSMUSE00001005202.2</td>\n",
       "      <td>NaN</td>\n",
       "      <td>NaN</td>\n",
       "      <td>NaN</td>\n",
       "      <td>NaN</td>\n",
       "      <td>NaN</td>\n",
       "    </tr>\n",
       "    <tr>\n",
       "      <th>24</th>\n",
       "      <td>GL456210.1</td>\n",
       "      <td>ENSEMBL</td>\n",
       "      <td>three_prime_utr</td>\n",
       "      <td>9123</td>\n",
       "      <td>9659</td>\n",
       "      <td>.</td>\n",
       "      <td>-</td>\n",
       "      <td>.</td>\n",
       "      <td>ENSMUSG00000079800.3</td>\n",
       "      <td>protein_coding</td>\n",
       "      <td>...</td>\n",
       "      <td>1</td>\n",
       "      <td>basic</td>\n",
       "      <td>ENSMUSP00000094625.5</td>\n",
       "      <td>2</td>\n",
       "      <td>ENSMUSE00000627465.5</td>\n",
       "      <td>NaN</td>\n",
       "      <td>NaN</td>\n",
       "      <td>NaN</td>\n",
       "      <td>NaN</td>\n",
       "      <td>NaN</td>\n",
       "    </tr>\n",
       "    <tr>\n",
       "      <th>34</th>\n",
       "      <td>GL456210.1</td>\n",
       "      <td>ENSEMBL</td>\n",
       "      <td>three_prime_utr</td>\n",
       "      <td>108389</td>\n",
       "      <td>108392</td>\n",
       "      <td>.</td>\n",
       "      <td>-</td>\n",
       "      <td>.</td>\n",
       "      <td>ENSMUSG00000095092.2</td>\n",
       "      <td>protein_coding</td>\n",
       "      <td>...</td>\n",
       "      <td>5</td>\n",
       "      <td>basic</td>\n",
       "      <td>ENSMUSP00000135921.2</td>\n",
       "      <td>2</td>\n",
       "      <td>ENSMUSE00001028134.2</td>\n",
       "      <td>NaN</td>\n",
       "      <td>NaN</td>\n",
       "      <td>NaN</td>\n",
       "      <td>NaN</td>\n",
       "      <td>NaN</td>\n",
       "    </tr>\n",
       "    <tr>\n",
       "      <th>50</th>\n",
       "      <td>GL456211.1</td>\n",
       "      <td>ENSEMBL</td>\n",
       "      <td>three_prime_utr</td>\n",
       "      <td>67323</td>\n",
       "      <td>67326</td>\n",
       "      <td>.</td>\n",
       "      <td>+</td>\n",
       "      <td>.</td>\n",
       "      <td>ENSMUSG00000096100.2</td>\n",
       "      <td>protein_coding</td>\n",
       "      <td>...</td>\n",
       "      <td>NA</td>\n",
       "      <td>basic</td>\n",
       "      <td>ENSMUSP00000136818.2</td>\n",
       "      <td>1</td>\n",
       "      <td>ENSMUSE00000992279.2</td>\n",
       "      <td>NaN</td>\n",
       "      <td>NaN</td>\n",
       "      <td>NaN</td>\n",
       "      <td>NaN</td>\n",
       "      <td>NaN</td>\n",
       "    </tr>\n",
       "    <tr>\n",
       "      <th>73</th>\n",
       "      <td>GL456211.1</td>\n",
       "      <td>ENSEMBL</td>\n",
       "      <td>three_prime_utr</td>\n",
       "      <td>196305</td>\n",
       "      <td>196478</td>\n",
       "      <td>.</td>\n",
       "      <td>+</td>\n",
       "      <td>.</td>\n",
       "      <td>ENSMUSG00000079190.4</td>\n",
       "      <td>protein_coding</td>\n",
       "      <td>...</td>\n",
       "      <td>1</td>\n",
       "      <td>basic</td>\n",
       "      <td>ENSMUSP00000106991.3</td>\n",
       "      <td>7</td>\n",
       "      <td>ENSMUSE00000687549.3</td>\n",
       "      <td>NaN</td>\n",
       "      <td>NaN</td>\n",
       "      <td>NaN</td>\n",
       "      <td>NaN</td>\n",
       "      <td>NaN</td>\n",
       "    </tr>\n",
       "  </tbody>\n",
       "</table>\n",
       "<p>5 rows × 25 columns</p>\n",
       "</div>"
      ],
      "text/plain": [
       "    Chromosome   Source          Feature   Start     End Score Strand Frame  \\\n",
       "15  GL456210.1  ENSEMBL  three_prime_utr  149704  149707     .      +     .   \n",
       "24  GL456210.1  ENSEMBL  three_prime_utr    9123    9659     .      -     .   \n",
       "34  GL456210.1  ENSEMBL  three_prime_utr  108389  108392     .      -     .   \n",
       "50  GL456211.1  ENSEMBL  three_prime_utr   67323   67326     .      +     .   \n",
       "73  GL456211.1  ENSEMBL  three_prime_utr  196305  196478     .      +     .   \n",
       "\n",
       "                 gene_id       gene_type  ... transcript_support_level    tag  \\\n",
       "15  ENSMUSG00000094799.2  protein_coding  ...                        5  basic   \n",
       "24  ENSMUSG00000079800.3  protein_coding  ...                        1  basic   \n",
       "34  ENSMUSG00000095092.2  protein_coding  ...                        5  basic   \n",
       "50  ENSMUSG00000096100.2  protein_coding  ...                       NA  basic   \n",
       "73  ENSMUSG00000079190.4  protein_coding  ...                        1  basic   \n",
       "\n",
       "              protein_id exon_number               exon_id mgi_id havana_gene  \\\n",
       "15  ENSMUSP00000111591.3           2  ENSMUSE00001005202.2    NaN         NaN   \n",
       "24  ENSMUSP00000094625.5           2  ENSMUSE00000627465.5    NaN         NaN   \n",
       "34  ENSMUSP00000135921.2           2  ENSMUSE00001028134.2    NaN         NaN   \n",
       "50  ENSMUSP00000136818.2           1  ENSMUSE00000992279.2    NaN         NaN   \n",
       "73  ENSMUSP00000106991.3           7  ENSMUSE00000687549.3    NaN         NaN   \n",
       "\n",
       "   havana_transcript  ont ccdsid  \n",
       "15               NaN  NaN    NaN  \n",
       "24               NaN  NaN    NaN  \n",
       "34               NaN  NaN    NaN  \n",
       "50               NaN  NaN    NaN  \n",
       "73               NaN  NaN    NaN  \n",
       "\n",
       "[5 rows x 25 columns]"
      ]
     },
     "execution_count": 5,
     "metadata": {},
     "output_type": "execute_result"
    }
   ],
   "source": [
    "Utrs = gtf.loc[gtf.Feature == 'three_prime_utr']\n",
    "Utrs.head()"
   ]
  },
  {
   "cell_type": "code",
   "execution_count": 6,
   "metadata": {},
   "outputs": [
    {
     "data": {
      "text/plain": [
       "['Chromosome',\n",
       " 'Source',\n",
       " 'Feature',\n",
       " 'Start',\n",
       " 'End',\n",
       " 'Score',\n",
       " 'Strand',\n",
       " 'Frame',\n",
       " 'gene_id',\n",
       " 'gene_type',\n",
       " 'gene_name',\n",
       " 'level',\n",
       " 'transcript_id',\n",
       " 'transcript_type',\n",
       " 'transcript_name',\n",
       " 'transcript_support_level',\n",
       " 'tag',\n",
       " 'protein_id',\n",
       " 'exon_number',\n",
       " 'exon_id',\n",
       " 'mgi_id',\n",
       " 'havana_gene',\n",
       " 'havana_transcript',\n",
       " 'ont',\n",
       " 'ccdsid']"
      ]
     },
     "execution_count": 6,
     "metadata": {},
     "output_type": "execute_result"
    }
   ],
   "source": [
    "Utrs.columns.tolist()"
   ]
  },
  {
   "cell_type": "code",
   "execution_count": 7,
   "metadata": {},
   "outputs": [],
   "source": [
    "# Import relevant quantfiles - S200WT_2iL\n",
    "quantfiles = sorted(glob.glob('../../data/MihaDeseq/salmon_quantfiles/*S200WT*2iL*'))"
   ]
  },
  {
   "cell_type": "code",
   "execution_count": 8,
   "metadata": {},
   "outputs": [
    {
     "data": {
      "text/plain": [
       "['../../data/MihaDeseq/salmon_quantfiles/S200WT_1_2iL_1.quant.sf',\n",
       " '../../data/MihaDeseq/salmon_quantfiles/S200WT_1_2iL_2.quant.sf',\n",
       " '../../data/MihaDeseq/salmon_quantfiles/S200WT_2_2iL_2.quant.sf',\n",
       " '../../data/MihaDeseq/salmon_quantfiles/S200WT_2_2iL_3.quant.sf']"
      ]
     },
     "execution_count": 8,
     "metadata": {},
     "output_type": "execute_result"
    }
   ],
   "source": [
    "quantfiles"
   ]
  },
  {
   "cell_type": "code",
   "execution_count": 9,
   "metadata": {},
   "outputs": [
    {
     "data": {
      "text/html": [
       "<div>\n",
       "<style scoped>\n",
       "    .dataframe tbody tr th:only-of-type {\n",
       "        vertical-align: middle;\n",
       "    }\n",
       "\n",
       "    .dataframe tbody tr th {\n",
       "        vertical-align: top;\n",
       "    }\n",
       "\n",
       "    .dataframe thead th {\n",
       "        text-align: right;\n",
       "    }\n",
       "</style>\n",
       "<table border=\"1\" class=\"dataframe\">\n",
       "  <thead>\n",
       "    <tr style=\"text-align: right;\">\n",
       "      <th></th>\n",
       "      <th>S200WT_1_2iL_1</th>\n",
       "      <th>S200WT_1_2iL_2</th>\n",
       "      <th>S200WT_2_2iL_2</th>\n",
       "      <th>S200WT_2_2iL_3</th>\n",
       "      <th>Mean S200WT_2iL TPM</th>\n",
       "    </tr>\n",
       "    <tr>\n",
       "      <th>transcript_id</th>\n",
       "      <th></th>\n",
       "      <th></th>\n",
       "      <th></th>\n",
       "      <th></th>\n",
       "      <th></th>\n",
       "    </tr>\n",
       "  </thead>\n",
       "  <tbody>\n",
       "    <tr>\n",
       "      <th>magic_mihaels_magnificent_transgene</th>\n",
       "      <td>65.715048</td>\n",
       "      <td>125.926661</td>\n",
       "      <td>131.433109</td>\n",
       "      <td>118.527797</td>\n",
       "      <td>110.400654</td>\n",
       "    </tr>\n",
       "    <tr>\n",
       "      <th>ENSMUST00000082908.1</th>\n",
       "      <td>0.000000</td>\n",
       "      <td>0.000000</td>\n",
       "      <td>0.000000</td>\n",
       "      <td>0.000000</td>\n",
       "      <td>0.000000</td>\n",
       "    </tr>\n",
       "    <tr>\n",
       "      <th>ENSMUST00000162897.1</th>\n",
       "      <td>0.000000</td>\n",
       "      <td>0.000000</td>\n",
       "      <td>0.000000</td>\n",
       "      <td>0.000000</td>\n",
       "      <td>0.000000</td>\n",
       "    </tr>\n",
       "    <tr>\n",
       "      <th>ENSMUST00000159265.1</th>\n",
       "      <td>0.000000</td>\n",
       "      <td>0.000000</td>\n",
       "      <td>0.000000</td>\n",
       "      <td>0.000000</td>\n",
       "      <td>0.000000</td>\n",
       "    </tr>\n",
       "    <tr>\n",
       "      <th>ENSMUST00000070533.4</th>\n",
       "      <td>0.000000</td>\n",
       "      <td>0.000000</td>\n",
       "      <td>0.067422</td>\n",
       "      <td>0.000000</td>\n",
       "      <td>0.016855</td>\n",
       "    </tr>\n",
       "  </tbody>\n",
       "</table>\n",
       "</div>"
      ],
      "text/plain": [
       "                                     S200WT_1_2iL_1  S200WT_1_2iL_2  \\\n",
       "transcript_id                                                         \n",
       "magic_mihaels_magnificent_transgene       65.715048      125.926661   \n",
       "ENSMUST00000082908.1                       0.000000        0.000000   \n",
       "ENSMUST00000162897.1                       0.000000        0.000000   \n",
       "ENSMUST00000159265.1                       0.000000        0.000000   \n",
       "ENSMUST00000070533.4                       0.000000        0.000000   \n",
       "\n",
       "                                     S200WT_2_2iL_2  S200WT_2_2iL_3  \\\n",
       "transcript_id                                                         \n",
       "magic_mihaels_magnificent_transgene      131.433109      118.527797   \n",
       "ENSMUST00000082908.1                       0.000000        0.000000   \n",
       "ENSMUST00000162897.1                       0.000000        0.000000   \n",
       "ENSMUST00000159265.1                       0.000000        0.000000   \n",
       "ENSMUST00000070533.4                       0.067422        0.000000   \n",
       "\n",
       "                                     Mean S200WT_2iL TPM  \n",
       "transcript_id                                             \n",
       "magic_mihaels_magnificent_transgene           110.400654  \n",
       "ENSMUST00000082908.1                            0.000000  \n",
       "ENSMUST00000162897.1                            0.000000  \n",
       "ENSMUST00000159265.1                            0.000000  \n",
       "ENSMUST00000070533.4                            0.016855  "
      ]
     },
     "execution_count": 9,
     "metadata": {},
     "output_type": "execute_result"
    }
   ],
   "source": [
    "dfTpm = pd.DataFrame()\n",
    "for f in quantfiles:\n",
    "    s = f.split('/')[-1].split('.')[0]\n",
    "    df = pd.read_csv(f, sep='\\t', index_col=0)\n",
    "    dfTpm[s] = df['TPM']\n",
    "dfTpm.index.name = 'transcript_id'\n",
    "dfTpm['Mean S200WT_2iL TPM'] = dfTpm.mean(axis='columns')\n",
    "dfTpm.head()"
   ]
  },
  {
   "cell_type": "code",
   "execution_count": 10,
   "metadata": {},
   "outputs": [
    {
     "data": {
      "text/plain": [
       "140658"
      ]
     },
     "execution_count": 10,
     "metadata": {},
     "output_type": "execute_result"
    }
   ],
   "source": [
    "len(dfTpm)"
   ]
  },
  {
   "cell_type": "code",
   "execution_count": 11,
   "metadata": {},
   "outputs": [
    {
     "name": "stderr",
     "output_type": "stream",
     "text": [
      "/home/klara/anaconda3/envs/JupyterAnalyses/lib/python3.7/site-packages/ipykernel_launcher.py:2: SettingWithCopyWarning: \n",
      "A value is trying to be set on a copy of a slice from a DataFrame.\n",
      "Try using .loc[row_indexer,col_indexer] = value instead\n",
      "\n",
      "See the caveats in the documentation: https://pandas.pydata.org/pandas-docs/stable/user_guide/indexing.html#returning-a-view-versus-a-copy\n",
      "  \n",
      "/home/klara/anaconda3/envs/JupyterAnalyses/lib/python3.7/site-packages/ipykernel_launcher.py:3: SettingWithCopyWarning: \n",
      "A value is trying to be set on a copy of a slice from a DataFrame.\n",
      "Try using .loc[row_indexer,col_indexer] = value instead\n",
      "\n",
      "See the caveats in the documentation: https://pandas.pydata.org/pandas-docs/stable/user_guide/indexing.html#returning-a-view-versus-a-copy\n",
      "  This is separate from the ipykernel package so we can avoid doing imports until\n"
     ]
    }
   ],
   "source": [
    "dfTpm['stable_tx_id'] = [i.split('.')[0] for i in dfTpm.index]\n",
    "Utrs['stable_tx_id'] = Utrs.transcript_id.apply(lambda x: x.split('.')[0])\n",
    "Utrs['stable_gene_id'] = Utrs.gene_id.apply(lambda x: x.split('.')[0])"
   ]
  },
  {
   "cell_type": "code",
   "execution_count": 12,
   "metadata": {},
   "outputs": [],
   "source": [
    "dfTpm = dfTpm[['Mean S200WT_2iL TPM', 'stable_tx_id']].merge(Utrs[['stable_tx_id', 'stable_gene_id', 'gene_name', 'Chromosome', 'Start', 'End', 'Strand']], on='stable_tx_id', how='inner')"
   ]
  },
  {
   "cell_type": "code",
   "execution_count": 13,
   "metadata": {},
   "outputs": [
    {
     "data": {
      "text/plain": [
       "89551"
      ]
     },
     "execution_count": 13,
     "metadata": {},
     "output_type": "execute_result"
    }
   ],
   "source": [
    "len(dfTpm)"
   ]
  },
  {
   "cell_type": "code",
   "execution_count": 14,
   "metadata": {},
   "outputs": [
    {
     "data": {
      "text/html": [
       "<div>\n",
       "<style scoped>\n",
       "    .dataframe tbody tr th:only-of-type {\n",
       "        vertical-align: middle;\n",
       "    }\n",
       "\n",
       "    .dataframe tbody tr th {\n",
       "        vertical-align: top;\n",
       "    }\n",
       "\n",
       "    .dataframe thead th {\n",
       "        text-align: right;\n",
       "    }\n",
       "</style>\n",
       "<table border=\"1\" class=\"dataframe\">\n",
       "  <thead>\n",
       "    <tr style=\"text-align: right;\">\n",
       "      <th></th>\n",
       "      <th>Mean S200WT_2iL TPM</th>\n",
       "      <th>stable_tx_id</th>\n",
       "      <th>stable_gene_id</th>\n",
       "      <th>gene_name</th>\n",
       "      <th>Chromosome</th>\n",
       "      <th>Start</th>\n",
       "      <th>End</th>\n",
       "      <th>Strand</th>\n",
       "    </tr>\n",
       "  </thead>\n",
       "  <tbody>\n",
       "    <tr>\n",
       "      <th>0</th>\n",
       "      <td>0.016855</td>\n",
       "      <td>ENSMUST00000070533</td>\n",
       "      <td>ENSMUSG00000051951</td>\n",
       "      <td>Xkr4</td>\n",
       "      <td>chr1</td>\n",
       "      <td>3284704</td>\n",
       "      <td>3286247</td>\n",
       "      <td>-</td>\n",
       "    </tr>\n",
       "    <tr>\n",
       "      <th>1</th>\n",
       "      <td>0.000000</td>\n",
       "      <td>ENSMUST00000208660</td>\n",
       "      <td>ENSMUSG00000025900</td>\n",
       "      <td>Rp1</td>\n",
       "      <td>chr1</td>\n",
       "      <td>4069779</td>\n",
       "      <td>4069782</td>\n",
       "      <td>-</td>\n",
       "    </tr>\n",
       "    <tr>\n",
       "      <th>2</th>\n",
       "      <td>0.000000</td>\n",
       "      <td>ENSMUST00000027032</td>\n",
       "      <td>ENSMUSG00000025900</td>\n",
       "      <td>Rp1</td>\n",
       "      <td>chr1</td>\n",
       "      <td>4414368</td>\n",
       "      <td>4414825</td>\n",
       "      <td>-</td>\n",
       "    </tr>\n",
       "    <tr>\n",
       "      <th>3</th>\n",
       "      <td>0.000000</td>\n",
       "      <td>ENSMUST00000027035</td>\n",
       "      <td>ENSMUSG00000025902</td>\n",
       "      <td>Sox17</td>\n",
       "      <td>chr1</td>\n",
       "      <td>4561153</td>\n",
       "      <td>4561941</td>\n",
       "      <td>-</td>\n",
       "    </tr>\n",
       "    <tr>\n",
       "      <th>4</th>\n",
       "      <td>0.013559</td>\n",
       "      <td>ENSMUST00000195555</td>\n",
       "      <td>ENSMUSG00000025902</td>\n",
       "      <td>Sox17</td>\n",
       "      <td>chr1</td>\n",
       "      <td>4561472</td>\n",
       "      <td>4561941</td>\n",
       "      <td>-</td>\n",
       "    </tr>\n",
       "  </tbody>\n",
       "</table>\n",
       "</div>"
      ],
      "text/plain": [
       "   Mean S200WT_2iL TPM        stable_tx_id      stable_gene_id gene_name  \\\n",
       "0             0.016855  ENSMUST00000070533  ENSMUSG00000051951      Xkr4   \n",
       "1             0.000000  ENSMUST00000208660  ENSMUSG00000025900       Rp1   \n",
       "2             0.000000  ENSMUST00000027032  ENSMUSG00000025900       Rp1   \n",
       "3             0.000000  ENSMUST00000027035  ENSMUSG00000025902     Sox17   \n",
       "4             0.013559  ENSMUST00000195555  ENSMUSG00000025902     Sox17   \n",
       "\n",
       "  Chromosome    Start      End Strand  \n",
       "0       chr1  3284704  3286247      -  \n",
       "1       chr1  4069779  4069782      -  \n",
       "2       chr1  4414368  4414825      -  \n",
       "3       chr1  4561153  4561941      -  \n",
       "4       chr1  4561472  4561941      -  "
      ]
     },
     "execution_count": 14,
     "metadata": {},
     "output_type": "execute_result"
    }
   ],
   "source": [
    "dfTpm.head()"
   ]
  },
  {
   "cell_type": "code",
   "execution_count": 15,
   "metadata": {},
   "outputs": [],
   "source": [
    "dfTpm['Length'] = dfTpm.End - dfTpm.Start"
   ]
  },
  {
   "cell_type": "code",
   "execution_count": 16,
   "metadata": {},
   "outputs": [
    {
     "data": {
      "text/html": [
       "<div>\n",
       "<style scoped>\n",
       "    .dataframe tbody tr th:only-of-type {\n",
       "        vertical-align: middle;\n",
       "    }\n",
       "\n",
       "    .dataframe tbody tr th {\n",
       "        vertical-align: top;\n",
       "    }\n",
       "\n",
       "    .dataframe thead th {\n",
       "        text-align: right;\n",
       "    }\n",
       "</style>\n",
       "<table border=\"1\" class=\"dataframe\">\n",
       "  <thead>\n",
       "    <tr style=\"text-align: right;\">\n",
       "      <th></th>\n",
       "      <th>Mean S200WT_2iL TPM</th>\n",
       "      <th>stable_tx_id</th>\n",
       "      <th>stable_gene_id</th>\n",
       "      <th>gene_name</th>\n",
       "      <th>Chromosome</th>\n",
       "      <th>Start</th>\n",
       "      <th>End</th>\n",
       "      <th>Strand</th>\n",
       "      <th>Length</th>\n",
       "    </tr>\n",
       "  </thead>\n",
       "  <tbody>\n",
       "    <tr>\n",
       "      <th>28978</th>\n",
       "      <td>66.771401</td>\n",
       "      <td>ENSMUST00000204653</td>\n",
       "      <td>ENSMUSG00000030057</td>\n",
       "      <td>Cnbp</td>\n",
       "      <td>chr6</td>\n",
       "      <td>87819596</td>\n",
       "      <td>87821023</td>\n",
       "      <td>-</td>\n",
       "      <td>1427</td>\n",
       "    </tr>\n",
       "    <tr>\n",
       "      <th>28979</th>\n",
       "      <td>0.000000</td>\n",
       "      <td>ENSMUST00000032138</td>\n",
       "      <td>ENSMUSG00000030057</td>\n",
       "      <td>Cnbp</td>\n",
       "      <td>chr6</td>\n",
       "      <td>87819596</td>\n",
       "      <td>87821023</td>\n",
       "      <td>-</td>\n",
       "      <td>1427</td>\n",
       "    </tr>\n",
       "    <tr>\n",
       "      <th>28980</th>\n",
       "      <td>0.000000</td>\n",
       "      <td>ENSMUST00000204890</td>\n",
       "      <td>ENSMUSG00000030057</td>\n",
       "      <td>Cnbp</td>\n",
       "      <td>chr6</td>\n",
       "      <td>87820063</td>\n",
       "      <td>87821023</td>\n",
       "      <td>-</td>\n",
       "      <td>960</td>\n",
       "    </tr>\n",
       "    <tr>\n",
       "      <th>28981</th>\n",
       "      <td>0.012900</td>\n",
       "      <td>ENSMUST00000113619</td>\n",
       "      <td>ENSMUSG00000030057</td>\n",
       "      <td>Cnbp</td>\n",
       "      <td>chr6</td>\n",
       "      <td>87820063</td>\n",
       "      <td>87821023</td>\n",
       "      <td>-</td>\n",
       "      <td>960</td>\n",
       "    </tr>\n",
       "    <tr>\n",
       "      <th>28982</th>\n",
       "      <td>0.000000</td>\n",
       "      <td>ENSMUST00000113617</td>\n",
       "      <td>ENSMUSG00000030057</td>\n",
       "      <td>Cnbp</td>\n",
       "      <td>chr6</td>\n",
       "      <td>87820868</td>\n",
       "      <td>87821023</td>\n",
       "      <td>-</td>\n",
       "      <td>155</td>\n",
       "    </tr>\n",
       "  </tbody>\n",
       "</table>\n",
       "</div>"
      ],
      "text/plain": [
       "       Mean S200WT_2iL TPM        stable_tx_id      stable_gene_id gene_name  \\\n",
       "28978            66.771401  ENSMUST00000204653  ENSMUSG00000030057      Cnbp   \n",
       "28979             0.000000  ENSMUST00000032138  ENSMUSG00000030057      Cnbp   \n",
       "28980             0.000000  ENSMUST00000204890  ENSMUSG00000030057      Cnbp   \n",
       "28981             0.012900  ENSMUST00000113619  ENSMUSG00000030057      Cnbp   \n",
       "28982             0.000000  ENSMUST00000113617  ENSMUSG00000030057      Cnbp   \n",
       "\n",
       "      Chromosome     Start       End Strand  Length  \n",
       "28978       chr6  87819596  87821023      -    1427  \n",
       "28979       chr6  87819596  87821023      -    1427  \n",
       "28980       chr6  87820063  87821023      -     960  \n",
       "28981       chr6  87820063  87821023      -     960  \n",
       "28982       chr6  87820868  87821023      -     155  "
      ]
     },
     "execution_count": 16,
     "metadata": {},
     "output_type": "execute_result"
    }
   ],
   "source": [
    "dfTpm.loc[dfTpm.gene_name == 'Cnbp']"
   ]
  },
  {
   "cell_type": "code",
   "execution_count": 16,
   "metadata": {},
   "outputs": [],
   "source": [
    "# For each gene find the most expressed transcript, if there are ties, keep longer 3'UTR\n",
    "dfTpm = dfTpm.sort_values(by=['Mean S200WT_2iL TPM', 'Length'], ascending=[False, False]).drop_duplicates(subset=['stable_gene_id'], keep='first')"
   ]
  },
  {
   "cell_type": "code",
   "execution_count": 17,
   "metadata": {},
   "outputs": [],
   "source": [
    "# Convert to bed and save\n",
    "dfTpmBed = dfTpm[['Chromosome', 'Start', 'End', 'stable_gene_id', 'Mean S200WT_2iL TPM', 'Strand', 'gene_name', 'stable_tx_id']]\n",
    "dfTpmBed.to_csv(f'{outpath}/ThreePrimeUtrsOfMostExpressedTxInS200WT2iL.bed', quoting=None, sep='\\t', header=None, index=False)"
   ]
  },
  {
   "cell_type": "code",
   "execution_count": null,
   "metadata": {},
   "outputs": [],
   "source": []
  }
 ],
 "metadata": {
  "kernelspec": {
   "display_name": "Python 3.10.12 64-bit",
   "language": "python",
   "name": "python3"
  },
  "language_info": {
   "codemirror_mode": {
    "name": "ipython",
    "version": 3
   },
   "file_extension": ".py",
   "mimetype": "text/x-python",
   "name": "python",
   "nbconvert_exporter": "python",
   "pygments_lexer": "ipython3",
   "version": "3.10.12"
  },
  "orig_nbformat": 4,
  "vscode": {
   "interpreter": {
    "hash": "31f2aee4e71d21fbe5cf8b01ff0e069b9275f58929596ceb00d14d90e3e16cd6"
   }
  }
 },
 "nbformat": 4,
 "nbformat_minor": 2
}
