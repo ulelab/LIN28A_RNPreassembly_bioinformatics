{
 "cells": [
  {
   "cell_type": "code",
   "execution_count": 1,
   "metadata": {},
   "outputs": [],
   "source": [
    "import pandas as pd\n",
    "import seaborn as sns\n",
    "import pybedtools as pbt\n",
    "import os\n",
    "import Bio.SeqIO as seq\n",
    "import numpy as np\n",
    "import matplotlib.pyplot as plt\n",
    "\n",
    "scriptpath = \"../../src/\"\n",
    "sys.path.append(os.path.abspath(scriptpath))\n",
    "from KmerGroups import get_coverage"
   ]
  },
  {
   "cell_type": "code",
   "execution_count": 2,
   "metadata": {},
   "outputs": [
    {
     "name": "stdout",
     "output_type": "stream",
     "text": [
      "55\n",
      "14\n",
      "24\n"
     ]
    }
   ],
   "source": [
    "# Regions included in the metaprofile\n",
    "bedRegs = pbt.BedTool('../../results/Metaprofiles/PAS_Quantseq/AllRegionsInMetaprofile.bed.gz')\n",
    "dfRegs = bedRegs.to_dataframe()\n",
    "# Naive regions\n",
    "dfNaive = pd.read_csv('../../results/Metaprofiles/PAS_Quantseq/NaiveGenesIncludedInTheMetaprofile_TMPGreaterThan5.csv', index_col=0)\n",
    "regsNaive = pd.read_csv('../../results/Metaprofiles/PAS_Quantseq/AllNaiveRegions.bed.gz', sep='\\t', header=None)\n",
    "regsNaive = regsNaive.loc[regsNaive[3].isin(dfNaive.stable_gene_id.values.tolist())]\n",
    "bedNaive = pbt.BedTool.from_dataframe(regsNaive)\n",
    "\n",
    "\n",
    "# Genome\n",
    "fasta = '../../data/genomes/Goodwright_m39/GRCm39.primary_assembly.genome.fa'\n",
    "\n",
    "# K-mer groups\n",
    "kmerGroups = pd.read_csv('../../results/20220906_ClusterKmers/FlatKmerClusters_Normalscale.tsv', sep='\\t', index_col=0)\n",
    "\n",
    "# Save to\n",
    "outpath = '../../results/Metaprofiles/PAS_Quantseq/plots/'\n",
    "os.makedirs(outpath, exist_ok=True)\n",
    "\n",
    "# Get k-mer groups\n",
    "uuuu = kmerGroups.loc[kmerGroups.consensus == 'UUUU'].index.tolist()\n",
    "ugau = kmerGroups.loc[kmerGroups.consensus == 'UGAU'].index.tolist()\n",
    "aggg = kmerGroups.loc[kmerGroups.consensus.isin(['AGGG', 'UGGG'])].index.tolist()\n",
    "for el in [uuuu, ugau, aggg]:\n",
    "    print(len(el))"
   ]
  },
  {
   "cell_type": "code",
   "execution_count": 9,
   "metadata": {},
   "outputs": [
    {
     "name": "stdout",
     "output_type": "stream",
     "text": [
      "chr1\t4843404\t4843655\tCONTROL\t0\t-\tENSMUSG00000033845\n",
      " chr1\t4967906\t4968157\tDOWN\t0\t+\tENSMUSG00000033813\n",
      " chr1\t9617456\t9617707\tDOWN\t0\t+\tENSMUSG00000061024\n",
      " chr1\t10095023\t10095274\tCONTROL\t0\t-\tENSMUSG00000025917\n",
      " chr1\t10206771\t10207022\tCONTROL\t0\t+\tENSMUSG00000056763\n",
      " chr1\t12931194\t12931445\tDOWN\t0\t+\tENSMUSG00000016918\n",
      " chr1\t13634973\t13635224\tCONTROL\t0\t-\tENSMUSG00000025935\n",
      " chr1\t14823544\t14823795\tDOWN\t0\t-\tENSMUSG00000025930\n",
      " chr1\t15914047\t15914298\tDOWN\t0\t+\tENSMUSG00000025925\n",
      " chr1\t16713252\t16713503\tDOWN\t0\t-\tENSMUSG00000079658\n",
      " "
     ]
    }
   ],
   "source": [
    "bedRegs.head()"
   ]
  },
  {
   "cell_type": "code",
   "execution_count": 3,
   "metadata": {},
   "outputs": [],
   "source": [
    "def convertDictToList(d):\n",
    "    return [d[i] for i in sorted([int(v) for v in d.keys()])]\n",
    "\n",
    "def comp_coverage(l):\n",
    "    return sum(l) * 100 / len(l)"
   ]
  },
  {
   "cell_type": "code",
   "execution_count": 4,
   "metadata": {},
   "outputs": [
    {
     "data": {
      "text/plain": [
       "name\n",
       "CONTROL    1739\n",
       "DOWN        831\n",
       "UP          633\n",
       "Name: chrom, dtype: int64"
      ]
     },
     "execution_count": 4,
     "metadata": {},
     "output_type": "execute_result"
    }
   ],
   "source": [
    "dfRegs.groupby('name').count()['chrom']"
   ]
  },
  {
   "cell_type": "code",
   "execution_count": 5,
   "metadata": {},
   "outputs": [],
   "source": [
    "heatmaps = {}\n",
    "for id, bt in dict(zip(['fullGroups', 'naive'],[bedRegs, bedNaive])).items():\n",
    "    # Extract sequences\n",
    "    bt.sequence(fi=fasta, s=True, name=True, fo=f'{outpath}/{id}_Sequences.fasta')\n",
    "    # Parse sequences to df\n",
    "    array = []\n",
    "    with open(f'{outpath}/{id}_Sequences.fasta') as handle:\n",
    "        for record in seq.parse(handle, \"fasta\"):\n",
    "            array.append([record.id, str(record.seq).replace('T', 'U')])\n",
    "    dfSequences = pd.DataFrame(array, columns=['id', 'sequence'])\n",
    "    dfSequences['name'] = dfSequences.id.apply(lambda x: x.split('::')[0])\n",
    "\n",
    "    # Get coverage for k-mer groups across the entire sequence\n",
    "    dfSequences['UUUU'] = dfSequences.sequence.apply(lambda x: get_coverage(x, kmer_group=uuuu, kmer_length=5))\n",
    "    dfSequences['GGGA-GGGU'] = dfSequences.sequence.apply(lambda x: get_coverage(x, kmer_group=aggg, kmer_length=5))\n",
    "    dfSequences['UGAU'] = dfSequences.sequence.apply(lambda x: get_coverage(x, kmer_group=ugau, kmer_length=5))\n",
    "\n",
    "    #Put coverages in list form\n",
    "    dfSequences['UUUU'] = dfSequences['UUUU'].apply(lambda x: convertDictToList(x))\n",
    "    dfSequences['GGGA-GGGU'] = dfSequences['GGGA-GGGU'].apply(lambda x: convertDictToList(x))\n",
    "    dfSequences['UGAU'] = dfSequences['UGAU'].apply(lambda x: convertDictToList(x))\n",
    "\n",
    "    # Split regions into differentially regulated groups\n",
    "    if id == 'fullGroups':\n",
    "        dfSequencesDown = dfSequences.loc[dfSequences.name == 'DOWN'].reset_index(drop=True)\n",
    "        dfSequencesOther = dfSequences.loc[dfSequences.name != 'DOWN'].reset_index(drop=True)\n",
    "        dfDict = {'DOWN': dfSequencesDown, 'CONTROL+UP': dfSequencesOther}\n",
    "    else:\n",
    "        dfDict = {'naive': dfSequences}\n",
    "\n",
    "    # Organize into heatmap form\n",
    "    cols = ['UUUU', 'GGGA-GGGU', 'UGAU']\n",
    "    heatmapDict = {}\n",
    "    for c in cols:\n",
    "        dfheatmap = pd.DataFrame()\n",
    "        for k, v in dfDict.items():\n",
    "            array = np.array(v[c].values.tolist())\n",
    "            if len(array) > 0:\n",
    "                split_array = np.array_split(array, 25, axis=1)\n",
    "                binCoverages = []\n",
    "                for a in split_array:\n",
    "                    coverage = np.apply_along_axis(comp_coverage, 1, a)\n",
    "                    binCoverages.append(coverage.mean())\n",
    "                dfheatmap[k] = binCoverages\n",
    "        heatmapDict[c] = dfheatmap\n",
    "    heatmaps[id] = heatmapDict"
   ]
  },
  {
   "cell_type": "code",
   "execution_count": 6,
   "metadata": {},
   "outputs": [
    {
     "data": {
      "image/png": "[encoded data removed]",
      "text/plain": [
       "<Figure size 1000x400 with 6 Axes>"
      ]
     },
     "metadata": {},
     "output_type": "display_data"
    },
    {
     "data": {
      "image/png": "[encoded data removed]",
      "text/plain": [
       "<Figure size 1000x400 with 6 Axes>"
      ]
     },
     "metadata": {},
     "output_type": "display_data"
    }
   ],
   "source": [
    "for id, heatmapDict in heatmaps.items():\n",
    "    fig, axs = plt.subplots(nrows=3, ncols=2, figsize=(10,4), gridspec_kw={'width_ratios':[10, 0.5], 'wspace':0.1})\n",
    "    sns.heatmap(heatmapDict['GGGA-GGGU'].T, square=True, cmap='gist_heat_r', ax=axs[0, 0], xticklabels=False, cbar_ax=axs[0, 1], linewidths=.5, linecolor='lightgrey')\n",
    "    axs[0, 0].set_ylabel('GGGW')\n",
    "    sns.heatmap(heatmapDict['UGAU'].T, square=True, cmap='gist_heat_r', ax=axs[1, 0], xticklabels=False, cbar_ax=axs[1, 1], linewidths=.5, linecolor='lightgrey')\n",
    "    axs[1, 0].set_ylabel('GAU')\n",
    "    sns.heatmap(heatmapDict['UUUU'].T, square=True, cmap='gist_heat_r', ax=axs[2, 0], xticklabels=False, cbar_ax=axs[2, 1], linewidths=.5, linecolor='lightgrey')\n",
    "    axs[2, 0].set_ylabel('AUU')\n",
    "\n",
    "    for ax in axs.ravel():\n",
    "        for _, spine in ax.spines.items():\n",
    "            spine.set_visible(True)\n",
    "            spine.set_linewidth(.5)\n",
    "            spine.set_color('lightgrey')\n",
    "\n",
    "    if id == 'fullGroups':\n",
    "        fig.savefig(f'{outpath}/geneGroups_motifCoverage_heatmap_cellLimits.pdf', bbox_inches='tight')\n",
    "    else:\n",
    "        for ax in axs.ravel()[::2]:\n",
    "            ax.set_yticklabels(['naive'])\n",
    "        fig.savefig(f'{outpath}/naiveGenes_motifCoverage_heatmap_cellLimits.pdf', bbox_inches='tight')"
   ]
  },
  {
   "cell_type": "code",
   "execution_count": null,
   "metadata": {},
   "outputs": [],
   "source": []
  }
 ],
 "metadata": {
  "kernelspec": {
   "display_name": "Python 3.7.12 ('JupyterAnalyses')",
   "language": "python",
   "name": "python3"
  },
  "language_info": {
   "codemirror_mode": {
    "name": "ipython",
    "version": 3
   },
   "file_extension": ".py",
   "mimetype": "text/x-python",
   "name": "python",
   "nbconvert_exporter": "python",
   "pygments_lexer": "ipython3",
   "version": "3.7.12"
  },
  "orig_nbformat": 4,
  "vscode": {
   "interpreter": {
    "hash": "e3a5e41094ab1c702a06c69f12f608a168aa4760d2953e0e9de1278519583907"
   }
  }
 },
 "nbformat": 4,
 "nbformat_minor": 2
}
