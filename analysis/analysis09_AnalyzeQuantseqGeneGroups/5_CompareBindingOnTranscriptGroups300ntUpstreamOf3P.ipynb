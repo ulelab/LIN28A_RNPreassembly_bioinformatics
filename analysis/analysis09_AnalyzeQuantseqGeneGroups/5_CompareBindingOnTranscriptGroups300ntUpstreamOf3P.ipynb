{
 "cells": [
  {
   "cell_type": "code",
   "execution_count": 1,
   "metadata": {},
   "outputs": [],
   "source": [
    "import pandas as pd\n",
    "import pybedtools as pbt\n",
    "from glob import glob\n",
    "import os\n",
    "import pyranges as pr\n",
    "import seaborn as sns\n",
    "import matplotlib.pyplot as plt\n",
    "from statannotations.Annotator import Annotator\n",
    "import numpy as np\n",
    "import scipy.stats as stat\n",
    "sns.set_style(\"whitegrid\")\n",
    "sns.set_context(\"paper\")"
   ]
  },
  {
   "cell_type": "code",
   "execution_count": 2,
   "metadata": {},
   "outputs": [],
   "source": [
    "# Annotation\n",
    "gtf = pr.read_gtf('../../data/genomes/GRCm38/gencode.vM22.primary_assembly.annotation.gtf', as_df=True)\n",
    "gtf = gtf.loc[gtf.Feature == 'transcript']"
   ]
  },
  {
   "cell_type": "code",
   "execution_count": 3,
   "metadata": {},
   "outputs": [
    {
     "data": {
      "text/html": [
       "<div>\n",
       "<style scoped>\n",
       "    .dataframe tbody tr th:only-of-type {\n",
       "        vertical-align: middle;\n",
       "    }\n",
       "\n",
       "    .dataframe tbody tr th {\n",
       "        vertical-align: top;\n",
       "    }\n",
       "\n",
       "    .dataframe thead th {\n",
       "        text-align: right;\n",
       "    }\n",
       "</style>\n",
       "<table border=\"1\" class=\"dataframe\">\n",
       "  <thead>\n",
       "    <tr style=\"text-align: right;\">\n",
       "      <th></th>\n",
       "      <th>stable_gene_id</th>\n",
       "      <th>gene_name</th>\n",
       "    </tr>\n",
       "  </thead>\n",
       "  <tbody>\n",
       "    <tr>\n",
       "      <th>1</th>\n",
       "      <td>ENSMUSG00000102693</td>\n",
       "      <td>4933401J01Rik</td>\n",
       "    </tr>\n",
       "    <tr>\n",
       "      <th>4</th>\n",
       "      <td>ENSMUSG00000064842</td>\n",
       "      <td>Gm26206</td>\n",
       "    </tr>\n",
       "    <tr>\n",
       "      <th>7</th>\n",
       "      <td>ENSMUSG00000051951</td>\n",
       "      <td>Xkr4</td>\n",
       "    </tr>\n",
       "    <tr>\n",
       "      <th>25</th>\n",
       "      <td>ENSMUSG00000102851</td>\n",
       "      <td>Gm18956</td>\n",
       "    </tr>\n",
       "    <tr>\n",
       "      <th>28</th>\n",
       "      <td>ENSMUSG00000103377</td>\n",
       "      <td>Gm37180</td>\n",
       "    </tr>\n",
       "  </tbody>\n",
       "</table>\n",
       "</div>"
      ],
      "text/plain": [
       "        stable_gene_id      gene_name\n",
       "1   ENSMUSG00000102693  4933401J01Rik\n",
       "4   ENSMUSG00000064842        Gm26206\n",
       "7   ENSMUSG00000051951           Xkr4\n",
       "25  ENSMUSG00000102851        Gm18956\n",
       "28  ENSMUSG00000103377        Gm37180"
      ]
     },
     "execution_count": 3,
     "metadata": {},
     "output_type": "execute_result"
    }
   ],
   "source": [
    "geneAnnot = gtf[['gene_id', 'gene_name']].drop_duplicates()\n",
    "geneAnnot.rename(columns={'gene_id': 'stable_gene_id'}, inplace=True)\n",
    "geneAnnot.stable_gene_id = geneAnnot.stable_gene_id.apply(lambda x: x.split('.')[0])\n",
    "geneAnnot.head()"
   ]
  },
  {
   "cell_type": "code",
   "execution_count": 4,
   "metadata": {},
   "outputs": [],
   "source": [
    "# Import files\n",
    "# Crosslink files - merged replicates\n",
    "BedFilesRaw = glob('../../data/LIN28_220626_results/Crosslinks/mergedXls/*.bed.gz') + glob('../../data/Pabpc1Pabpc4Iclip_2022/Crosslinks/mergedXls/*.bed.gz')\n",
    "BedFilesRaw = [f for f in BedFilesRaw if 'AllSamples_merged.bed.gz' not in f]\n",
    "\n",
    "# Quantseq data\n",
    "quantfiles = [f for f in glob('../../data/MihaDeseq/salmon_quantfiles/S200*') if 'bulk' not in f] + glob('../../data/MihaDeseq/salmon_quantfiles/KO*')\n",
    "\n",
    "# 300 nt upstream of 3P end for slamseq regions\n",
    "ThreePrimeRegion = pbt.BedTool('../../data/3PrimeEnds/Quantseq/Btquantseq3PEndsExtended300Upstream.bed.gz').sort()\n",
    "\n",
    "# All quantseq UTRs\n",
    "minLen = 800\n",
    "minTPM = 1\n",
    "minXls = 5\n",
    "\n",
    "SlamseqBedFull = pr.read_bed('../../results/GeneGroups_Quantseq/3UtrLoci/QuantseqGroups.bed', as_df=True)\n",
    "SlamseqBedFull['length'] = SlamseqBedFull.End - SlamseqBedFull.Start\n",
    "SlamseqBedFull = SlamseqBedFull.loc[SlamseqBedFull.length >= minLen]\n",
    "SlamseqBedFull = pbt.BedTool.from_dataframe(SlamseqBedFull).sort()\n",
    "\n",
    "\n",
    "# Save to\n",
    "outpath = f'../../results/CharacterizationOfQuantseqGroups/QuantificationOfBinding3PendsMergedReplicates'\n",
    "os.makedirs(outpath, exist_ok=True)"
   ]
  },
  {
   "cell_type": "code",
   "execution_count": 5,
   "metadata": {},
   "outputs": [],
   "source": [
    "# Keep only 3prime regions that are entirely within 3'UTRs\n",
    "SlamseqBed = ThreePrimeRegion.intersect(SlamseqBedFull, s=True, u=True, f=1)"
   ]
  },
  {
   "cell_type": "code",
   "execution_count": 6,
   "metadata": {},
   "outputs": [
    {
     "name": "stdout",
     "output_type": "stream",
     "text": [
      "2340 2338 4876\n"
     ]
    }
   ],
   "source": [
    "print(len(SlamseqBed), len(SlamseqBedFull), len(ThreePrimeRegion))"
   ]
  },
  {
   "cell_type": "code",
   "execution_count": 7,
   "metadata": {},
   "outputs": [
    {
     "name": "stderr",
     "output_type": "stream",
     "text": [
      "/home/klara/anaconda3/envs/JupyterAnalyses/lib/python3.7/site-packages/ipykernel_launcher.py:2: SettingWithCopyWarning: \n",
      "A value is trying to be set on a copy of a slice from a DataFrame.\n",
      "Try using .loc[row_indexer,col_indexer] = value instead\n",
      "\n",
      "See the caveats in the documentation: https://pandas.pydata.org/pandas-docs/stable/user_guide/indexing.html#returning-a-view-versus-a-copy\n",
      "  \n"
     ]
    }
   ],
   "source": [
    "TranscriptIds = gtf[['gene_id', 'transcript_id']]\n",
    "TranscriptIds['stable_gene_id'] = TranscriptIds.gene_id.apply(lambda x: x.split('.')[0])\n",
    "# map  TPM values from salmon quantseq files to respective transcript IDs\n",
    "for f in quantfiles:\n",
    "    name = f.split('/')[-1].split('.')[0]\n",
    "    dfQ = pd.read_csv(f, sep='\\t').rename(columns={'Name': 'transcript_id', 'TPM': f'{name}.TPM'})\n",
    "    TranscriptIds = TranscriptIds.merge(dfQ[['transcript_id', f'{name}.TPM']], on='transcript_id', how='left')\n",
    "# Drop nan rows\n",
    "TranscriptIds = TranscriptIds.loc[~TranscriptIds.isna().any(axis='columns')]\n",
    "# Sum TPMs for each gene\n",
    "GeneTpms =TranscriptIds.groupby('stable_gene_id', as_index=False)[[c for c in TranscriptIds.columns if '.TPM' in c]].sum()"
   ]
  },
  {
   "cell_type": "code",
   "execution_count": 8,
   "metadata": {},
   "outputs": [],
   "source": [
    "# Quantseq conditions map to dict\n",
    "quantseqCond = {}\n",
    "for c in GeneTpms.columns.tolist()[1:]:\n",
    "    k = c.split('_')[0] + '_' + c.split('_')[2]\n",
    "    if k not in quantseqCond.keys():\n",
    "        quantseqCond[k] = [c]\n",
    "    else:\n",
    "        quantseqCond[k].append(c)\n",
    "\n",
    "# Compute Mean TPM for each condition\n",
    "for c, cols in quantseqCond.items():\n",
    "    GeneTpms[f'Mean TPM {c}'] = GeneTpms[cols].mean(axis='columns')"
   ]
  },
  {
   "cell_type": "code",
   "execution_count": 9,
   "metadata": {},
   "outputs": [],
   "source": [
    "# Make library size table for each sample\n",
    "ls = []\n",
    "for f in BedFilesRaw:\n",
    "    df = pr.read_bed(f, as_df=True)\n",
    "    libsize = df.Score.sum()\n",
    "    ls.append(libsize)\n",
    "DfLibsize = pd.DataFrame().from_dict({'sample': BedFilesRaw, 'librarysize': ls})"
   ]
  },
  {
   "cell_type": "code",
   "execution_count": 10,
   "metadata": {},
   "outputs": [],
   "source": [
    "# Map xl counts to slamseq regions\n",
    "SampleNames = [f.split('/')[-1].split('.')[0] for f in BedFilesRaw]\n",
    "if os.path.exists(f'{outpath}/RawXlCounts.tsv'):\n",
    "    DfQuantified = pd.read_csv(f'{outpath}/RawXlCounts.tsv', sep='\\t', index_col=0)\n",
    "else:\n",
    "    for f in BedFilesRaw:\n",
    "        print(f)\n",
    "        SlamseqBed = SlamseqBed.map(pbt.BedTool(f).sort(), s=True, c=5, o='sum', null=0)\n",
    "    # Convert to df\n",
    "    DfQuantified = SlamseqBed.to_dataframe(header=None, names=['chrom', 'start', 'end', 'name', 'score', 'strand', 'annotation'] + SampleNames)\n",
    "    # # Add one crosslink to all counts to mitigate zero-division error\n",
    "    # DfQuantified[SampleNames] = DfQuantified[SampleNames] + 1\n",
    "    DfQuantified['stable_gene_id'] = DfQuantified.annotation.apply(lambda x: x.split('_')[-1])\n",
    "    DfQuantifiedRaw = DfQuantified.copy()\n",
    "    DfQuantified.to_csv(f'{outpath}/RawXlCounts.tsv', sep='\\t')"
   ]
  },
  {
   "cell_type": "code",
   "execution_count": 11,
   "metadata": {},
   "outputs": [
    {
     "name": "stdout",
     "output_type": "stream",
     "text": [
      "(54431, 31)\n",
      "(8400, 31)\n"
     ]
    }
   ],
   "source": [
    "# Keep only entries with mean TPM greater than 1 in all conditions\n",
    "print(GeneTpms.shape)\n",
    "GeneTpms = GeneTpms.loc[(GeneTpms[[ c for c in GeneTpms.columns if 'Mean TPM' in c]] >= minTPM).all(axis='columns')]\n",
    "print(GeneTpms.shape)"
   ]
  },
  {
   "cell_type": "code",
   "execution_count": 12,
   "metadata": {},
   "outputs": [
    {
     "name": "stdout",
     "output_type": "stream",
     "text": [
      "name\n",
      "CONTROL    1310\n",
      "DOWN        559\n",
      "UP          471\n",
      "Name: chrom, dtype: int64\n"
     ]
    }
   ],
   "source": [
    "print(DfQuantified.groupby('name').count()['chrom'])\n",
    "DfQuantified['minXlCount'] = DfQuantified[SampleNames].min(axis='columns')"
   ]
  },
  {
   "cell_type": "code",
   "execution_count": 13,
   "metadata": {},
   "outputs": [],
   "source": [
    "# Normalize counts in each sample to its libsize\n",
    "DfLibsize['SampleName'] = DfLibsize['sample'].apply(lambda x: x.split('/')[-1].split('.')[0])\n",
    "for i, row in DfLibsize.iterrows():\n",
    "    s = row['SampleName']\n",
    "    libs = row['librarysize']\n",
    "    DfQuantified[s] = round(DfQuantified[s] * 10**6 / libs, 4)\n",
    "# Compute length of each 3'UTR\n",
    "DfQuantified['UtrLength'] = DfQuantified['end'] - DfQuantified['start']\n",
    "# Add TPM sums to gene_ids\n",
    "DfQuantified = DfQuantified.merge(GeneTpms[['stable_gene_id'] + [c for c in GeneTpms.columns if 'Mean TPM' in c]], on='stable_gene_id', how='left')\n",
    "# Convert to long form df\n",
    "DfQuantified = DfQuantified.melt(id_vars=[c for c in DfQuantified.columns if c not in SampleNames], value_vars=SampleNames, value_name='CPM', var_name='Sample')\n",
    "# Merge with information on librarysize\n",
    "DfQuantified = DfQuantified.merge(DfLibsize[['librarysize', 'SampleName']], left_on='Sample', right_on='SampleName', how='left')\n",
    "DfQuantified.drop(columns=['SampleName'], inplace=True)\n",
    "#  Assign protein to each sample\n",
    "proteinDict = {}\n",
    "for s in DfQuantified.Sample.unique():\n",
    "    if 'LIN28A' in s:\n",
    "        proteinDict[s] = 'LIN28A'\n",
    "    elif '_C1_Lj' in s:\n",
    "        proteinDict[s] = 'PABPC1_Lj'\n",
    "    elif '_C1_Crick' in s:\n",
    "        proteinDict[s] = 'PABPC1_Crick'\n",
    "    elif '_C4_Proteintech' in s:\n",
    "        proteinDict[s] = 'PABPC4_Proteintech'\n",
    "    elif '_C4_Benthyl' in s:\n",
    "        proteinDict[s] = 'PABPC4_Benthyl'\n",
    "    else:\n",
    "        pass\n",
    "DfQuantified['Protein'] = DfQuantified.Sample.map(proteinDict)\n",
    "# For each sample select the right Mean TPM value for normalization\n",
    "conditionDict = {\n",
    "    'S200WT_2iL' : ['LIN28A-WT_ESCiLIF_merged'],\n",
    "    'S200WT_FCL' : [ 'LIN28A-WT_ESC_LIF-CHIR_merged', 'DOX_C1_Crick_merged', 'DOX_C1_Lj_merged', 'DOX_C4_Proteintech_merged', 'DOX_C4_Benthyl_merged',],\n",
    "    'S200A_FCL' : ['LIN28A-S200A_ESC_LIF-CHIR-FGF0220626_MM_1_merged'],\n",
    "    'KO_FCL' : [i for i in DfQuantified.Sample.unique() if 'KO' in i],\n",
    "}\n",
    "condDictRev = {}\n",
    "for k, v in conditionDict.items():\n",
    "    for el in v:\n",
    "        condDictRev[el] = k\n",
    "DfQuantified['Condition'] = DfQuantified.Sample.map(condDictRev)\n",
    "# Based on sample condition, select the relevant Mean TPM value for each sample\n",
    "DfQuantified['Mean TPM'] = DfQuantified.apply(lambda row: row.loc[f'Mean TPM {row.Condition}'], axis='columns')\n",
    "DfQuantified['CPM per TPM'] = DfQuantified['CPM'].div(DfQuantified['Mean TPM'], axis='index')"
   ]
  },
  {
   "cell_type": "code",
   "execution_count": 14,
   "metadata": {},
   "outputs": [],
   "source": [
    "DfQuantified = DfQuantified.merge(geneAnnot, on='stable_gene_id', how='left')\n",
    "DfQuantified.drop(columns=['UtrLength', 'annotation'], inplace=True)\n",
    "DfQuantified['normalizationCoefficient'] = DfQuantified[['librarysize', 'Mean TPM']].apply(lambda row: 10**6 / (row['librarysize'] * row['Mean TPM']), axis='columns')\n",
    "DfQuantified.to_csv(f'{outpath}/QuantifiedClipSignalInSlamseq3UtrsUnfilteredXlCount.tsv', sep='\\t', index=False)\n",
    "DfQuantified = DfQuantified.loc[DfQuantified.minXlCount >= minXls]\n",
    "DfQuantified.to_csv(f'{outpath}/QuantifiedClipSignalInSlamseq3Utrs.tsv', sep='\\t', index=False)\n"
   ]
  },
  {
   "cell_type": "code",
   "execution_count": 15,
   "metadata": {},
   "outputs": [],
   "source": [
    "# Save normalization coefficients for clipplotR\n",
    "genesOfInterest = ['Tfcp2l1', 'Zfp281', 'Esrrb']\n",
    "DfQuantified.loc[DfQuantified.gene_name.isin(genesOfInterest), ['gene_name', 'stable_gene_id', 'Sample', 'Protein', 'Condition', 'Mean TPM', 'normalizationCoefficient']].to_csv(f'../ClipPlotR_v1/GenesOfInterest_normdata.csv', index=False)"
   ]
  },
  {
   "cell_type": "markdown",
   "metadata": {},
   "source": []
  },
  {
   "cell_type": "code",
   "execution_count": null,
   "metadata": {},
   "outputs": [],
   "source": []
  }
 ],
 "metadata": {
  "kernelspec": {
   "display_name": "Python 3.7.12 ('JupyterAnalyses')",
   "language": "python",
   "name": "python3"
  },
  "language_info": {
   "codemirror_mode": {
    "name": "ipython",
    "version": 3
   },
   "file_extension": ".py",
   "mimetype": "text/x-python",
   "name": "python",
   "nbconvert_exporter": "python",
   "pygments_lexer": "ipython3",
   "version": "3.7.12"
  },
  "orig_nbformat": 4,
  "vscode": {
   "interpreter": {
    "hash": "e3a5e41094ab1c702a06c69f12f608a168aa4760d2953e0e9de1278519583907"
   }
  }
 },
 "nbformat": 4,
 "nbformat_minor": 2
}
