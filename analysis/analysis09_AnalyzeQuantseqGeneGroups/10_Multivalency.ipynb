{
 "cells": [
  {
   "cell_type": "code",
   "execution_count": 14,
   "metadata": {},
   "outputs": [],
   "source": [
    "# Compute multivalency of motif trimers in the 3'regions of regulated gene-groups\n",
    "# Get the last 100 nts before the terminal polyA site\n",
    "# Count the number of 3mers motifs in this terminal region in UP / DOWN / CONTROL -  compare the counts between these three groups"
   ]
  },
  {
   "cell_type": "code",
   "execution_count": 15,
   "metadata": {},
   "outputs": [],
   "source": [
    "from glob import glob\n",
    "import pandas as pd\n",
    "import seaborn as sns\n",
    "import pybedtools as pbt\n",
    "import os\n",
    "import sys\n",
    "import matplotlib as mpl\n",
    "from statannotations.Annotator import Annotator"
   ]
  },
  {
   "cell_type": "code",
   "execution_count": 16,
   "metadata": {},
   "outputs": [],
   "source": [
    "def readBed(f):\n",
    "    return pd.read_csv(f, sep='\\t', header=None)\n",
    "\n",
    "def getFeaturesStarts(df):\n",
    "    \"\"\"\n",
    "    Gets starts of input features, returns bed6.\n",
    "    \"\"\"\n",
    "    df.loc[df[5]=='+', 'adj_end'] = df.loc[df[5]=='+', 1]\n",
    "    df.loc[df[5]=='+', 'adj_start'] = df.loc[df[5]=='+', 'adj_end'] - 1\n",
    "    df.loc[df[5]=='-', 'adj_start'] = df.loc[df[5]=='-', 2]\n",
    "    df.loc[df[5]=='-', 'adj_end'] = df.loc[df[5]=='-', 'adj_start'] + 1\n",
    "    df[['adj_start', 'adj_end']] = df[['adj_start', 'adj_end']].astype(int)\n",
    "    bt = pbt.BedTool().from_dataframe(df[[0, 'adj_start', 'adj_end', 3, 4, 5]]).sort()\n",
    "    return bt"
   ]
  },
  {
   "cell_type": "code",
   "execution_count": 17,
   "metadata": {},
   "outputs": [],
   "source": [
    "# import terminal PAS\n",
    "pas_groups = glob('../../data/TerminalPas/terminal_pa_signals_*')\n",
    "# import motif groups\n",
    "motifs = [\n",
    "    '../../results/FindMotifs/full_utrs/motifs_TTT.bed.gz',\n",
    "    '../../results/FindMotifs/full_utrs/motifs_ATT.bed.gz',\n",
    "    '../../results/FindMotifs/full_utrs/motifs_GAT.bed.gz',\n",
    "    '../../results/FindMotifs/full_utrs/motifs_GGA,GGT.bed.gz',\n",
    "    '../../results/FindMotifs/full_utrs/motifs_AAA.bed.gz',\n",
    "]\n",
    "\n",
    "# fasta index\n",
    "fai = '../../data/genomes/Goodwright_m39/GRCm39.primary_assembly.genome.fa.fai'\n",
    "\n",
    "# How many nts before pA are we interested in?\n",
    "w=100\n",
    "\n",
    "# Save to\n",
    "outpath = '../../results/CharacterizationOfQuantseqGroups/Multivalency'\n",
    "os.makedirs(outpath, exist_ok=True)\n",
    "srcOut = '../../results/SourceData/raw_saved/'\n",
    "os.makedirs(srcOut, exist_ok=True)"
   ]
  },
  {
   "cell_type": "code",
   "execution_count": 18,
   "metadata": {},
   "outputs": [
    {
     "data": {
      "text/plain": [
       "['../../data/TerminalPas/terminal_pa_signals_UP.bed.gz',\n",
       " '../../data/TerminalPas/terminal_pa_signals_CONTROL.bed.gz',\n",
       " '../../data/TerminalPas/terminal_pa_signals_DOWN.bed.gz']"
      ]
     },
     "execution_count": 18,
     "metadata": {},
     "output_type": "execute_result"
    }
   ],
   "source": [
    "pas_groups"
   ]
  },
  {
   "cell_type": "code",
   "execution_count": 19,
   "metadata": {},
   "outputs": [],
   "source": [
    "dfCombined = pd.DataFrame()\n",
    "for pas in pas_groups:\n",
    "    # group\n",
    "    g = pas.split('_')[-1].split('.')[0]\n",
    "    # Get regions of interest\n",
    "    bt = getFeaturesStarts(readBed(pas).drop_duplicates())\n",
    "    bt = bt.slop(l=w, r=0, s=True, g=fai).sort()\n",
    "    # map motifs to regions\n",
    "    columns = []\n",
    "    for m in motifs:\n",
    "        bt_m = pbt.BedTool(m).sort()\n",
    "        columns.append(m.split('/')[-1].split('_')[1].split('.')[0])\n",
    "        bt = bt.map(bt_m, s=True, F=.8, c=6, o='count')\n",
    "    dfCounts = bt.to_dataframe(disable_auto_names=True, header=None)\n",
    "    dfCounts.rename(columns=dict(zip(dfCounts.columns.tolist()[6:], columns)), inplace=True)\n",
    "    dfCounts['group'] = g\n",
    "    dfCombined = pd.concat([dfCombined, dfCounts])\n",
    "dfCombined = dfCombined.melt(value_vars=columns, id_vars=[c for c in dfCombined.columns.tolist() if c not in columns], var_name='motif', value_name='count')"
   ]
  },
  {
   "cell_type": "code",
   "execution_count": 20,
   "metadata": {},
   "outputs": [
    {
     "data": {
      "text/html": [
       "<div>\n",
       "<style scoped>\n",
       "    .dataframe tbody tr th:only-of-type {\n",
       "        vertical-align: middle;\n",
       "    }\n",
       "\n",
       "    .dataframe tbody tr th {\n",
       "        vertical-align: top;\n",
       "    }\n",
       "\n",
       "    .dataframe thead th {\n",
       "        text-align: right;\n",
       "    }\n",
       "</style>\n",
       "<table border=\"1\" class=\"dataframe\">\n",
       "  <thead>\n",
       "    <tr style=\"text-align: right;\">\n",
       "      <th></th>\n",
       "      <th>0</th>\n",
       "      <th>1</th>\n",
       "      <th>2</th>\n",
       "      <th>3</th>\n",
       "      <th>4</th>\n",
       "      <th>5</th>\n",
       "      <th>group</th>\n",
       "      <th>count</th>\n",
       "      <th>motif</th>\n",
       "    </tr>\n",
       "  </thead>\n",
       "  <tbody>\n",
       "    <tr>\n",
       "      <th>0</th>\n",
       "      <td>chr1</td>\n",
       "      <td>4843455</td>\n",
       "      <td>4843556</td>\n",
       "      <td>ENSMUSG00000033845</td>\n",
       "      <td>0</td>\n",
       "      <td>-</td>\n",
       "      <td>CONTROL</td>\n",
       "      <td>5</td>\n",
       "      <td>UUU,AUU</td>\n",
       "    </tr>\n",
       "    <tr>\n",
       "      <th>1</th>\n",
       "      <td>chr1</td>\n",
       "      <td>4968005</td>\n",
       "      <td>4968106</td>\n",
       "      <td>ENSMUSG00000033813</td>\n",
       "      <td>0</td>\n",
       "      <td>+</td>\n",
       "      <td>DOWN</td>\n",
       "      <td>11</td>\n",
       "      <td>UUU,AUU</td>\n",
       "    </tr>\n",
       "    <tr>\n",
       "      <th>2</th>\n",
       "      <td>chr1</td>\n",
       "      <td>9617555</td>\n",
       "      <td>9617656</td>\n",
       "      <td>ENSMUSG00000061024</td>\n",
       "      <td>0</td>\n",
       "      <td>+</td>\n",
       "      <td>DOWN</td>\n",
       "      <td>14</td>\n",
       "      <td>UUU,AUU</td>\n",
       "    </tr>\n",
       "    <tr>\n",
       "      <th>3</th>\n",
       "      <td>chr1</td>\n",
       "      <td>10095074</td>\n",
       "      <td>10095175</td>\n",
       "      <td>ENSMUSG00000025917</td>\n",
       "      <td>0</td>\n",
       "      <td>-</td>\n",
       "      <td>CONTROL</td>\n",
       "      <td>4</td>\n",
       "      <td>UUU,AUU</td>\n",
       "    </tr>\n",
       "    <tr>\n",
       "      <th>4</th>\n",
       "      <td>chr1</td>\n",
       "      <td>10206870</td>\n",
       "      <td>10206971</td>\n",
       "      <td>ENSMUSG00000056763</td>\n",
       "      <td>0</td>\n",
       "      <td>+</td>\n",
       "      <td>CONTROL</td>\n",
       "      <td>15</td>\n",
       "      <td>UUU,AUU</td>\n",
       "    </tr>\n",
       "  </tbody>\n",
       "</table>\n",
       "</div>"
      ],
      "text/plain": [
       "      0         1         2                   3  4  5    group  count    motif\n",
       "0  chr1   4843455   4843556  ENSMUSG00000033845  0  -  CONTROL      5  UUU,AUU\n",
       "1  chr1   4968005   4968106  ENSMUSG00000033813  0  +     DOWN     11  UUU,AUU\n",
       "2  chr1   9617555   9617656  ENSMUSG00000061024  0  +     DOWN     14  UUU,AUU\n",
       "3  chr1  10095074  10095175  ENSMUSG00000025917  0  -  CONTROL      4  UUU,AUU\n",
       "4  chr1  10206870  10206971  ENSMUSG00000056763  0  +  CONTROL     15  UUU,AUU"
      ]
     },
     "execution_count": 20,
     "metadata": {},
     "output_type": "execute_result"
    }
   ],
   "source": [
    "# Combine U-rich trimers (sum)\n",
    "dfCombineUrich = dfCombined.loc[dfCombined.motif.isin(['TTT', 'ATT'])].groupby([0, 1, 2, 3, 4, 5, 'group'], as_index=True).sum()['count'].reset_index()\n",
    "dfCombineUrich['motif'] = 'UUU,AUU'\n",
    "# Remove individual trimers from original dataframe\n",
    "dfCombined = dfCombined.loc[~dfCombined.motif.isin(['TTT', 'ATT'])]\n",
    "dfCombineUrich.head()"
   ]
  },
  {
   "cell_type": "code",
   "execution_count": 21,
   "metadata": {},
   "outputs": [],
   "source": [
    "dfCombined = pd.concat([dfCombined, dfCombineUrich[dfCombined.columns.tolist()]])"
   ]
  },
  {
   "cell_type": "code",
   "execution_count": 22,
   "metadata": {},
   "outputs": [
    {
     "data": {
      "text/plain": [
       "motif    group  \n",
       "AAA      CONTROL    2126\n",
       "         DOWN       1002\n",
       "         UP          778\n",
       "GAT      CONTROL    2126\n",
       "         DOWN       1002\n",
       "         UP          778\n",
       "GGA,GGT  CONTROL    2126\n",
       "         DOWN       1002\n",
       "         UP          778\n",
       "UUU,AUU  CONTROL    2126\n",
       "         DOWN       1002\n",
       "         UP          778\n",
       "Name: 0, dtype: int64"
      ]
     },
     "execution_count": 22,
     "metadata": {},
     "output_type": "execute_result"
    }
   ],
   "source": [
    "dfCombined.groupby(['motif', 'group']).count()[0]"
   ]
  },
  {
   "cell_type": "code",
   "execution_count": 23,
   "metadata": {},
   "outputs": [
    {
     "name": "stdout",
     "output_type": "stream",
     "text": [
      "GGA,GGT\n",
      "DOWN vs. CONTROL: Mann-Whitney-Wilcoxon test two-sided, P_val:1.897e-11 U_stat=9.096e+05\n",
      "CONTROL vs. UP: Mann-Whitney-Wilcoxon test two-sided, P_val:2.270e-02 U_stat=7.821e+05\n",
      "GAT\n",
      "DOWN vs. CONTROL: Mann-Whitney-Wilcoxon test two-sided, P_val:6.194e-01 U_stat=1.076e+06\n",
      "CONTROL vs. UP: Mann-Whitney-Wilcoxon test two-sided, P_val:2.462e-01 U_stat=8.492e+05\n",
      "UUU,AUU\n",
      "DOWN vs. CONTROL: Mann-Whitney-Wilcoxon test two-sided, P_val:4.306e-25 U_stat=1.308e+06\n",
      "CONTROL vs. UP: Mann-Whitney-Wilcoxon test two-sided, P_val:1.264e-17 U_stat=9.975e+05\n",
      "AAA\n",
      "DOWN vs. CONTROL: Mann-Whitney-Wilcoxon test two-sided, P_val:3.074e-19 U_stat=1.274e+06\n",
      "CONTROL vs. UP: Mann-Whitney-Wilcoxon test two-sided, P_val:1.005e-09 U_stat=9.474e+05\n"
     ]
    },
    {
     "data": {
      "image/png": "[encoded data removed]",
      "text/plain": [
       "<Figure size 1000x500 with 4 Axes>"
      ]
     },
     "metadata": {},
     "output_type": "display_data"
    }
   ],
   "source": [
    "g = sns.catplot(\n",
    "    data=dfCombined, kind='box', col='motif',\n",
    "    x='group', y='count', order=['DOWN', 'CONTROL', 'UP'], showfliers=True,\n",
    "    sharey=True, aspect=.5, saturation=1, **{'boxprops': {'facecolor': mpl.colors.to_rgba('#ffa62b', alpha=.7)},\n",
    "    'flierprops':{'marker':'d', 'markerfacecolor':'black', 'markersize':4,  'markeredgecolor': 'black'}},\n",
    "    col_order=['GGA,GGT', 'GAT', 'UUU,AUU', 'AAA']\n",
    "    )\n",
    "\n",
    "\n",
    "pairs = [('DOWN', 'CONTROL'), ('CONTROL', 'UP')]\n",
    "\n",
    "for id, ax in g.axes_dict.items():\n",
    "    print(id)\n",
    "    # subset the table otherwise the stats were calculated on the whole dataset\n",
    "    annot = Annotator(\n",
    "        ax, pairs,data=dfCombined.loc[dfCombined['motif']==id,:], x='group',  y='count', order=['DOWN', 'CONTROL', 'UP'],\n",
    "        )\n",
    "    annot.configure(test='Mann-Whitney', text_format='full', loc='inside')\n",
    "    _, corrected_results = annot.apply_and_annotate()\n",
    "\n",
    "\n",
    "g.fig.savefig(f'{outpath}/trimer_counts_{w}_upstream_of_PAS.pdf', bbox_inches='tight')"
   ]
  },
  {
   "cell_type": "code",
   "execution_count": 24,
   "metadata": {},
   "outputs": [
    {
     "data": {
      "text/plain": [
       "group\n",
       "CONTROL    5.0\n",
       "DOWN       8.0\n",
       "UP         3.5\n",
       "Name: count, dtype: float64"
      ]
     },
     "execution_count": 24,
     "metadata": {},
     "output_type": "execute_result"
    }
   ],
   "source": [
    "dfCombined.loc[dfCombined.motif=='UUU,AUU'].groupby('group').median()['count']"
   ]
  },
  {
   "cell_type": "code",
   "execution_count": 27,
   "metadata": {},
   "outputs": [],
   "source": [
    "# Save source data\n",
    "dfSrc = dfCombined.copy()\n",
    "# Name columns\n",
    "dfSrc.columns = ['chrom', 'start', 'end', 'geneId', 'score', 'strand', 'gene group', '3mer', f'3mer count in region ({w}nt upstream of PAS)']\n",
    "# Drop score column and save\n",
    "dfSrc.drop('score', axis=1).to_csv(f'{srcOut}/3merCounts_{w}ntUpstreamOfPas.csv', index=False)"
   ]
  },
  {
   "cell_type": "code",
   "execution_count": null,
   "metadata": {},
   "outputs": [],
   "source": []
  }
 ],
 "metadata": {
  "kernelspec": {
   "display_name": "Python 3.7.12 ('JupyterAnalyses')",
   "language": "python",
   "name": "python3"
  },
  "language_info": {
   "codemirror_mode": {
    "name": "ipython",
    "version": 3
   },
   "file_extension": ".py",
   "mimetype": "text/x-python",
   "name": "python",
   "nbconvert_exporter": "python",
   "pygments_lexer": "ipython3",
   "version": "3.7.12"
  },
  "orig_nbformat": 4,
  "vscode": {
   "interpreter": {
    "hash": "3c462914f8e57552fc47cdaa98231bebd40f7b993532231b14ce4e52f57858dd"
   }
  }
 },
 "nbformat": 4,
 "nbformat_minor": 2
}
