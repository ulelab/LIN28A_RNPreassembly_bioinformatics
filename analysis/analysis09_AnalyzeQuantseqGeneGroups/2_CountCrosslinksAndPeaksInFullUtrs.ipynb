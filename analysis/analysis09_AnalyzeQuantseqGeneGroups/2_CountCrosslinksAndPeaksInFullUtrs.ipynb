{
 "cells": [
  {
   "cell_type": "code",
   "execution_count": 1,
   "metadata": {},
   "outputs": [],
   "source": [
    "import pandas as pd\n",
    "import pybedtools as pbt\n",
    "from glob import glob\n",
    "import os"
   ]
  },
  {
   "cell_type": "code",
   "execution_count": 2,
   "metadata": {},
   "outputs": [],
   "source": [
    "# regions\n",
    "QuantseqBed = pbt.BedTool('../../results/GeneGroups_Quantseq/3UtrLoci/QuantseqGroups.bed').sort()\n",
    "QuantifiedPeaks = QuantseqBed\n",
    "\n",
    "# Crosslink files - merged replicates\n",
    "# Crosslink bed files\n",
    "rawBed = sorted(glob('../../data/LIN28_220626_results/Crosslinks/*bed*'))\n",
    "rawBedPabpc1 = sorted(glob('../../data/Pabpc1Pabpc4Iclip_2022/Crosslinks/*.bed.gz'))\n",
    "rawBedPabpc1Naive = sorted(glob('../../data/Pabpc1Crosslinks/*DKO*.bed.gz'))\n",
    "rawBed = rawBed + rawBedPabpc1 + rawBedPabpc1Naive\n",
    "\n",
    "rawPeaks = sorted(glob('../../data/LIN28_220626_results/ClippyPeaks/*bed*'))\n",
    "\n",
    "\n",
    "outpath = '../../results/GeneGroups_Quantseq/3UtrLoci/'\n",
    "os.makedirs(outpath, exist_ok=True)"
   ]
  },
  {
   "cell_type": "code",
   "execution_count": 3,
   "metadata": {},
   "outputs": [
    {
     "name": "stdout",
     "output_type": "stream",
     "text": [
      "../../data/LIN28_220626_results/Crosslinks/LIN28A-S200A_ESC_LIF-CHIR-FGF0220626_MM_1.bed.gz\n"
     ]
    },
    {
     "name": "stderr",
     "output_type": "stream",
     "text": [
      "***** WARNING: File /tmp/pybedtools.uk58ccwe.tmp has inconsistent naming convention for record:\n",
      "GL456210.1\t25544\t25545\t.\t1\t+\n",
      "\n",
      "***** WARNING: File /tmp/pybedtools.uk58ccwe.tmp has inconsistent naming convention for record:\n",
      "GL456210.1\t25544\t25545\t.\t1\t+\n",
      "\n"
     ]
    },
    {
     "name": "stdout",
     "output_type": "stream",
     "text": [
      "../../data/LIN28_220626_results/Crosslinks/LIN28A-WT_ESC_LIF-CHIR-FGF0220626_MM_1.bed.gz\n"
     ]
    },
    {
     "name": "stderr",
     "output_type": "stream",
     "text": [
      "***** WARNING: File /tmp/pybedtools.w5m2k8lk.tmp has inconsistent naming convention for record:\n",
      "GL456211.1\t109327\t109328\t.\t1\t+\n",
      "\n",
      "***** WARNING: File /tmp/pybedtools.w5m2k8lk.tmp has inconsistent naming convention for record:\n",
      "GL456211.1\t109327\t109328\t.\t1\t+\n",
      "\n"
     ]
    },
    {
     "name": "stdout",
     "output_type": "stream",
     "text": [
      "../../data/LIN28_220626_results/Crosslinks/LIN28A-WT_ESC_LIF-CHIR-FGF0220626_MM_2.bed.gz\n"
     ]
    },
    {
     "name": "stderr",
     "output_type": "stream",
     "text": [
      "***** WARNING: File /tmp/pybedtools.y281m7e6.tmp has inconsistent naming convention for record:\n",
      "GL456210.1\t18380\t18381\t.\t1\t-\n",
      "\n",
      "***** WARNING: File /tmp/pybedtools.y281m7e6.tmp has inconsistent naming convention for record:\n",
      "GL456210.1\t18380\t18381\t.\t1\t-\n",
      "\n"
     ]
    },
    {
     "name": "stdout",
     "output_type": "stream",
     "text": [
      "../../data/LIN28_220626_results/Crosslinks/LIN28A-WT_ESCiLIF-OLD0220626_MM.bed.gz\n"
     ]
    },
    {
     "name": "stderr",
     "output_type": "stream",
     "text": [
      "***** WARNING: File /tmp/pybedtools.yedht___.tmp has inconsistent naming convention for record:\n",
      "GL456210.1\t29913\t29914\t.\t1\t-\n",
      "\n",
      "***** WARNING: File /tmp/pybedtools.yedht___.tmp has inconsistent naming convention for record:\n",
      "GL456210.1\t29913\t29914\t.\t1\t-\n",
      "\n"
     ]
    },
    {
     "name": "stdout",
     "output_type": "stream",
     "text": [
      "../../data/LIN28_220626_results/Crosslinks/LIN28A-WT_ESCiLIF0220626_MM_1.bed.gz\n"
     ]
    },
    {
     "name": "stderr",
     "output_type": "stream",
     "text": [
      "***** WARNING: File /tmp/pybedtools.hw42zvco.tmp has inconsistent naming convention for record:\n",
      "GL456210.1\t3468\t3469\t.\t1\t+\n",
      "\n",
      "***** WARNING: File /tmp/pybedtools.hw42zvco.tmp has inconsistent naming convention for record:\n",
      "GL456210.1\t3468\t3469\t.\t1\t+\n",
      "\n"
     ]
    },
    {
     "name": "stdout",
     "output_type": "stream",
     "text": [
      "../../data/LIN28_220626_results/Crosslinks/LIN28A-WT_ESCiLIF0220626_MM_2.bed.gz\n"
     ]
    },
    {
     "name": "stderr",
     "output_type": "stream",
     "text": [
      "***** WARNING: File /tmp/pybedtools.0q8qonu5.tmp has inconsistent naming convention for record:\n",
      "GL456210.1\t22937\t22938\t.\t1\t+\n",
      "\n",
      "***** WARNING: File /tmp/pybedtools.0q8qonu5.tmp has inconsistent naming convention for record:\n",
      "GL456210.1\t22937\t22938\t.\t1\t+\n",
      "\n"
     ]
    },
    {
     "name": "stdout",
     "output_type": "stream",
     "text": [
      "../../data/Pabpc1Pabpc4Iclip_2022/Crosslinks/DOX_C1_Crick1.bed.gz\n"
     ]
    },
    {
     "name": "stderr",
     "output_type": "stream",
     "text": [
      "***** WARNING: File /tmp/pybedtools.m39s_o86.tmp has inconsistent naming convention for record:\n",
      "GL456210.1\t27182\t27183\t.\t1\t-\n",
      "\n",
      "***** WARNING: File /tmp/pybedtools.m39s_o86.tmp has inconsistent naming convention for record:\n",
      "GL456210.1\t27182\t27183\t.\t1\t-\n",
      "\n"
     ]
    },
    {
     "name": "stdout",
     "output_type": "stream",
     "text": [
      "../../data/Pabpc1Pabpc4Iclip_2022/Crosslinks/DOX_C1_Crick2.bed.gz\n"
     ]
    },
    {
     "name": "stderr",
     "output_type": "stream",
     "text": [
      "***** WARNING: File /tmp/pybedtools.hxtrlzzy.tmp has inconsistent naming convention for record:\n",
      "GL456210.1\t3710\t3711\t.\t1\t+\n",
      "\n",
      "***** WARNING: File /tmp/pybedtools.hxtrlzzy.tmp has inconsistent naming convention for record:\n",
      "GL456210.1\t3710\t3711\t.\t1\t+\n",
      "\n"
     ]
    },
    {
     "name": "stdout",
     "output_type": "stream",
     "text": [
      "../../data/Pabpc1Pabpc4Iclip_2022/Crosslinks/DOX_C4_Benthyl_1.bed.gz\n"
     ]
    },
    {
     "name": "stderr",
     "output_type": "stream",
     "text": [
      "***** WARNING: File /tmp/pybedtools.yh303wp7.tmp has inconsistent naming convention for record:\n",
      "GL456210.1\t32770\t32771\t.\t1\t-\n",
      "\n",
      "***** WARNING: File /tmp/pybedtools.yh303wp7.tmp has inconsistent naming convention for record:\n",
      "GL456210.1\t32770\t32771\t.\t1\t-\n",
      "\n"
     ]
    },
    {
     "name": "stdout",
     "output_type": "stream",
     "text": [
      "../../data/Pabpc1Pabpc4Iclip_2022/Crosslinks/DOX_C4_Benthyl_2.bed.gz\n"
     ]
    },
    {
     "name": "stderr",
     "output_type": "stream",
     "text": [
      "***** WARNING: File /tmp/pybedtools.w5rhz9d6.tmp has inconsistent naming convention for record:\n",
      "GL456210.1\t155775\t155776\t.\t1\t+\n",
      "\n",
      "***** WARNING: File /tmp/pybedtools.w5rhz9d6.tmp has inconsistent naming convention for record:\n",
      "GL456210.1\t155775\t155776\t.\t1\t+\n",
      "\n"
     ]
    },
    {
     "name": "stdout",
     "output_type": "stream",
     "text": [
      "../../data/Pabpc1Pabpc4Iclip_2022/Crosslinks/DOX_C4_Proteintech_1.bed.gz\n"
     ]
    },
    {
     "name": "stderr",
     "output_type": "stream",
     "text": [
      "***** WARNING: File /tmp/pybedtools.gklyxnh5.tmp has inconsistent naming convention for record:\n",
      "GL456210.1\t2379\t2380\t.\t1\t+\n",
      "\n",
      "***** WARNING: File /tmp/pybedtools.gklyxnh5.tmp has inconsistent naming convention for record:\n",
      "GL456210.1\t2379\t2380\t.\t1\t+\n",
      "\n"
     ]
    },
    {
     "name": "stdout",
     "output_type": "stream",
     "text": [
      "../../data/Pabpc1Pabpc4Iclip_2022/Crosslinks/DOX_C4_Proteintech_2.bed.gz\n"
     ]
    },
    {
     "name": "stderr",
     "output_type": "stream",
     "text": [
      "***** WARNING: File /tmp/pybedtools._wc45ljc.tmp has inconsistent naming convention for record:\n",
      "GL456210.1\t1353\t1354\t.\t1\t+\n",
      "\n",
      "***** WARNING: File /tmp/pybedtools._wc45ljc.tmp has inconsistent naming convention for record:\n",
      "GL456210.1\t1353\t1354\t.\t1\t+\n",
      "\n"
     ]
    },
    {
     "name": "stdout",
     "output_type": "stream",
     "text": [
      "../../data/Pabpc1Pabpc4Iclip_2022/Crosslinks/KO_C1_Crick1.bed.gz\n"
     ]
    },
    {
     "name": "stderr",
     "output_type": "stream",
     "text": [
      "***** WARNING: File /tmp/pybedtools.hts_xz22.tmp has inconsistent naming convention for record:\n",
      "GL456210.1\t2591\t2592\t.\t1\t-\n",
      "\n",
      "***** WARNING: File /tmp/pybedtools.hts_xz22.tmp has inconsistent naming convention for record:\n",
      "GL456210.1\t2591\t2592\t.\t1\t-\n",
      "\n"
     ]
    },
    {
     "name": "stdout",
     "output_type": "stream",
     "text": [
      "../../data/Pabpc1Pabpc4Iclip_2022/Crosslinks/KO_C1_Crick2.bed.gz\n"
     ]
    },
    {
     "name": "stderr",
     "output_type": "stream",
     "text": [
      "***** WARNING: File /tmp/pybedtools.qceyhmzy.tmp has inconsistent naming convention for record:\n",
      "GL456210.1\t18286\t18287\t.\t1\t-\n",
      "\n",
      "***** WARNING: File /tmp/pybedtools.qceyhmzy.tmp has inconsistent naming convention for record:\n",
      "GL456210.1\t18286\t18287\t.\t1\t-\n",
      "\n"
     ]
    },
    {
     "name": "stdout",
     "output_type": "stream",
     "text": [
      "../../data/Pabpc1Pabpc4Iclip_2022/Crosslinks/KO_C4_Benthyl_1.bed.gz\n"
     ]
    },
    {
     "name": "stderr",
     "output_type": "stream",
     "text": [
      "***** WARNING: File /tmp/pybedtools.4lost7gi.tmp has inconsistent naming convention for record:\n",
      "GL456210.1\t102680\t102681\t.\t1\t+\n",
      "\n",
      "***** WARNING: File /tmp/pybedtools.4lost7gi.tmp has inconsistent naming convention for record:\n",
      "GL456210.1\t102680\t102681\t.\t1\t+\n",
      "\n"
     ]
    },
    {
     "name": "stdout",
     "output_type": "stream",
     "text": [
      "../../data/Pabpc1Pabpc4Iclip_2022/Crosslinks/KO_C4_Benthyl_2.bed.gz\n"
     ]
    },
    {
     "name": "stderr",
     "output_type": "stream",
     "text": [
      "***** WARNING: File /tmp/pybedtools.m7insk5d.tmp has inconsistent naming convention for record:\n",
      "GL456210.1\t2465\t2466\t.\t9\t-\n",
      "\n",
      "***** WARNING: File /tmp/pybedtools.m7insk5d.tmp has inconsistent naming convention for record:\n",
      "GL456210.1\t2465\t2466\t.\t9\t-\n",
      "\n"
     ]
    },
    {
     "name": "stdout",
     "output_type": "stream",
     "text": [
      "../../data/Pabpc1Pabpc4Iclip_2022/Crosslinks/KO_C4_Proteintech_1.bed.gz\n"
     ]
    },
    {
     "name": "stderr",
     "output_type": "stream",
     "text": [
      "***** WARNING: File /tmp/pybedtools.m157jn33.tmp has inconsistent naming convention for record:\n",
      "GL456210.1\t2590\t2591\t.\t1\t-\n",
      "\n",
      "***** WARNING: File /tmp/pybedtools.m157jn33.tmp has inconsistent naming convention for record:\n",
      "GL456210.1\t2590\t2591\t.\t1\t-\n",
      "\n"
     ]
    },
    {
     "name": "stdout",
     "output_type": "stream",
     "text": [
      "../../data/Pabpc1Pabpc4Iclip_2022/Crosslinks/KO_C4_Proteintech_2.bed.gz\n"
     ]
    },
    {
     "name": "stderr",
     "output_type": "stream",
     "text": [
      "***** WARNING: File /tmp/pybedtools.65ky_m9j.tmp has inconsistent naming convention for record:\n",
      "GL456210.1\t2465\t2466\t.\t6\t-\n",
      "\n",
      "***** WARNING: File /tmp/pybedtools.65ky_m9j.tmp has inconsistent naming convention for record:\n",
      "GL456210.1\t2465\t2466\t.\t6\t-\n",
      "\n"
     ]
    },
    {
     "name": "stdout",
     "output_type": "stream",
     "text": [
      "../../data/Pabpc1Crosslinks/PABPC1_ESC_DKO_doxGFPLin28A_grouped_cdna_mm39.bed.gz\n",
      "../../data/Pabpc1Crosslinks/PABPC1_ESC_DKO_nodox_grouped_cdna_mm39.bed.gz\n"
     ]
    }
   ],
   "source": [
    "# Map xl counts to slamseq regions\n",
    "for f in rawBed:\n",
    "    print(f)\n",
    "    QuantseqBed = QuantseqBed.map(pbt.BedTool(f).sort(), s=True, c=5, o='sum', null=0)"
   ]
  },
  {
   "cell_type": "code",
   "execution_count": 4,
   "metadata": {},
   "outputs": [
    {
     "name": "stdout",
     "output_type": "stream",
     "text": [
      "../../data/LIN28_220626_results/ClippyPeaks/LIN28A-S200A_ESC_LIF-CHIR-FGF0220626_MM_1_rollmean10_stdev1_minGeneCount5_Peaks.bed.gz\n",
      "../../data/LIN28_220626_results/ClippyPeaks/LIN28A-WT_ESC_LIF-CHIR-FGF0220626_MM_1_rollmean10_stdev1_minGeneCount5_Peaks.bed.gz\n",
      "../../data/LIN28_220626_results/ClippyPeaks/LIN28A-WT_ESC_LIF-CHIR-FGF0220626_MM_2_rollmean10_stdev1_minGeneCount5_Peaks.bed.gz\n"
     ]
    },
    {
     "name": "stderr",
     "output_type": "stream",
     "text": [
      "***** WARNING: File /tmp/pybedtools.6eeh2x6y.tmp has inconsistent naming convention for record:\n",
      "JH584304.1\t53536\t53555\t-\t6\t-\n",
      "\n",
      "***** WARNING: File /tmp/pybedtools.6eeh2x6y.tmp has inconsistent naming convention for record:\n",
      "JH584304.1\t53536\t53555\t-\t6\t-\n",
      "\n",
      "***** WARNING: File /tmp/pybedtools.0ful3joy.tmp has inconsistent naming convention for record:\n",
      "JH584304.1\t54374\t54384\t-\t5\t-\n",
      "\n",
      "***** WARNING: File /tmp/pybedtools.0ful3joy.tmp has inconsistent naming convention for record:\n",
      "JH584304.1\t54374\t54384\t-\t5\t-\n",
      "\n",
      "***** WARNING: File /tmp/pybedtools.buo53nju.tmp has inconsistent naming convention for record:\n",
      "JH584304.1\t53535\t53547\t-\t6\t-\n",
      "\n",
      "***** WARNING: File /tmp/pybedtools.buo53nju.tmp has inconsistent naming convention for record:\n",
      "JH584304.1\t53535\t53547\t-\t6\t-\n",
      "\n"
     ]
    },
    {
     "name": "stdout",
     "output_type": "stream",
     "text": [
      "../../data/LIN28_220626_results/ClippyPeaks/LIN28A-WT_ESCiLIF-OLD0220626_MM_rollmean10_stdev1_minGeneCount5_Peaks.bed.gz\n"
     ]
    },
    {
     "name": "stderr",
     "output_type": "stream",
     "text": [
      "***** WARNING: File /tmp/pybedtools.kydvhamy.tmp has inconsistent naming convention for record:\n",
      "JH584304.1\t52819\t52837\t-\t5\t-\n",
      "\n",
      "***** WARNING: File /tmp/pybedtools.kydvhamy.tmp has inconsistent naming convention for record:\n",
      "JH584304.1\t52819\t52837\t-\t5\t-\n",
      "\n"
     ]
    },
    {
     "name": "stdout",
     "output_type": "stream",
     "text": [
      "../../data/LIN28_220626_results/ClippyPeaks/LIN28A-WT_ESCiLIF0220626_MM_1_rollmean10_stdev1_minGeneCount5_Peaks.bed.gz\n"
     ]
    },
    {
     "name": "stderr",
     "output_type": "stream",
     "text": [
      "***** WARNING: File /tmp/pybedtools.i0bzcqg2.tmp has inconsistent naming convention for record:\n",
      "JH584304.1\t53370\t53381\t-\t6\t-\n",
      "\n",
      "***** WARNING: File /tmp/pybedtools.i0bzcqg2.tmp has inconsistent naming convention for record:\n",
      "JH584304.1\t53370\t53381\t-\t6\t-\n",
      "\n"
     ]
    },
    {
     "name": "stdout",
     "output_type": "stream",
     "text": [
      "../../data/LIN28_220626_results/ClippyPeaks/LIN28A-WT_ESCiLIF0220626_MM_2_rollmean10_stdev1_minGeneCount5_Peaks.bed.gz\n"
     ]
    },
    {
     "name": "stderr",
     "output_type": "stream",
     "text": [
      "***** WARNING: File /tmp/pybedtools.r_pbv7by.tmp has inconsistent naming convention for record:\n",
      "JH584304.1\t52824\t52837\t-\t5\t-\n",
      "\n",
      "***** WARNING: File /tmp/pybedtools.r_pbv7by.tmp has inconsistent naming convention for record:\n",
      "JH584304.1\t52824\t52837\t-\t5\t-\n",
      "\n"
     ]
    }
   ],
   "source": [
    "# Map xl counts to slamseq regions\n",
    "for f in rawPeaks:\n",
    "    print(f)\n",
    "    QuantifiedPeaks = QuantifiedPeaks.map(pbt.BedTool(f).sort(), s=True, c=1, o='count', null=0)"
   ]
  },
  {
   "cell_type": "code",
   "execution_count": 5,
   "metadata": {},
   "outputs": [],
   "source": [
    "PeakNames = [f.split('/')[-1] for f in rawPeaks]\n",
    "naiveLin = [s for s in PeakNames if 'ESCiLIF' in s]\n",
    "primedLin = [s for s in PeakNames if 'LIN28A-WT_ESC_LIF-CHIR' in s]\n",
    "# Convert to df\n",
    "DfQuantifiedPeaks = QuantifiedPeaks.to_dataframe(header=None, names=['chrom', 'start', 'end', 'name', 'score', 'strand', 'annotation'] + PeakNames)\n",
    "DfQuantifiedPeaks['stable_gene_id'] = DfQuantifiedPeaks.annotation.apply(lambda x: x.split('_')[-1])\n",
    "# Determine if 3UTR is bound or unbound by LIN28A in naive state (min 1 peak in all three naive samples)\n",
    "DfQuantifiedPeaks['BoundInNaiveClip'] = DfQuantifiedPeaks[naiveLin].apply(lambda row: 'BOUND' if row.min() >= 1 else 'UNBOUND', axis='columns')\n",
    "DfQuantifiedPeaks['BoundInPrimedClip'] = DfQuantifiedPeaks[primedLin].apply(lambda row: 'BOUND' if row.min() >= 1 else 'UNBOUND', axis='columns')\n",
    "\n",
    "DfQuantifiedPeaks.to_csv(f'{outpath}/QuantseqGroups_QuantifiedPeaks.tsv', sep='\\t')"
   ]
  },
  {
   "cell_type": "code",
   "execution_count": 6,
   "metadata": {},
   "outputs": [],
   "source": [
    "# Convert to df\n",
    "SampleNames = [f.split('/')[-1] for f in rawBed]\n",
    "DfQuantified = QuantseqBed.to_dataframe(header=None, names=['chrom', 'start', 'end', 'name', 'score', 'strand', 'annotation'] + SampleNames)\n",
    "# # Add one crosslink to all counts to mitigate zero-division error\n",
    "# DfQuantified[SampleNames] = DfQuantified[SampleNames] + 1\n",
    "DfQuantified['stable_gene_id'] = DfQuantified.annotation.apply(lambda x: x.split('_')[-1])\n",
    "DfQuantifiedRaw = DfQuantified.copy()\n",
    "DfQuantified.to_csv(f'{outpath}/QuantseqGroups_QuantifiedCrosslinks.tsv', sep='\\t')"
   ]
  },
  {
   "cell_type": "code",
   "execution_count": 7,
   "metadata": {},
   "outputs": [],
   "source": [
    "# Save libsize for each sample\n",
    "rows = []\n",
    "for f in rawBed:\n",
    "    df = pd.read_csv(f, sep='\\t', header=None)\n",
    "    rows.append([f.split('/')[-1], df[4].sum()])\n",
    "DfLibsize = pd.DataFrame(rows, columns=['Sample', 'Libsize'])\n",
    "DfLibsize.to_csv('../../data/general/SampleLibrarySizes.csv')"
   ]
  },
  {
   "cell_type": "code",
   "execution_count": 8,
   "metadata": {},
   "outputs": [
    {
     "data": {
      "text/html": [
       "<div>\n",
       "<style scoped>\n",
       "    .dataframe tbody tr th:only-of-type {\n",
       "        vertical-align: middle;\n",
       "    }\n",
       "\n",
       "    .dataframe tbody tr th {\n",
       "        vertical-align: top;\n",
       "    }\n",
       "\n",
       "    .dataframe thead th {\n",
       "        text-align: right;\n",
       "    }\n",
       "</style>\n",
       "<table border=\"1\" class=\"dataframe\">\n",
       "  <thead>\n",
       "    <tr style=\"text-align: right;\">\n",
       "      <th></th>\n",
       "      <th>Sample</th>\n",
       "      <th>Libsize</th>\n",
       "    </tr>\n",
       "  </thead>\n",
       "  <tbody>\n",
       "    <tr>\n",
       "      <th>0</th>\n",
       "      <td>LIN28A-S200A_ESC_LIF-CHIR-FGF0220626_MM_1.bed.gz</td>\n",
       "      <td>1131336</td>\n",
       "    </tr>\n",
       "    <tr>\n",
       "      <th>1</th>\n",
       "      <td>LIN28A-WT_ESC_LIF-CHIR-FGF0220626_MM_1.bed.gz</td>\n",
       "      <td>1895773</td>\n",
       "    </tr>\n",
       "    <tr>\n",
       "      <th>2</th>\n",
       "      <td>LIN28A-WT_ESC_LIF-CHIR-FGF0220626_MM_2.bed.gz</td>\n",
       "      <td>2261240</td>\n",
       "    </tr>\n",
       "    <tr>\n",
       "      <th>3</th>\n",
       "      <td>LIN28A-WT_ESCiLIF-OLD0220626_MM.bed.gz</td>\n",
       "      <td>7688620</td>\n",
       "    </tr>\n",
       "    <tr>\n",
       "      <th>4</th>\n",
       "      <td>LIN28A-WT_ESCiLIF0220626_MM_1.bed.gz</td>\n",
       "      <td>4912217</td>\n",
       "    </tr>\n",
       "  </tbody>\n",
       "</table>\n",
       "</div>"
      ],
      "text/plain": [
       "                                             Sample  Libsize\n",
       "0  LIN28A-S200A_ESC_LIF-CHIR-FGF0220626_MM_1.bed.gz  1131336\n",
       "1     LIN28A-WT_ESC_LIF-CHIR-FGF0220626_MM_1.bed.gz  1895773\n",
       "2     LIN28A-WT_ESC_LIF-CHIR-FGF0220626_MM_2.bed.gz  2261240\n",
       "3            LIN28A-WT_ESCiLIF-OLD0220626_MM.bed.gz  7688620\n",
       "4              LIN28A-WT_ESCiLIF0220626_MM_1.bed.gz  4912217"
      ]
     },
     "execution_count": 8,
     "metadata": {},
     "output_type": "execute_result"
    }
   ],
   "source": [
    "DfLibsize.head()"
   ]
  },
  {
   "cell_type": "code",
   "execution_count": null,
   "metadata": {},
   "outputs": [],
   "source": []
  }
 ],
 "metadata": {
  "kernelspec": {
   "display_name": "Python 3.10.12 64-bit",
   "language": "python",
   "name": "python3"
  },
  "language_info": {
   "codemirror_mode": {
    "name": "ipython",
    "version": 3
   },
   "file_extension": ".py",
   "mimetype": "text/x-python",
   "name": "python",
   "nbconvert_exporter": "python",
   "pygments_lexer": "ipython3",
   "version": "3.10.12"
  },
  "orig_nbformat": 4,
  "vscode": {
   "interpreter": {
    "hash": "31f2aee4e71d21fbe5cf8b01ff0e069b9275f58929596ceb00d14d90e3e16cd6"
   }
  }
 },
 "nbformat": 4,
 "nbformat_minor": 2
}
